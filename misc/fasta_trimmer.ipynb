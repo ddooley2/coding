{
 "metadata": {
  "orig_nbformat": 2,
  "kernelspec": {
   "name": "python386jvsc74a57bd08b380722fd2cc8048bf4f72fe26649ffc2fc4347b88d0b1d2a708dd5639d43c1",
   "display_name": "Python 3.8.6 64-bit ('env': venv)"
  }
 },
 "nbformat": 4,
 "nbformat_minor": 2,
 "cells": [
  {
   "cell_type": "code",
   "execution_count": 1,
   "metadata": {},
   "outputs": [],
   "source": [
    "from Bio import SeqIO\n",
    "import os"
   ]
  },
  {
   "cell_type": "code",
   "execution_count": 2,
   "metadata": {},
   "outputs": [
    {
     "output_type": "stream",
     "name": "stdout",
     "text": [
      "/Users/ddooley/coding/git_coding/misc/arabidopsis.fna\n"
     ]
    }
   ],
   "source": [
    "myfile = input(\"Please enter the name of your fasta file:\")\n",
    "filename = os.getcwd() + \"/\" + myfile\n",
    "print(filename)"
   ]
  },
  {
   "cell_type": "code",
   "execution_count": 5,
   "metadata": {},
   "outputs": [],
   "source": [
    "desired_len = input(\"\\nPlease enter the desired length of fasta file (in base pairs):\").strip()"
   ]
  },
  {
   "cell_type": "code",
   "execution_count": 6,
   "metadata": {
    "tags": []
   },
   "outputs": [
    {
     "output_type": "stream",
     "name": "stdout",
     "text": [
      "Error, genome is too small for the desired length.\n"
     ]
    }
   ],
   "source": [
    "seq_records = SeqIO.parse(filename,'fasta')\n",
    "counter = 0 ### Initialize counter\n",
    "seqs = []\n",
    "org_len = sum([len(x.seq) for x in seq_records]) ### Get organism length\n",
    "\n",
    "if org_len < int(float(desired_len)):\n",
    "    print(\"Error, genome is too small for the desired length.\")\n",
    "    cont_bool = False\n",
    "else:\n",
    "    cont_bool =True\n",
    "\n",
    "seq_records = SeqIO.parse(filename,'fasta') ### Fetch the iterator again to reset order (?)\n",
    "if cont_bool:\n",
    "    for record in seq_records:\n",
    "        seq_len = len(record.seq)\n",
    "        counter += seq_len\n",
    "        if counter > int(float(desired_len)):\n",
    "            diff = counter-int(float(desired_len))\n",
    "            record.seq = record.seq[0:(seq_len-diff)] ### Only take enough of the sequence to get you to desired length\n",
    "            seqs.append(record)\n",
    "            break ### Break out of loop\n",
    "        else: ### If counter <= desired_len\n",
    "            seqs.append(record)\n",
    "    with open(\"output_\"+str(desired_len)+\".fasta\",\"w+\") as f:\n",
    "        SeqIO.write(seqs,f,\"fasta\")"
   ]
  }
 ]
}