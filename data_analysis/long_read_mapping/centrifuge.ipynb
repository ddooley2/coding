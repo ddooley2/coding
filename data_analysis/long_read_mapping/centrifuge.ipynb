{
 "metadata": {
  "language_info": {
   "codemirror_mode": {
    "name": "ipython",
    "version": 3
   },
   "file_extension": ".py",
   "mimetype": "text/x-python",
   "name": "python",
   "nbconvert_exporter": "python",
   "pygments_lexer": "ipython3",
   "version": 3
  },
  "orig_nbformat": 2
 },
 "nbformat": 4,
 "nbformat_minor": 2,
 "cells": [
  {
   "cell_type": "code",
   "execution_count": null,
   "metadata": {},
   "outputs": [],
   "source": [
    "\"\"\"\n",
    "Author: David Dooley\n",
    "Email: ddooley2@vols.utk.edu\n",
    "Description:\n",
    "This code takes an input directory that contains all of the barcode subdirectories (barcode01, barcode02, etc.) within it\n",
    "and performs centrifuge read mapping on all of the reads given a centrifuge index (reference). It outputs its data\n",
    "to a series of tsv files in the working directory, which can be visualized using centrifuge_plot.py\n",
    "\"\"\"\n",
    "import os, gzip"
   ]
  },
  {
   "cell_type": "code",
   "execution_count": null,
   "metadata": {},
   "outputs": [],
   "source": [
    "\"\"\" Set Up Paths \"\"\"\n",
    "cent_exe = '/usr/local/bin/centrifuge'\n",
    "ind_path = '/Users/ddooley/bioinformatics_packages/individual_packages/centrifuge/indices/atcc' ###Change to appropriate index path\n",
    "master_dir = '/Users/ddooley/Desktop/UT_Summer_2021/sam_cohen/datasets/wimp_data/atcc_4_media_reads' ###Please change to the root directory of fastq files (code recursively goes through barcoded folders if present"
   ]
  },
  {
   "cell_type": "code",
   "execution_count": null,
   "metadata": {},
   "outputs": [],
   "source": [
    "\"\"\"Format FASTQ Files\"\"\"\n",
    "\n",
    "### Loop through each barcode directory and gunzip (if necessary) and concatenate all fastq files into single master file\n",
    "for barcode_dir in sorted(os.listdir(master_dir)): ###MASTER LOOP THROUGH EVERY DIRECTORY IN SEQUENCING FOLDER\n",
    "    barcode_dir = master_dir + '/' + barcode_dir\n",
    "    master_fastq = barcode_dir + '/master.fastq'\n",
    "\n",
    "    for file in os.listdir(barcode_dir): ### Go through and gunzip any gzipped files\n",
    "        if \".gz\" in file:\n",
    "            os.system(\"gunzip \" + str(barcode_dir + \"/\" + file))\n",
    "\n",
    "    \"\"\" Concatenate all fastq files in barcode directory to a single large file \"\"\"\n",
    "    cat_fastq = 'cat ' + barcode_dir + '/*.fastq > ' + master_fastq\n",
    "    os.system(cat_fastq)"
   ]
  },
  {
   "cell_type": "code",
   "execution_count": null,
   "metadata": {},
   "outputs": [],
   "source": [
    "\"\"\"Run Centrifuge\"\"\"\n",
    "\n",
    "### Loop through each barcode directory and run centrifuge executable\n",
    "for barcode_dir in sorted(os.listdir(master_dir)): ###MASTER LOOP THROUGH EVERY DIRECTORY IN SEQUENCING FOLDER\n",
    "    barcode_dir = master_dir + '/' + barcode_dir\n",
    "    cline = cent_exe + ' -q -x ' + ind_path + ' ' + master_fastq +  ' > ' + os.getcwd() + '/' + barcode_dir.split('/')[-1] + '_master.tsv'\n",
    "    os.system(cline)\n",
    "    os.remove(master_fastq)"
   ]
  }
 ]
}