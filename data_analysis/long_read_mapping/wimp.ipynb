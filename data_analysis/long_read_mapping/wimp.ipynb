{
 "cells": [
  {
   "cell_type": "code",
   "execution_count": 1,
   "metadata": {},
   "outputs": [
    {
     "name": "stdout",
     "output_type": "stream",
     "text": [
      "Requirement already satisfied: biopython in /home/ddooley/.local/lib/python3.8/site-packages (1.77)\n",
      "Requirement already satisfied: pandas in /home/ddooley/.local/lib/python3.8/site-packages (1.0.4)\n",
      "Requirement already satisfied: numpy in /home/ddooley/.local/lib/python3.8/site-packages (from biopython) (1.18.5)\n",
      "Requirement already satisfied: python-dateutil>=2.6.1 in /usr/lib/python3/dist-packages (from pandas) (2.7.3)\n",
      "Requirement already satisfied: pytz>=2017.2 in /usr/lib/python3/dist-packages (from pandas) (2019.3)\n",
      "Note: you may need to restart the kernel to use updated packages.\n"
     ]
    }
   ],
   "source": [
    "pip install biopython pandas"
   ]
  },
  {
   "cell_type": "code",
   "execution_count": 2,
   "metadata": {},
   "outputs": [],
   "source": [
    "from Bio import SeqIO, Align\n",
    "from Bio.Blast import NCBIXML\n",
    "from Bio.Blast.Applications import NcbiblastnCommandline\n",
    "from collections import Counter, defaultdict\n",
    "import matplotlib.pyplot as plt\n",
    "import pandas as pd\n",
    "import gzip, os, shutil\n",
    "from progressBar import printProgressBar"
   ]
  },
  {
   "cell_type": "code",
   "execution_count": null,
   "metadata": {},
   "outputs": [
    {
     "name": "stdout",
     "output_type": "stream",
     "text": [
      "\n",
      "Please give the name of your reference genome(s): ATCC_mix.fna\n",
      "\n",
      "Please give your blast DB a name: ATCC_skin\n",
      "\n",
      "Now in barcode01 directory...0% complete!\n",
      "\n",
      "Converting fastq to fasta for barcode01...\n",
      "Progress: |██████████████████████████████████████████████████| 100.0% Complete\n",
      "\n",
      "Performing BLAST searches for barcode01...\n",
      "Progress: |██████████████████████████████████████████████████| 100.0% Complete\n",
      "\n",
      "Assigning reads to organisms for barcode01...\n",
      "Progress: |██████████████████████████████████████████████████| 100.0% Complete\n",
      "\n",
      "Now in barcode02 directory...14% complete!\n",
      "\n",
      "Converting fastq to fasta for barcode02...\n",
      "Progress: |██████████████████████████████████████████████████| 100.0% Complete\n",
      "\n",
      "Performing BLAST searches for barcode02...\n",
      "Progress: |█████████-----------------------------------------| 18.9% Complete\r"
     ]
    }
   ],
   "source": [
    "###Requirements:\n",
    "# Blast executables\n",
    "# Fastq to Fasta conversion (MagicBlast)\n",
    "\"\"\" Starter stuff \"\"\"\n",
    "aln = Align.PairwiseAligner()\n",
    "\n",
    "###NOTE: Assumes that all samples are in gzipped fastq format and that reference genome is in cwd\n",
    "\n",
    "master_dir = '/home/ddooley/sequencing/12_24_LB_TSB_YPD_MYD/fastq_pass'\n",
    "ref_path = os.getcwd() + '/' + input(\"\\nPlease give the name of your reference genome(s): \")\n",
    "\n",
    "\"\"\" Step 1: Make blastdb \"\"\"\n",
    "db_name = input(\"\\nPlease give your blast DB a name: \")\n",
    "db_cline = \"makeblastdb -in \" + ref_path + \" -dbtype nucl -out \" + db_name ###Set up argument for making blast DB\n",
    "os.system(db_cline) ###Make blast db\n",
    "l_tot = len(os.listdir(master_dir))\n",
    "\n",
    "\"\"\" Step 2: Loop Through Every Barcode Dir and Get Read Hits \"\"\"\n",
    "master_df = pd.DataFrame()\n",
    "for it, barcode_dir in enumerate(sorted(os.listdir(master_dir))): ###MASTER LOOP THROUGH EVERY DIRECTORY IN SEQUENCING FOLDER\n",
    "    barcode_dir = master_dir + '/' + barcode_dir\n",
    "    l = len(os.listdir(barcode_dir))\n",
    "    print('\\nNow in %s directory...%.0f%% complete!' % (barcode_dir.split(\"/\")[-1], ((it/l_tot)*100)))\n",
    "    \n",
    "    \"\"\" Step 2.1: Extract all FASTQ Data \"\"\"\n",
    "    fasta_paths = []\n",
    "    print('\\nConverting fastq to fasta for %s...' % barcode_dir.split(\"/\")[-1])\n",
    "    printProgressBar(0, l, prefix = 'Progress:', suffix = 'Complete', length = 50) ###Initialize progress bar\n",
    "    for i, filename in enumerate(sorted(os.listdir(barcode_dir))): ###LOOP THROUGH EVERY FASTQ FILE\n",
    "        fastq_path = barcode_dir + '/' + filename.split(\".gz\")[0] ###Path to uncompressed fastq file\n",
    "        fasta_path = barcode_dir + '/' + filename.split(\".fastq.gz\")[0] + \".fasta\" ###Path to uncompressed fasta file\n",
    "        \n",
    "        \"\"\" Create fastq file \"\"\" \n",
    "        with gzip.open(barcode_dir + '/' + filename, 'rb') as f_in: ###Remove gzip compression\n",
    "            with open(fastq_path, \"wb\") as fq:\n",
    "                shutil.copyfileobj(f_in, fq)\n",
    "\n",
    "            \"\"\" Access fastq file and convert to fasta\"\"\" \n",
    "            with open(fastq_path, \"r\") as fq:\n",
    "                with open(fasta_path, \"w\") as f_out: ###Create unzipped fasta file\n",
    "                    SeqIO.convert(fq, \"fastq\", f_out, \"fasta\")\n",
    "        \n",
    "            os.remove(fastq_path) ###Delete uncompressed fastq intermediary\n",
    "            fasta_paths.append(fasta_path) ###Add path to fasta file to list\n",
    "            printProgressBar(i+1, l, prefix = 'Progress:', suffix = 'Complete', length = 50) ###Update progress bar \n",
    "\n",
    "    \"\"\" Step 2.2: Perform BLAST Searches \"\"\"\n",
    "    print('\\nPerforming BLAST searches for %s...' % barcode_dir.split(\"/\")[-1])\n",
    "    printProgressBar(0, l, prefix = 'Progress:', suffix = 'Complete', length = 50) ###Initialize progress bar\n",
    "    for i, path in enumerate(sorted(fasta_paths)):\n",
    "        cline = NcbiblastnCommandline(query=path, db=db_name, strand=\"plus\", evalue=0.001, out=path.split(\".\")[0]+ \".xml\", outfmt=5)\n",
    "        stdout, stderr = cline()                                                                                                             \n",
    "        os.remove(path)\n",
    "        printProgressBar(i+1, l, prefix = 'Progress:', suffix = 'Complete', length = 50) ###Update progress bar \n",
    "\n",
    "        fasta_paths[i] = path.replace('.fasta', '.xml')\n",
    "\n",
    "    \"\"\" Step 2.3: Assigning Reads to Organisms \"\"\"\n",
    "    print('\\nAssigning reads to organisms for %s...' % barcode_dir.split(\"/\")[-1])\n",
    "    printProgressBar(0, l, prefix = 'Progress:', suffix = 'Complete', length = 50) ###Initialize progress bar\n",
    "    all_occurences = {}\n",
    "    for i, xml in enumerate(sorted(fasta_paths)): ###Really xml_paths now..., but saving a variable\n",
    "        with open(xml, 'r') as f:\n",
    "            blast_records = NCBIXML.parse(f)\n",
    "            tmp = []\n",
    "            for record in blast_records:\n",
    "                if len(record.alignments) != 0:\n",
    "                    tmp.append(record.alignments[0].title) ###Takes title of first alignment, even if there are multiple alignments for a single query \n",
    "            occurences = Counter(tmp)\n",
    "        all_occurences = Counter(all_occurences) + Counter(occurences)\n",
    "        printProgressBar(i+1, l, prefix = 'Progress:', suffix = 'Complete', length = 50) ###Update progress bar \n",
    "        os.remove(xml)\n",
    "        \n",
    "    \"\"\" Step 2.4: Add most recent barcoding results to dataframe \"\"\"    \n",
    "    if it == 0:\n",
    "        master_df['organism'] = all_occurences.keys()\n",
    "        master_df[barcode_dir.split('/')[-1]] = master_df['organism'].map(all_occurences)\n",
    "    else:\n",
    "        master_df[barcode_dir.split('/')[-1]] = master_df['organism'].map(all_occurences)"
   ]
  },
  {
   "cell_type": "code",
   "execution_count": null,
   "metadata": {},
   "outputs": [],
   "source": [
    "\"\"\" Step 3: Plot Bar Graph showing \"\"\"\n",
    "###Extract just the organisms from the entire organism ID:\n",
    "org_names = []\n",
    "for org in master_df['organism']:\n",
    "    tmp = org.split(\"chromosome\")[0].split('.')[1]\n",
    "    org_names.append(tmp)\n",
    "org_names = [name.replace(\"1 \", \"\") for name in org_names]\n",
    "\n",
    "\"\"\" Step 4: Plot Everything and Save Figure and Dataframe \"\"\"\n",
    "fig, ax1 = plt.subplots()\n",
    "norm_df = master_df.drop('organism',axis=1).transpose().apply(lambda x: x*100/sum(x), axis =1) ###Transposes and normalizes all columns but the organism names\n",
    "a = norm_df.plot(ax=ax1,kind='bar',stacked=True, colormap = 'viridis')\n",
    "a.legend(labels = org_names,loc='center left', bbox_to_anchor=(1, 0.5))\n",
    "a.ylabel('Relative Abundance')\n",
    "plt.show()\n",
    "\n",
    "master_df.to_csv(os.getcwd()+'_master.csv', index=False, header=True, sep=',')\n",
    "norm_df.to_csv(os.getcwd()+'_norm.csv', index=False, header=True, sep=',')\n",
    "fig.savefig(input('\\nSave figure as: '), bbox_inches = 'tight', dpi=500)\n"
   ]
  }
 ],
 "metadata": {
  "kernelspec": {
   "display_name": "Python 3",
   "language": "python",
   "name": "python3"
  },
  "language_info": {
   "codemirror_mode": {
    "name": "ipython",
    "version": 3
   },
   "file_extension": ".py",
   "mimetype": "text/x-python",
   "name": "python",
   "nbconvert_exporter": "python",
   "pygments_lexer": "ipython3",
   "version": "3.8.2"
  }
 },
 "nbformat": 4,
 "nbformat_minor": 4
}
