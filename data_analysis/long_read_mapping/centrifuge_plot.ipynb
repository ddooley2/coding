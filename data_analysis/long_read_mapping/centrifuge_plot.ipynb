{
 "cells": [
  {
   "cell_type": "code",
   "execution_count": 78,
   "metadata": {},
   "outputs": [
    {
     "output_type": "display_data",
     "data": {
      "text/html": "        <script type=\"text/javascript\">\n        window.PlotlyConfig = {MathJaxConfig: 'local'};\n        if (window.MathJax) {MathJax.Hub.Config({SVG: {font: \"STIX-Web\"}});}\n        if (typeof require !== 'undefined') {\n        require.undef(\"plotly\");\n        requirejs.config({\n            paths: {\n                'plotly': ['https://cdn.plot.ly/plotly-latest.min']\n            }\n        });\n        require(['plotly'], function(Plotly) {\n            window._Plotly = Plotly;\n        });\n        }\n        </script>\n        "
     },
     "metadata": {}
    },
    {
     "output_type": "display_data",
     "data": {
      "text/html": "        <script type=\"text/javascript\">\n        window.PlotlyConfig = {MathJaxConfig: 'local'};\n        if (window.MathJax) {MathJax.Hub.Config({SVG: {font: \"STIX-Web\"}});}\n        if (typeof require !== 'undefined') {\n        require.undef(\"plotly\");\n        requirejs.config({\n            paths: {\n                'plotly': ['https://cdn.plot.ly/plotly-latest.min']\n            }\n        });\n        require(['plotly'], function(Plotly) {\n            window._Plotly = Plotly;\n        });\n        }\n        </script>\n        "
     },
     "metadata": {}
    }
   ],
   "source": [
    "from collections import Counter\n",
    "from functions import color_displayer\n",
    "from functions import progressBar\n",
    "import matplotlib\n",
    "import matplotlib.pyplot as plt\n",
    "import chart_studio.plotly as py\n",
    "import plotly.graph_objs as go\n",
    "from plotly.offline import iplot, init_notebook_mode\n",
    "import pandas as pd\n",
    "import os\n",
    "import plotly.io as pio\n",
    "import cufflinks\n",
    "cufflinks.go_offline(connected=True)\n",
    "init_notebook_mode(connected=True)\n",
    "\n",
    "\"\"\"\n",
    "Author: David Dooley\n",
    "Email: ddooley2@vols.utk.edu\n",
    "Description:\n",
    "This code takes an input directory within the working directory that contains all tsv files from centrifuge.py,\n",
    "cleans data, tabulates all hits for given reference sequences, and plots a bar graph with customizable legend\n",
    "and x labels.\n",
    "\"\"\"\n",
    "\n",
    "###Code assumes that tsv files for different barcodes are all in the same subdirectory of the cwd\n",
    "\n",
    "read_bool = input('\\nWould you like relative abundances to be calculated base-wise? (Default is read-wise) (y/n)\\n> ')\n",
    "if read_bool == 'y':\n",
    "    read_bool = True\n",
    "else:\n",
    "    read_bool = False\n",
    "\n",
    "tsv_dir = os.getcwd() + '/' + input(\"\\nPlease input sub directory with tsv files: \")\n",
    "\n",
    "\n"
   ]
  },
  {
   "cell_type": "code",
   "execution_count": 79,
   "metadata": {},
   "outputs": [
    {
     "output_type": "stream",
     "name": "stdout",
     "text": [
      "Progress: |██████████████████████████████████████████████████| 100.0% Complete\n"
     ]
    }
   ],
   "source": [
    "#Use collections.Counter on [seqID].tolist() to find out how many times each ID had a hit, after filtering out unclassified and empty hits\n",
    "master_df = pd.DataFrame() ###Initialize dataframe\n",
    "l = len(os.listdir(tsv_dir))\n",
    "progressBar.printProgressBar(0, l, prefix = 'Progress:', suffix = 'Complete', length = 50) ###Initialize progress bar\n",
    "for it, tsv in enumerate(sorted(os.listdir(tsv_dir))): ###Iterate through all tsv files generated from centrifuge.py\n",
    "    tsv_path = tsv_dir + '/' + tsv\n",
    "    df = pd.read_table(tsv_path)\n",
    "    df = df[~df.seqID.str.contains(\"unclassified\")] ###Removes all reads with unclassified sequence hit\n",
    "    df = df[~df.seqID.str.contains(\"no rank\")] ###Removes all reads with no rank sequence hit\n",
    "    df = df[~(df['numMatches'] > 1)] ###Removes all reads with non-unique (repeat) hits\n",
    "    seqid_list = df['seqID'].tolist() ###\n",
    "    hit_list = df['hitLength'].tolist()\n",
    "    seqid_count = Counter(seqid_list)\n",
    "    \"\"\" Map num bases or num reads \"\"\"\n",
    "    if read_bool: ###Base-based mapping\n",
    "        base_count = {}\n",
    "        for i, item in enumerate(seqid_list):\n",
    "            if item not in base_count.keys():\n",
    "                base_count[item] = hit_list[i]\n",
    "            else:\n",
    "                base_count[item] += hit_list[i]\n",
    "        if it == 0:\n",
    "            master_df['organism_ID'] = [*seqid_count]\n",
    "            master_df[tsv.split('_')[0]+'_mappedbases'] = master_df['organism_ID'].map(base_count)\n",
    "        else:\n",
    "            master_df[tsv.split('_')[0]+'_mappedbases'] = master_df['organism_ID'].map(base_count)\n",
    "\n",
    "    else: ###Read-based mapping\n",
    "        if it == 0:\n",
    "            master_df['organism_ID'] = [*seqid_count]\n",
    "            master_df[tsv.split('_')[0]] = master_df['organism_ID'].map(seqid_count)\n",
    "        else:\n",
    "            master_df[tsv.split('_')[0]] = master_df['organism_ID'].map(seqid_count)\n",
    "\n",
    "    progressBar.printProgressBar(it+1, l, prefix = 'Progress:', suffix = 'Complete', length = 50) ###Update progress bar\n",
    "master_df.fillna(0, inplace=True) ###Replaces NaNs with 0s in case an organism had no bases mapped to it"
   ]
  },
  {
   "cell_type": "code",
   "execution_count": 80,
   "metadata": {},
   "outputs": [],
   "source": [
    "norm_df = master_df.drop('organism_ID',axis=1).transpose().apply(lambda x: x*100/sum(x), axis =1) ###Transposes and normalizes all columns except for organism names\n",
    "barcode_names = list(norm_df.index)\n",
    "read_count = master_df.sum(axis=0, skipna=True, numeric_only=True).tolist() ###Sums the total number of mapped reads per barcode\n",
    "\n",
    "\"\"\" Option to change bar names \"\"\"\n",
    "loop_escape = False\n",
    "my_bool = input('\\nWould you like to rename barcodes (y/n)? ')\n",
    "while not loop_escape:\n",
    "    if my_bool == \"y\":\n",
    "        my_bool = True\n",
    "        loop_escape = True\n",
    "    elif my_bool == \"n\":\n",
    "        loop_escape = True\n",
    "        my_bool = False\n",
    "        continue\n",
    "    else:\n",
    "        my_bool = input('\\nPlease enter \"y\" or \"n\" ')\n",
    "\n",
    "if my_bool:\n",
    "    barcode_names = [str(input('\\nEnter series name for %s: ' % name)) for name in barcode_names]\n",
    "\n",
    "if read_bool:\n",
    "    xlabs = [name + '\\n (' + str(\"{:.3e}\".format(read_count[i])) + ' bp)' for i, name in enumerate(barcode_names)] ###Add bases to barcode labels in scientific notation\n",
    "else:\n",
    "    xlabs = [name + '\\n (' + str(read_count[i]) + ' reads)' for i, name in enumerate(barcode_names)] ###Add reads to barcode labels\n",
    "\n",
    "\"\"\" Option to change label names \"\"\"\n",
    "legend_names = master_df['organism_ID'].tolist()\n",
    "loop_escape = False\n",
    "my_bool = input('\\nWould you like to rename legends (y/n)? ')\n",
    "while not loop_escape:\n",
    "    if my_bool == \"y\":\n",
    "        my_bool = True\n",
    "        loop_escape = True\n",
    "    elif my_bool == \"n\":\n",
    "        loop_escape = True\n",
    "        my_bool = False\n",
    "        continue\n",
    "    else:\n",
    "        my_bool = input('\\nPlease enter \"y\" or \"n\" ')\n",
    "\n",
    "if my_bool:\n",
    "    legend_names = [str(input('\\nEnter legend name for %s: ' % name)) for name in legend_names]\n"
   ]
  },
  {
   "cell_type": "code",
   "execution_count": 94,
   "metadata": {},
   "outputs": [
    {
     "output_type": "display_data",
     "data": {
      "text/plain": "<Figure size 432x288 with 18 Axes>",
      "image/svg+xml": "<?xml version=\"1.0\" encoding=\"utf-8\" standalone=\"no\"?>\n<!DOCTYPE svg PUBLIC \"-//W3C//DTD SVG 1.1//EN\"\n  \"http://www.w3.org/Graphics/SVG/1.1/DTD/svg11.dtd\">\n<!-- Created with matplotlib (https://matplotlib.org/) -->\n<svg height=\"301.757812pt\" version=\"1.1\" viewBox=\"0 0 398.085937 301.757812\" width=\"398.085937pt\" xmlns=\"http://www.w3.org/2000/svg\" xmlns:xlink=\"http://www.w3.org/1999/xlink\">\n <metadata>\n  <rdf:RDF xmlns:cc=\"http://creativecommons.org/ns#\" xmlns:dc=\"http://purl.org/dc/elements/1.1/\" xmlns:rdf=\"http://www.w3.org/1999/02/22-rdf-syntax-ns#\">\n   <cc:Work>\n    <dc:type rdf:resource=\"http://purl.org/dc/dcmitype/StillImage\"/>\n    <dc:date>2020-11-03T14:54:47.954515</dc:date>\n    <dc:format>image/svg+xml</dc:format>\n    <dc:creator>\n     <cc:Agent>\n      <dc:title>Matplotlib v3.3.1, https://matplotlib.org/</dc:title>\n     </cc:Agent>\n    </dc:creator>\n   </cc:Work>\n  </rdf:RDF>\n </metadata>\n <defs>\n  <style type=\"text/css\">*{stroke-linecap:butt;stroke-linejoin:round;}</style>\n </defs>\n <g id=\"figure_1\">\n  <g id=\"patch_1\">\n   <path d=\"M 0 301.757812 \nL 398.085938 301.757812 \nL 398.085938 0 \nL 0 0 \nz\n\" style=\"fill:none;\"/>\n  </g>\n  <g id=\"axes_1\">\n   <g clip-path=\"url(#pb86d027139)\">\n    <image height=\"13\" id=\"image52c20dbc58\" transform=\"scale(1 -1)translate(0 -13)\" width=\"342\" x=\"49.605938\" xlink:href=\"data:image/png;base64,\niVBORw0KGgoAAAANSUhEUgAAAVYAAAANCAYAAADykUYDAAABWElEQVR4nO2UQW7lMAxDSflqc4S5/1GiLqLY1m86BQZevrcyLYoygkD+478pSbIlx32MOoerZCni9khSRN2VfrxbhsK3Z+tR0+7aVkbXajNunbNfrT/tdffkWbM/bcna/HWu5z71mW999G+ZVf/mj7pveep5bf5b/bd+tf5P3f2e9f/pf52v97yfdf5z3tR6q+cv7802756ZTa/3Zr970d7eK0ve8p/atDtXT2k/PT9pSdHquf3eqag7lW/3x/QvHer+2OtKha/ur56lL43mv+8kaZT30eHUUM/b9fClUGo8/jrPvMoac/7V+3VVxpp/11d/r99Z3/T0f+osnes9yprzfANprJWgIWnYm7bC1qi/IBRVj9LWcMwsAAA4CIsVAOAwLFYAgMOwWAEADsNiBQA4DIsVAOAwLFYAgMOwWAEADsNiBQA4DIsVAOAwLFYAgMOwWAEADvMF5x6JIXoOW9EAAAAASUVORK5CYII=\" y=\"-23.48828\"/>\n   </g>\n   <g id=\"text_1\">\n    <!-- Perceptually Uniform Sequential colormaps -->\n    <g transform=\"translate(69.038281 17.837812)scale(0.14 -0.14)\">\n     <defs>\n      <path d=\"M 19.671875 64.796875 \nL 19.671875 37.40625 \nL 32.078125 37.40625 \nQ 38.96875 37.40625 42.71875 40.96875 \nQ 46.484375 44.53125 46.484375 51.125 \nQ 46.484375 57.671875 42.71875 61.234375 \nQ 38.96875 64.796875 32.078125 64.796875 \nz\nM 9.8125 72.90625 \nL 32.078125 72.90625 \nQ 44.34375 72.90625 50.609375 67.359375 \nQ 56.890625 61.8125 56.890625 51.125 \nQ 56.890625 40.328125 50.609375 34.8125 \nQ 44.34375 29.296875 32.078125 29.296875 \nL 19.671875 29.296875 \nL 19.671875 0 \nL 9.8125 0 \nz\n\" id=\"DejaVuSans-80\"/>\n      <path d=\"M 56.203125 29.59375 \nL 56.203125 25.203125 \nL 14.890625 25.203125 \nQ 15.484375 15.921875 20.484375 11.0625 \nQ 25.484375 6.203125 34.421875 6.203125 \nQ 39.59375 6.203125 44.453125 7.46875 \nQ 49.3125 8.734375 54.109375 11.28125 \nL 54.109375 2.78125 \nQ 49.265625 0.734375 44.1875 -0.34375 \nQ 39.109375 -1.421875 33.890625 -1.421875 \nQ 20.796875 -1.421875 13.15625 6.1875 \nQ 5.515625 13.8125 5.515625 26.8125 \nQ 5.515625 40.234375 12.765625 48.109375 \nQ 20.015625 56 32.328125 56 \nQ 43.359375 56 49.78125 48.890625 \nQ 56.203125 41.796875 56.203125 29.59375 \nz\nM 47.21875 32.234375 \nQ 47.125 39.59375 43.09375 43.984375 \nQ 39.0625 48.390625 32.421875 48.390625 \nQ 24.90625 48.390625 20.390625 44.140625 \nQ 15.875 39.890625 15.1875 32.171875 \nz\n\" id=\"DejaVuSans-101\"/>\n      <path d=\"M 41.109375 46.296875 \nQ 39.59375 47.171875 37.8125 47.578125 \nQ 36.03125 48 33.890625 48 \nQ 26.265625 48 22.1875 43.046875 \nQ 18.109375 38.09375 18.109375 28.8125 \nL 18.109375 0 \nL 9.078125 0 \nL 9.078125 54.6875 \nL 18.109375 54.6875 \nL 18.109375 46.1875 \nQ 20.953125 51.171875 25.484375 53.578125 \nQ 30.03125 56 36.53125 56 \nQ 37.453125 56 38.578125 55.875 \nQ 39.703125 55.765625 41.0625 55.515625 \nz\n\" id=\"DejaVuSans-114\"/>\n      <path d=\"M 48.78125 52.59375 \nL 48.78125 44.1875 \nQ 44.96875 46.296875 41.140625 47.34375 \nQ 37.3125 48.390625 33.40625 48.390625 \nQ 24.65625 48.390625 19.8125 42.84375 \nQ 14.984375 37.3125 14.984375 27.296875 \nQ 14.984375 17.28125 19.8125 11.734375 \nQ 24.65625 6.203125 33.40625 6.203125 \nQ 37.3125 6.203125 41.140625 7.25 \nQ 44.96875 8.296875 48.78125 10.40625 \nL 48.78125 2.09375 \nQ 45.015625 0.34375 40.984375 -0.53125 \nQ 36.96875 -1.421875 32.421875 -1.421875 \nQ 20.0625 -1.421875 12.78125 6.34375 \nQ 5.515625 14.109375 5.515625 27.296875 \nQ 5.515625 40.671875 12.859375 48.328125 \nQ 20.21875 56 33.015625 56 \nQ 37.15625 56 41.109375 55.140625 \nQ 45.0625 54.296875 48.78125 52.59375 \nz\n\" id=\"DejaVuSans-99\"/>\n      <path d=\"M 18.109375 8.203125 \nL 18.109375 -20.796875 \nL 9.078125 -20.796875 \nL 9.078125 54.6875 \nL 18.109375 54.6875 \nL 18.109375 46.390625 \nQ 20.953125 51.265625 25.265625 53.625 \nQ 29.59375 56 35.59375 56 \nQ 45.5625 56 51.78125 48.09375 \nQ 58.015625 40.1875 58.015625 27.296875 \nQ 58.015625 14.40625 51.78125 6.484375 \nQ 45.5625 -1.421875 35.59375 -1.421875 \nQ 29.59375 -1.421875 25.265625 0.953125 \nQ 20.953125 3.328125 18.109375 8.203125 \nz\nM 48.6875 27.296875 \nQ 48.6875 37.203125 44.609375 42.84375 \nQ 40.53125 48.484375 33.40625 48.484375 \nQ 26.265625 48.484375 22.1875 42.84375 \nQ 18.109375 37.203125 18.109375 27.296875 \nQ 18.109375 17.390625 22.1875 11.75 \nQ 26.265625 6.109375 33.40625 6.109375 \nQ 40.53125 6.109375 44.609375 11.75 \nQ 48.6875 17.390625 48.6875 27.296875 \nz\n\" id=\"DejaVuSans-112\"/>\n      <path d=\"M 18.3125 70.21875 \nL 18.3125 54.6875 \nL 36.8125 54.6875 \nL 36.8125 47.703125 \nL 18.3125 47.703125 \nL 18.3125 18.015625 \nQ 18.3125 11.328125 20.140625 9.421875 \nQ 21.96875 7.515625 27.59375 7.515625 \nL 36.8125 7.515625 \nL 36.8125 0 \nL 27.59375 0 \nQ 17.1875 0 13.234375 3.875 \nQ 9.28125 7.765625 9.28125 18.015625 \nL 9.28125 47.703125 \nL 2.6875 47.703125 \nL 2.6875 54.6875 \nL 9.28125 54.6875 \nL 9.28125 70.21875 \nz\n\" id=\"DejaVuSans-116\"/>\n      <path d=\"M 8.5 21.578125 \nL 8.5 54.6875 \nL 17.484375 54.6875 \nL 17.484375 21.921875 \nQ 17.484375 14.15625 20.5 10.265625 \nQ 23.53125 6.390625 29.59375 6.390625 \nQ 36.859375 6.390625 41.078125 11.03125 \nQ 45.3125 15.671875 45.3125 23.6875 \nL 45.3125 54.6875 \nL 54.296875 54.6875 \nL 54.296875 0 \nL 45.3125 0 \nL 45.3125 8.40625 \nQ 42.046875 3.421875 37.71875 1 \nQ 33.40625 -1.421875 27.6875 -1.421875 \nQ 18.265625 -1.421875 13.375 4.4375 \nQ 8.5 10.296875 8.5 21.578125 \nz\nM 31.109375 56 \nz\n\" id=\"DejaVuSans-117\"/>\n      <path d=\"M 34.28125 27.484375 \nQ 23.390625 27.484375 19.1875 25 \nQ 14.984375 22.515625 14.984375 16.5 \nQ 14.984375 11.71875 18.140625 8.90625 \nQ 21.296875 6.109375 26.703125 6.109375 \nQ 34.1875 6.109375 38.703125 11.40625 \nQ 43.21875 16.703125 43.21875 25.484375 \nL 43.21875 27.484375 \nz\nM 52.203125 31.203125 \nL 52.203125 0 \nL 43.21875 0 \nL 43.21875 8.296875 \nQ 40.140625 3.328125 35.546875 0.953125 \nQ 30.953125 -1.421875 24.3125 -1.421875 \nQ 15.921875 -1.421875 10.953125 3.296875 \nQ 6 8.015625 6 15.921875 \nQ 6 25.140625 12.171875 29.828125 \nQ 18.359375 34.515625 30.609375 34.515625 \nL 43.21875 34.515625 \nL 43.21875 35.40625 \nQ 43.21875 41.609375 39.140625 45 \nQ 35.0625 48.390625 27.6875 48.390625 \nQ 23 48.390625 18.546875 47.265625 \nQ 14.109375 46.140625 10.015625 43.890625 \nL 10.015625 52.203125 \nQ 14.9375 54.109375 19.578125 55.046875 \nQ 24.21875 56 28.609375 56 \nQ 40.484375 56 46.34375 49.84375 \nQ 52.203125 43.703125 52.203125 31.203125 \nz\n\" id=\"DejaVuSans-97\"/>\n      <path d=\"M 9.421875 75.984375 \nL 18.40625 75.984375 \nL 18.40625 0 \nL 9.421875 0 \nz\n\" id=\"DejaVuSans-108\"/>\n      <path d=\"M 32.171875 -5.078125 \nQ 28.375 -14.84375 24.75 -17.8125 \nQ 21.140625 -20.796875 15.09375 -20.796875 \nL 7.90625 -20.796875 \nL 7.90625 -13.28125 \nL 13.1875 -13.28125 \nQ 16.890625 -13.28125 18.9375 -11.515625 \nQ 21 -9.765625 23.484375 -3.21875 \nL 25.09375 0.875 \nL 2.984375 54.6875 \nL 12.5 54.6875 \nL 29.59375 11.921875 \nL 46.6875 54.6875 \nL 56.203125 54.6875 \nz\n\" id=\"DejaVuSans-121\"/>\n      <path id=\"DejaVuSans-32\"/>\n      <path d=\"M 8.6875 72.90625 \nL 18.609375 72.90625 \nL 18.609375 28.609375 \nQ 18.609375 16.890625 22.84375 11.734375 \nQ 27.09375 6.59375 36.625 6.59375 \nQ 46.09375 6.59375 50.34375 11.734375 \nQ 54.59375 16.890625 54.59375 28.609375 \nL 54.59375 72.90625 \nL 64.5 72.90625 \nL 64.5 27.390625 \nQ 64.5 13.140625 57.4375 5.859375 \nQ 50.390625 -1.421875 36.625 -1.421875 \nQ 22.796875 -1.421875 15.734375 5.859375 \nQ 8.6875 13.140625 8.6875 27.390625 \nz\n\" id=\"DejaVuSans-85\"/>\n      <path d=\"M 54.890625 33.015625 \nL 54.890625 0 \nL 45.90625 0 \nL 45.90625 32.71875 \nQ 45.90625 40.484375 42.875 44.328125 \nQ 39.84375 48.1875 33.796875 48.1875 \nQ 26.515625 48.1875 22.3125 43.546875 \nQ 18.109375 38.921875 18.109375 30.90625 \nL 18.109375 0 \nL 9.078125 0 \nL 9.078125 54.6875 \nL 18.109375 54.6875 \nL 18.109375 46.1875 \nQ 21.34375 51.125 25.703125 53.5625 \nQ 30.078125 56 35.796875 56 \nQ 45.21875 56 50.046875 50.171875 \nQ 54.890625 44.34375 54.890625 33.015625 \nz\n\" id=\"DejaVuSans-110\"/>\n      <path d=\"M 9.421875 54.6875 \nL 18.40625 54.6875 \nL 18.40625 0 \nL 9.421875 0 \nz\nM 9.421875 75.984375 \nL 18.40625 75.984375 \nL 18.40625 64.59375 \nL 9.421875 64.59375 \nz\n\" id=\"DejaVuSans-105\"/>\n      <path d=\"M 37.109375 75.984375 \nL 37.109375 68.5 \nL 28.515625 68.5 \nQ 23.6875 68.5 21.796875 66.546875 \nQ 19.921875 64.59375 19.921875 59.515625 \nL 19.921875 54.6875 \nL 34.71875 54.6875 \nL 34.71875 47.703125 \nL 19.921875 47.703125 \nL 19.921875 0 \nL 10.890625 0 \nL 10.890625 47.703125 \nL 2.296875 47.703125 \nL 2.296875 54.6875 \nL 10.890625 54.6875 \nL 10.890625 58.5 \nQ 10.890625 67.625 15.140625 71.796875 \nQ 19.390625 75.984375 28.609375 75.984375 \nz\n\" id=\"DejaVuSans-102\"/>\n      <path d=\"M 30.609375 48.390625 \nQ 23.390625 48.390625 19.1875 42.75 \nQ 14.984375 37.109375 14.984375 27.296875 \nQ 14.984375 17.484375 19.15625 11.84375 \nQ 23.34375 6.203125 30.609375 6.203125 \nQ 37.796875 6.203125 41.984375 11.859375 \nQ 46.1875 17.53125 46.1875 27.296875 \nQ 46.1875 37.015625 41.984375 42.703125 \nQ 37.796875 48.390625 30.609375 48.390625 \nz\nM 30.609375 56 \nQ 42.328125 56 49.015625 48.375 \nQ 55.71875 40.765625 55.71875 27.296875 \nQ 55.71875 13.875 49.015625 6.21875 \nQ 42.328125 -1.421875 30.609375 -1.421875 \nQ 18.84375 -1.421875 12.171875 6.21875 \nQ 5.515625 13.875 5.515625 27.296875 \nQ 5.515625 40.765625 12.171875 48.375 \nQ 18.84375 56 30.609375 56 \nz\n\" id=\"DejaVuSans-111\"/>\n      <path d=\"M 52 44.1875 \nQ 55.375 50.25 60.0625 53.125 \nQ 64.75 56 71.09375 56 \nQ 79.640625 56 84.28125 50.015625 \nQ 88.921875 44.046875 88.921875 33.015625 \nL 88.921875 0 \nL 79.890625 0 \nL 79.890625 32.71875 \nQ 79.890625 40.578125 77.09375 44.375 \nQ 74.3125 48.1875 68.609375 48.1875 \nQ 61.625 48.1875 57.5625 43.546875 \nQ 53.515625 38.921875 53.515625 30.90625 \nL 53.515625 0 \nL 44.484375 0 \nL 44.484375 32.71875 \nQ 44.484375 40.625 41.703125 44.40625 \nQ 38.921875 48.1875 33.109375 48.1875 \nQ 26.21875 48.1875 22.15625 43.53125 \nQ 18.109375 38.875 18.109375 30.90625 \nL 18.109375 0 \nL 9.078125 0 \nL 9.078125 54.6875 \nL 18.109375 54.6875 \nL 18.109375 46.1875 \nQ 21.1875 51.21875 25.484375 53.609375 \nQ 29.78125 56 35.6875 56 \nQ 41.65625 56 45.828125 52.96875 \nQ 50 49.953125 52 44.1875 \nz\n\" id=\"DejaVuSans-109\"/>\n      <path d=\"M 53.515625 70.515625 \nL 53.515625 60.890625 \nQ 47.90625 63.578125 42.921875 64.890625 \nQ 37.9375 66.21875 33.296875 66.21875 \nQ 25.25 66.21875 20.875 63.09375 \nQ 16.5 59.96875 16.5 54.203125 \nQ 16.5 49.359375 19.40625 46.890625 \nQ 22.3125 44.4375 30.421875 42.921875 \nL 36.375 41.703125 \nQ 47.40625 39.59375 52.65625 34.296875 \nQ 57.90625 29 57.90625 20.125 \nQ 57.90625 9.515625 50.796875 4.046875 \nQ 43.703125 -1.421875 29.984375 -1.421875 \nQ 24.8125 -1.421875 18.96875 -0.25 \nQ 13.140625 0.921875 6.890625 3.21875 \nL 6.890625 13.375 \nQ 12.890625 10.015625 18.65625 8.296875 \nQ 24.421875 6.59375 29.984375 6.59375 \nQ 38.421875 6.59375 43.015625 9.90625 \nQ 47.609375 13.234375 47.609375 19.390625 \nQ 47.609375 24.75 44.3125 27.78125 \nQ 41.015625 30.8125 33.5 32.328125 \nL 27.484375 33.5 \nQ 16.453125 35.6875 11.515625 40.375 \nQ 6.59375 45.0625 6.59375 53.421875 \nQ 6.59375 63.09375 13.40625 68.65625 \nQ 20.21875 74.21875 32.171875 74.21875 \nQ 37.3125 74.21875 42.625 73.28125 \nQ 47.953125 72.359375 53.515625 70.515625 \nz\n\" id=\"DejaVuSans-83\"/>\n      <path d=\"M 14.796875 27.296875 \nQ 14.796875 17.390625 18.875 11.75 \nQ 22.953125 6.109375 30.078125 6.109375 \nQ 37.203125 6.109375 41.296875 11.75 \nQ 45.40625 17.390625 45.40625 27.296875 \nQ 45.40625 37.203125 41.296875 42.84375 \nQ 37.203125 48.484375 30.078125 48.484375 \nQ 22.953125 48.484375 18.875 42.84375 \nQ 14.796875 37.203125 14.796875 27.296875 \nz\nM 45.40625 8.203125 \nQ 42.578125 3.328125 38.25 0.953125 \nQ 33.9375 -1.421875 27.875 -1.421875 \nQ 17.96875 -1.421875 11.734375 6.484375 \nQ 5.515625 14.40625 5.515625 27.296875 \nQ 5.515625 40.1875 11.734375 48.09375 \nQ 17.96875 56 27.875 56 \nQ 33.9375 56 38.25 53.625 \nQ 42.578125 51.265625 45.40625 46.390625 \nL 45.40625 54.6875 \nL 54.390625 54.6875 \nL 54.390625 -20.796875 \nL 45.40625 -20.796875 \nz\n\" id=\"DejaVuSans-113\"/>\n      <path d=\"M 44.28125 53.078125 \nL 44.28125 44.578125 \nQ 40.484375 46.53125 36.375 47.5 \nQ 32.28125 48.484375 27.875 48.484375 \nQ 21.1875 48.484375 17.84375 46.4375 \nQ 14.5 44.390625 14.5 40.28125 \nQ 14.5 37.15625 16.890625 35.375 \nQ 19.28125 33.59375 26.515625 31.984375 \nL 29.59375 31.296875 \nQ 39.15625 29.25 43.1875 25.515625 \nQ 47.21875 21.78125 47.21875 15.09375 \nQ 47.21875 7.46875 41.1875 3.015625 \nQ 35.15625 -1.421875 24.609375 -1.421875 \nQ 20.21875 -1.421875 15.453125 -0.5625 \nQ 10.6875 0.296875 5.421875 2 \nL 5.421875 11.28125 \nQ 10.40625 8.6875 15.234375 7.390625 \nQ 20.0625 6.109375 24.8125 6.109375 \nQ 31.15625 6.109375 34.5625 8.28125 \nQ 37.984375 10.453125 37.984375 14.40625 \nQ 37.984375 18.0625 35.515625 20.015625 \nQ 33.0625 21.96875 24.703125 23.78125 \nL 21.578125 24.515625 \nQ 13.234375 26.265625 9.515625 29.90625 \nQ 5.8125 33.546875 5.8125 39.890625 \nQ 5.8125 47.609375 11.28125 51.796875 \nQ 16.75 56 26.8125 56 \nQ 31.78125 56 36.171875 55.265625 \nQ 40.578125 54.546875 44.28125 53.078125 \nz\n\" id=\"DejaVuSans-115\"/>\n     </defs>\n     <use xlink:href=\"#DejaVuSans-80\"/>\n     <use x=\"56.677734\" xlink:href=\"#DejaVuSans-101\"/>\n     <use x=\"118.201172\" xlink:href=\"#DejaVuSans-114\"/>\n     <use x=\"157.064453\" xlink:href=\"#DejaVuSans-99\"/>\n     <use x=\"212.044922\" xlink:href=\"#DejaVuSans-101\"/>\n     <use x=\"273.568359\" xlink:href=\"#DejaVuSans-112\"/>\n     <use x=\"337.044922\" xlink:href=\"#DejaVuSans-116\"/>\n     <use x=\"376.253906\" xlink:href=\"#DejaVuSans-117\"/>\n     <use x=\"439.632812\" xlink:href=\"#DejaVuSans-97\"/>\n     <use x=\"500.912109\" xlink:href=\"#DejaVuSans-108\"/>\n     <use x=\"528.695312\" xlink:href=\"#DejaVuSans-108\"/>\n     <use x=\"556.478516\" xlink:href=\"#DejaVuSans-121\"/>\n     <use x=\"615.658203\" xlink:href=\"#DejaVuSans-32\"/>\n     <use x=\"647.445312\" xlink:href=\"#DejaVuSans-85\"/>\n     <use x=\"720.638672\" xlink:href=\"#DejaVuSans-110\"/>\n     <use x=\"784.017578\" xlink:href=\"#DejaVuSans-105\"/>\n     <use x=\"811.800781\" xlink:href=\"#DejaVuSans-102\"/>\n     <use x=\"847.005859\" xlink:href=\"#DejaVuSans-111\"/>\n     <use x=\"908.1875\" xlink:href=\"#DejaVuSans-114\"/>\n     <use x=\"947.550781\" xlink:href=\"#DejaVuSans-109\"/>\n     <use x=\"1044.962891\" xlink:href=\"#DejaVuSans-32\"/>\n     <use x=\"1076.75\" xlink:href=\"#DejaVuSans-83\"/>\n     <use x=\"1140.226562\" xlink:href=\"#DejaVuSans-101\"/>\n     <use x=\"1201.75\" xlink:href=\"#DejaVuSans-113\"/>\n     <use x=\"1265.226562\" xlink:href=\"#DejaVuSans-117\"/>\n     <use x=\"1328.605469\" xlink:href=\"#DejaVuSans-101\"/>\n     <use x=\"1390.128906\" xlink:href=\"#DejaVuSans-110\"/>\n     <use x=\"1453.507812\" xlink:href=\"#DejaVuSans-116\"/>\n     <use x=\"1492.716797\" xlink:href=\"#DejaVuSans-105\"/>\n     <use x=\"1520.5\" xlink:href=\"#DejaVuSans-97\"/>\n     <use x=\"1581.779297\" xlink:href=\"#DejaVuSans-108\"/>\n     <use x=\"1609.5625\" xlink:href=\"#DejaVuSans-32\"/>\n     <use x=\"1641.349609\" xlink:href=\"#DejaVuSans-99\"/>\n     <use x=\"1696.330078\" xlink:href=\"#DejaVuSans-111\"/>\n     <use x=\"1757.511719\" xlink:href=\"#DejaVuSans-108\"/>\n     <use x=\"1785.294922\" xlink:href=\"#DejaVuSans-111\"/>\n     <use x=\"1846.476562\" xlink:href=\"#DejaVuSans-114\"/>\n     <use x=\"1885.839844\" xlink:href=\"#DejaVuSans-109\"/>\n     <use x=\"1983.251953\" xlink:href=\"#DejaVuSans-97\"/>\n     <use x=\"2044.53125\" xlink:href=\"#DejaVuSans-112\"/>\n     <use x=\"2108.007812\" xlink:href=\"#DejaVuSans-115\"/>\n    </g>\n   </g>\n  </g>\n  <g id=\"axes_2\">\n   <g clip-path=\"url(#pba571e28b3)\">\n    <image height=\"13\" id=\"image7140ebe140\" transform=\"scale(1 -1)translate(0 -13)\" width=\"342\" x=\"49.605938\" xlink:href=\"data:image/png;base64,\niVBORw0KGgoAAAANSUhEUgAAAVYAAAANCAYAAADykUYDAAABRElEQVR4nO2UwY7DMAhEB7rSXva7+9llD7GxsaP04uN7UlSNBw8oarC/33dI0o9Mr3BJksv0ak/XHiaftW50aDuz1Cp3LBa9+lLrqaZ7z0mHlvyqbbrvmaGRn9Xd11RvRdtUk/W2+CaZ4vJtnA0/ZF2b5Bq6e+7db9oitdv1m/cthvZF39y3yXdX0Vf+ej9kPvr1mrs889jybrXX+R7r/Vuetv56zBv1+jKfbH8/ephfy7wjXzmfHvNUfC3vM2vz/xOZeZfX55dXv2pN9ZE9a78+j5b8vZ9KffdV8quvnKcthOoXrTJ/9A+y9Jdi06p6+oDD1zO7zpoOt+Jn/ZQZpedH4Z8cFwAADsJiBQA4DIsVAOAwLFYAgMOwWAEADsNiBQA4DIsVAOAwLFYAgMOwWAEADsNiBQA4DIsVAOAwLFYAgMP8A20WnyHye5mLAAAAAElFTkSuQmCC\" y=\"-38.668841\"/>\n   </g>\n  </g>\n  <g id=\"axes_3\">\n   <g clip-path=\"url(#pa868bc759b)\">\n    <image height=\"13\" id=\"image148139d836\" transform=\"scale(1 -1)translate(0 -13)\" width=\"342\" x=\"49.605938\" xlink:href=\"data:image/png;base64,\niVBORw0KGgoAAAANSUhEUgAAAVYAAAANCAYAAADykUYDAAABcUlEQVR4nO2US47kMAxDSTlz/xtbs9Anirt75yUfEJQpkY4rCURgOQAABGC5IkAbegE0sHT24jf6ZOjpIRasPQZydd9yXXsYQhtW+236kfv5q6M2tEet8zCYc+QJQ2l27dV4NTm6pQGy/FF7+5G1LIQXratn6a/eN//6T11rg/+Zj3v6cX//O3/4jWfe+7xGzz0q77/k/Zf8PO/Unv56Xt61OO/Rz71n/uPv/Xyc99Czbw5ytz7zvb+V3p88zQ+9v/nu7/wDqW3sb/uHH7a/+dTIbOXBHet5vqltdybun336ex7b7YfluxwalmNg6PHC8oOyekGx7g/Y3isO9NW5dluHP7T/qtfQ68ivrI0+n9F/0vMM/wPwiV55+AD2rzWZNQBMzUNbaa5e12MTQghxCQ1WIYS4jAarEEJcRoNVCCEuo8EqhBCX0WAVQojLaLAKIcRlNFiFEOIyGqxCCHEZDVYhhLiMBqsQQlxGg1UIIS7zH4YQbLdYYMp3AAAAAElFTkSuQmCC\" y=\"-53.849401\"/>\n   </g>\n  </g>\n  <g id=\"axes_4\">\n   <g clip-path=\"url(#pca268bf0cf)\">\n    <image height=\"13\" id=\"image202eb3aee2\" transform=\"scale(1 -1)translate(0 -13)\" width=\"342\" x=\"49.605938\" xlink:href=\"data:image/png;base64,\niVBORw0KGgoAAAANSUhEUgAAAVYAAAANCAYAAADykUYDAAABT0lEQVR4nO2UO6LEIAwDJef+Z/YrwGCyu6+inGmCkDDkZ0tPSpJkSTFHlhxbz/G4SlZIjnGdvqe/M8+pW2bo59ChWHM7/yh6PYVCz1Fv6Tmu9fHWOWY886WcPT/mdj0vHbL81nbLS9G1K6OVD0t2rZ8Z19Ofvmbeo17Xo6Z2/ZdfNVdevX7VPPVRv+W3znN937/vp/w8v7L5VTO/1i8vWt7OtV84v5wn2/3k0Ot8+drvU49nmDvfz+ucNfKsd+idXzq2b2vpeOk1PnSrH/ULnn7dYI3dHvin76bPF+zy2gt3f8H1sbjnfeRPHccHPfLxmZ//s776TTv23E9/64z419dPP8ba2qPmjzW//ex+8+oxAgDAJWisAACXobECAFyGxgoAcBkaKwDAZWisAACXobECAFyGxgoAcBkaKwDAZWisAACXobECAFyGxgoAcJk/Dy4uz0Ehg0MAAAAASUVORK5CYII=\" y=\"-69.029962\"/>\n   </g>\n  </g>\n  <g id=\"axes_5\">\n   <g clip-path=\"url(#pb094ff9923)\">\n    <image height=\"13\" id=\"imagebb590ec788\" transform=\"scale(1 -1)translate(0 -13)\" width=\"342\" x=\"49.605938\" xlink:href=\"data:image/png;base64,\niVBORw0KGgoAAAANSUhEUgAAAVYAAAANCAYAAADykUYDAAABN0lEQVR4nO3UW07EMAyF4XNaVsJ+2P9uah5yrdsAQnn8PwnNOE4ctxpsfX6FJMmHJKt/9yG5xjrGWtmQ4jmfa8x7Wr2x7WP6PCWdNT4dOi31065/qu16rLVyhyU72m19T8uXeJxva71einPeih6Xu/pjlO//iWtBT2tKe97yJfayX3nsWT6PJWsUfPbnx/1a9Gv53r/9cp+n+u49tjjXk9N5rZ939X6V+v/7+fj5/ffzcT//2L/6vb3Vj5d+cv1cb5F/u3+u/7gvHuePX/JlbVG/5u7vM8b/Y8vPseZ66T5H7SdS/RT/tr/H19TTlXqYYl/3vK+eP3xJjmnIjBnX5hYAYBMGKwBsxmAFgM0YrACwGYMVADZjsALAZgxWANiMwQoAmzFYAWAzBisAbMZgBYDNGKwAsNk3SptFNM4GbHgAAAAASUVORK5CYII=\" y=\"-84.210523\"/>\n   </g>\n  </g>\n  <g id=\"axes_6\"/>\n  <g id=\"axes_7\"/>\n  <g id=\"axes_8\"/>\n  <g id=\"axes_9\"/>\n  <g id=\"axes_10\"/>\n  <g id=\"axes_11\"/>\n  <g id=\"axes_12\"/>\n  <g id=\"axes_13\"/>\n  <g id=\"axes_14\"/>\n  <g id=\"axes_15\"/>\n  <g id=\"axes_16\"/>\n  <g id=\"axes_17\"/>\n  <g id=\"axes_18\"/>\n  <g id=\"text_2\">\n   <!-- viridis -->\n   <g transform=\"translate(15.364063 32.922421)scale(0.1 -0.1)\">\n    <defs>\n     <path d=\"M 2.984375 54.6875 \nL 12.5 54.6875 \nL 29.59375 8.796875 \nL 46.6875 54.6875 \nL 56.203125 54.6875 \nL 35.6875 0 \nL 23.484375 0 \nz\n\" id=\"DejaVuSans-118\"/>\n     <path d=\"M 45.40625 46.390625 \nL 45.40625 75.984375 \nL 54.390625 75.984375 \nL 54.390625 0 \nL 45.40625 0 \nL 45.40625 8.203125 \nQ 42.578125 3.328125 38.25 0.953125 \nQ 33.9375 -1.421875 27.875 -1.421875 \nQ 17.96875 -1.421875 11.734375 6.484375 \nQ 5.515625 14.40625 5.515625 27.296875 \nQ 5.515625 40.1875 11.734375 48.09375 \nQ 17.96875 56 27.875 56 \nQ 33.9375 56 38.25 53.625 \nQ 42.578125 51.265625 45.40625 46.390625 \nz\nM 14.796875 27.296875 \nQ 14.796875 17.390625 18.875 11.75 \nQ 22.953125 6.109375 30.078125 6.109375 \nQ 37.203125 6.109375 41.296875 11.75 \nQ 45.40625 17.390625 45.40625 27.296875 \nQ 45.40625 37.203125 41.296875 42.84375 \nQ 37.203125 48.484375 30.078125 48.484375 \nQ 22.953125 48.484375 18.875 42.84375 \nQ 14.796875 37.203125 14.796875 27.296875 \nz\n\" id=\"DejaVuSans-100\"/>\n    </defs>\n    <use xlink:href=\"#DejaVuSans-118\"/>\n    <use x=\"59.179688\" xlink:href=\"#DejaVuSans-105\"/>\n    <use x=\"86.962891\" xlink:href=\"#DejaVuSans-114\"/>\n    <use x=\"128.076172\" xlink:href=\"#DejaVuSans-105\"/>\n    <use x=\"155.859375\" xlink:href=\"#DejaVuSans-100\"/>\n    <use x=\"219.335938\" xlink:href=\"#DejaVuSans-105\"/>\n    <use x=\"247.119141\" xlink:href=\"#DejaVuSans-115\"/>\n   </g>\n  </g>\n  <g id=\"text_3\">\n   <!-- plasma -->\n   <g transform=\"translate(8.953125 48.102982)scale(0.1 -0.1)\">\n    <use xlink:href=\"#DejaVuSans-112\"/>\n    <use x=\"63.476562\" xlink:href=\"#DejaVuSans-108\"/>\n    <use x=\"91.259766\" xlink:href=\"#DejaVuSans-97\"/>\n    <use x=\"152.539062\" xlink:href=\"#DejaVuSans-115\"/>\n    <use x=\"204.638672\" xlink:href=\"#DejaVuSans-109\"/>\n    <use x=\"302.050781\" xlink:href=\"#DejaVuSans-97\"/>\n   </g>\n  </g>\n  <g id=\"text_4\">\n   <!-- inferno -->\n   <g transform=\"translate(10.104688 63.283543)scale(0.1 -0.1)\">\n    <use xlink:href=\"#DejaVuSans-105\"/>\n    <use x=\"27.783203\" xlink:href=\"#DejaVuSans-110\"/>\n    <use x=\"91.162109\" xlink:href=\"#DejaVuSans-102\"/>\n    <use x=\"126.367188\" xlink:href=\"#DejaVuSans-101\"/>\n    <use x=\"187.890625\" xlink:href=\"#DejaVuSans-114\"/>\n    <use x=\"227.253906\" xlink:href=\"#DejaVuSans-110\"/>\n    <use x=\"290.632812\" xlink:href=\"#DejaVuSans-111\"/>\n   </g>\n  </g>\n  <g id=\"text_5\">\n   <!-- magma -->\n   <g transform=\"translate(7.2 78.464103)scale(0.1 -0.1)\">\n    <defs>\n     <path d=\"M 45.40625 27.984375 \nQ 45.40625 37.75 41.375 43.109375 \nQ 37.359375 48.484375 30.078125 48.484375 \nQ 22.859375 48.484375 18.828125 43.109375 \nQ 14.796875 37.75 14.796875 27.984375 \nQ 14.796875 18.265625 18.828125 12.890625 \nQ 22.859375 7.515625 30.078125 7.515625 \nQ 37.359375 7.515625 41.375 12.890625 \nQ 45.40625 18.265625 45.40625 27.984375 \nz\nM 54.390625 6.78125 \nQ 54.390625 -7.171875 48.1875 -13.984375 \nQ 42 -20.796875 29.203125 -20.796875 \nQ 24.46875 -20.796875 20.265625 -20.09375 \nQ 16.0625 -19.390625 12.109375 -17.921875 \nL 12.109375 -9.1875 \nQ 16.0625 -11.328125 19.921875 -12.34375 \nQ 23.78125 -13.375 27.78125 -13.375 \nQ 36.625 -13.375 41.015625 -8.765625 \nQ 45.40625 -4.15625 45.40625 5.171875 \nL 45.40625 9.625 \nQ 42.625 4.78125 38.28125 2.390625 \nQ 33.9375 0 27.875 0 \nQ 17.828125 0 11.671875 7.65625 \nQ 5.515625 15.328125 5.515625 27.984375 \nQ 5.515625 40.671875 11.671875 48.328125 \nQ 17.828125 56 27.875 56 \nQ 33.9375 56 38.28125 53.609375 \nQ 42.625 51.21875 45.40625 46.390625 \nL 45.40625 54.6875 \nL 54.390625 54.6875 \nz\n\" id=\"DejaVuSans-103\"/>\n    </defs>\n    <use xlink:href=\"#DejaVuSans-109\"/>\n    <use x=\"97.412109\" xlink:href=\"#DejaVuSans-97\"/>\n    <use x=\"158.691406\" xlink:href=\"#DejaVuSans-103\"/>\n    <use x=\"222.167969\" xlink:href=\"#DejaVuSans-109\"/>\n    <use x=\"319.580078\" xlink:href=\"#DejaVuSans-97\"/>\n   </g>\n  </g>\n  <g id=\"text_6\">\n   <!-- cividis -->\n   <g transform=\"translate(13.976562 93.644664)scale(0.1 -0.1)\">\n    <use xlink:href=\"#DejaVuSans-99\"/>\n    <use x=\"54.980469\" xlink:href=\"#DejaVuSans-105\"/>\n    <use x=\"82.763672\" xlink:href=\"#DejaVuSans-118\"/>\n    <use x=\"141.943359\" xlink:href=\"#DejaVuSans-105\"/>\n    <use x=\"169.726562\" xlink:href=\"#DejaVuSans-100\"/>\n    <use x=\"233.203125\" xlink:href=\"#DejaVuSans-105\"/>\n    <use x=\"260.986328\" xlink:href=\"#DejaVuSans-115\"/>\n   </g>\n  </g>\n </g>\n <defs>\n  <clipPath id=\"pb86d027139\">\n   <rect height=\"12.650467\" width=\"341.28\" x=\"49.605938\" y=\"23.837812\"/>\n  </clipPath>\n  <clipPath id=\"pba571e28b3\">\n   <rect height=\"12.650467\" width=\"341.28\" x=\"49.605938\" y=\"39.018373\"/>\n  </clipPath>\n  <clipPath id=\"pa868bc759b\">\n   <rect height=\"12.650467\" width=\"341.28\" x=\"49.605938\" y=\"54.198934\"/>\n  </clipPath>\n  <clipPath id=\"pca268bf0cf\">\n   <rect height=\"12.650467\" width=\"341.28\" x=\"49.605938\" y=\"69.379495\"/>\n  </clipPath>\n  <clipPath id=\"pb094ff9923\">\n   <rect height=\"12.650467\" width=\"341.28\" x=\"49.605938\" y=\"84.560055\"/>\n  </clipPath>\n </defs>\n</svg>\n",
      "image/png": "[encoded data removed]"
     },
     "metadata": {
      "needs_background": "light"
     }
    },
    {
     "output_type": "display_data",
     "data": {
      "text/plain": "<Figure size 432x288 with 18 Axes>",
      "image/svg+xml": "<?xml version=\"1.0\" encoding=\"utf-8\" standalone=\"no\"?>\n<!DOCTYPE svg PUBLIC \"-//W3C//DTD SVG 1.1//EN\"\n  \"http://www.w3.org/Graphics/SVG/1.1/DTD/svg11.dtd\">\n<!-- Created with matplotlib (https://matplotlib.org/) -->\n<svg height=\"301.757812pt\" version=\"1.1\" viewBox=\"0 0 402.159375 301.757812\" width=\"402.159375pt\" xmlns=\"http://www.w3.org/2000/svg\" xmlns:xlink=\"http://www.w3.org/1999/xlink\">\n <metadata>\n  <rdf:RDF xmlns:cc=\"http://creativecommons.org/ns#\" xmlns:dc=\"http://purl.org/dc/elements/1.1/\" xmlns:rdf=\"http://www.w3.org/1999/02/22-rdf-syntax-ns#\">\n   <cc:Work>\n    <dc:type rdf:resource=\"http://purl.org/dc/dcmitype/StillImage\"/>\n    <dc:date>2020-11-03T14:54:48.291716</dc:date>\n    <dc:format>image/svg+xml</dc:format>\n    <dc:creator>\n     <cc:Agent>\n      <dc:title>Matplotlib v3.3.1, https://matplotlib.org/</dc:title>\n     </cc:Agent>\n    </dc:creator>\n   </cc:Work>\n  </rdf:RDF>\n </metadata>\n <defs>\n  <style type=\"text/css\">*{stroke-linecap:butt;stroke-linejoin:round;}</style>\n </defs>\n <g id=\"figure_1\">\n  <g id=\"patch_1\">\n   <path d=\"M 0 301.757812 \nL 402.159375 301.757812 \nL 402.159375 0 \nL 0 0 \nz\n\" style=\"fill:none;\"/>\n  </g>\n  <g id=\"axes_1\">\n   <g clip-path=\"url(#pab3a21a5bb)\">\n    <image height=\"13\" id=\"imageb0f0c13dcd\" transform=\"scale(1 -1)translate(0 -13)\" width=\"342\" x=\"53.679375\" xlink:href=\"data:image/png;base64,\niVBORw0KGgoAAAANSUhEUgAAAVYAAAANCAYAAADykUYDAAAArUlEQVR4nO3USw6DMAwFQLf3P3PSTZEiZCABV+piZgMmXwJ6r957j4j4XmK8z55dtY/P7s4x257VR31mrtXzn40/qlf6Z+sd1dl+s7q1lra31v6q/+z4s3obs/J9nqz35Px/Ve/XG+v9+Yz1/v23unL81Xx3zi9rX/knZvYQEfEOAEoJVoBighWgmGAFKCZYAYoJVoBighWgmGAFKCZYAYoJVoBighWgmGAFKPYBs3WnN8CgwkoAAAAASUVORK5CYII=\" y=\"-23.48828\"/>\n   </g>\n   <g id=\"text_1\">\n    <!-- Sequential colormaps -->\n    <g transform=\"translate(148.483125 17.837812)scale(0.14 -0.14)\">\n     <defs>\n      <path d=\"M 53.515625 70.515625 \nL 53.515625 60.890625 \nQ 47.90625 63.578125 42.921875 64.890625 \nQ 37.9375 66.21875 33.296875 66.21875 \nQ 25.25 66.21875 20.875 63.09375 \nQ 16.5 59.96875 16.5 54.203125 \nQ 16.5 49.359375 19.40625 46.890625 \nQ 22.3125 44.4375 30.421875 42.921875 \nL 36.375 41.703125 \nQ 47.40625 39.59375 52.65625 34.296875 \nQ 57.90625 29 57.90625 20.125 \nQ 57.90625 9.515625 50.796875 4.046875 \nQ 43.703125 -1.421875 29.984375 -1.421875 \nQ 24.8125 -1.421875 18.96875 -0.25 \nQ 13.140625 0.921875 6.890625 3.21875 \nL 6.890625 13.375 \nQ 12.890625 10.015625 18.65625 8.296875 \nQ 24.421875 6.59375 29.984375 6.59375 \nQ 38.421875 6.59375 43.015625 9.90625 \nQ 47.609375 13.234375 47.609375 19.390625 \nQ 47.609375 24.75 44.3125 27.78125 \nQ 41.015625 30.8125 33.5 32.328125 \nL 27.484375 33.5 \nQ 16.453125 35.6875 11.515625 40.375 \nQ 6.59375 45.0625 6.59375 53.421875 \nQ 6.59375 63.09375 13.40625 68.65625 \nQ 20.21875 74.21875 32.171875 74.21875 \nQ 37.3125 74.21875 42.625 73.28125 \nQ 47.953125 72.359375 53.515625 70.515625 \nz\n\" id=\"DejaVuSans-83\"/>\n      <path d=\"M 56.203125 29.59375 \nL 56.203125 25.203125 \nL 14.890625 25.203125 \nQ 15.484375 15.921875 20.484375 11.0625 \nQ 25.484375 6.203125 34.421875 6.203125 \nQ 39.59375 6.203125 44.453125 7.46875 \nQ 49.3125 8.734375 54.109375 11.28125 \nL 54.109375 2.78125 \nQ 49.265625 0.734375 44.1875 -0.34375 \nQ 39.109375 -1.421875 33.890625 -1.421875 \nQ 20.796875 -1.421875 13.15625 6.1875 \nQ 5.515625 13.8125 5.515625 26.8125 \nQ 5.515625 40.234375 12.765625 48.109375 \nQ 20.015625 56 32.328125 56 \nQ 43.359375 56 49.78125 48.890625 \nQ 56.203125 41.796875 56.203125 29.59375 \nz\nM 47.21875 32.234375 \nQ 47.125 39.59375 43.09375 43.984375 \nQ 39.0625 48.390625 32.421875 48.390625 \nQ 24.90625 48.390625 20.390625 44.140625 \nQ 15.875 39.890625 15.1875 32.171875 \nz\n\" id=\"DejaVuSans-101\"/>\n      <path d=\"M 14.796875 27.296875 \nQ 14.796875 17.390625 18.875 11.75 \nQ 22.953125 6.109375 30.078125 6.109375 \nQ 37.203125 6.109375 41.296875 11.75 \nQ 45.40625 17.390625 45.40625 27.296875 \nQ 45.40625 37.203125 41.296875 42.84375 \nQ 37.203125 48.484375 30.078125 48.484375 \nQ 22.953125 48.484375 18.875 42.84375 \nQ 14.796875 37.203125 14.796875 27.296875 \nz\nM 45.40625 8.203125 \nQ 42.578125 3.328125 38.25 0.953125 \nQ 33.9375 -1.421875 27.875 -1.421875 \nQ 17.96875 -1.421875 11.734375 6.484375 \nQ 5.515625 14.40625 5.515625 27.296875 \nQ 5.515625 40.1875 11.734375 48.09375 \nQ 17.96875 56 27.875 56 \nQ 33.9375 56 38.25 53.625 \nQ 42.578125 51.265625 45.40625 46.390625 \nL 45.40625 54.6875 \nL 54.390625 54.6875 \nL 54.390625 -20.796875 \nL 45.40625 -20.796875 \nz\n\" id=\"DejaVuSans-113\"/>\n      <path d=\"M 8.5 21.578125 \nL 8.5 54.6875 \nL 17.484375 54.6875 \nL 17.484375 21.921875 \nQ 17.484375 14.15625 20.5 10.265625 \nQ 23.53125 6.390625 29.59375 6.390625 \nQ 36.859375 6.390625 41.078125 11.03125 \nQ 45.3125 15.671875 45.3125 23.6875 \nL 45.3125 54.6875 \nL 54.296875 54.6875 \nL 54.296875 0 \nL 45.3125 0 \nL 45.3125 8.40625 \nQ 42.046875 3.421875 37.71875 1 \nQ 33.40625 -1.421875 27.6875 -1.421875 \nQ 18.265625 -1.421875 13.375 4.4375 \nQ 8.5 10.296875 8.5 21.578125 \nz\nM 31.109375 56 \nz\n\" id=\"DejaVuSans-117\"/>\n      <path d=\"M 54.890625 33.015625 \nL 54.890625 0 \nL 45.90625 0 \nL 45.90625 32.71875 \nQ 45.90625 40.484375 42.875 44.328125 \nQ 39.84375 48.1875 33.796875 48.1875 \nQ 26.515625 48.1875 22.3125 43.546875 \nQ 18.109375 38.921875 18.109375 30.90625 \nL 18.109375 0 \nL 9.078125 0 \nL 9.078125 54.6875 \nL 18.109375 54.6875 \nL 18.109375 46.1875 \nQ 21.34375 51.125 25.703125 53.5625 \nQ 30.078125 56 35.796875 56 \nQ 45.21875 56 50.046875 50.171875 \nQ 54.890625 44.34375 54.890625 33.015625 \nz\n\" id=\"DejaVuSans-110\"/>\n      <path d=\"M 18.3125 70.21875 \nL 18.3125 54.6875 \nL 36.8125 54.6875 \nL 36.8125 47.703125 \nL 18.3125 47.703125 \nL 18.3125 18.015625 \nQ 18.3125 11.328125 20.140625 9.421875 \nQ 21.96875 7.515625 27.59375 7.515625 \nL 36.8125 7.515625 \nL 36.8125 0 \nL 27.59375 0 \nQ 17.1875 0 13.234375 3.875 \nQ 9.28125 7.765625 9.28125 18.015625 \nL 9.28125 47.703125 \nL 2.6875 47.703125 \nL 2.6875 54.6875 \nL 9.28125 54.6875 \nL 9.28125 70.21875 \nz\n\" id=\"DejaVuSans-116\"/>\n      <path d=\"M 9.421875 54.6875 \nL 18.40625 54.6875 \nL 18.40625 0 \nL 9.421875 0 \nz\nM 9.421875 75.984375 \nL 18.40625 75.984375 \nL 18.40625 64.59375 \nL 9.421875 64.59375 \nz\n\" id=\"DejaVuSans-105\"/>\n      <path d=\"M 34.28125 27.484375 \nQ 23.390625 27.484375 19.1875 25 \nQ 14.984375 22.515625 14.984375 16.5 \nQ 14.984375 11.71875 18.140625 8.90625 \nQ 21.296875 6.109375 26.703125 6.109375 \nQ 34.1875 6.109375 38.703125 11.40625 \nQ 43.21875 16.703125 43.21875 25.484375 \nL 43.21875 27.484375 \nz\nM 52.203125 31.203125 \nL 52.203125 0 \nL 43.21875 0 \nL 43.21875 8.296875 \nQ 40.140625 3.328125 35.546875 0.953125 \nQ 30.953125 -1.421875 24.3125 -1.421875 \nQ 15.921875 -1.421875 10.953125 3.296875 \nQ 6 8.015625 6 15.921875 \nQ 6 25.140625 12.171875 29.828125 \nQ 18.359375 34.515625 30.609375 34.515625 \nL 43.21875 34.515625 \nL 43.21875 35.40625 \nQ 43.21875 41.609375 39.140625 45 \nQ 35.0625 48.390625 27.6875 48.390625 \nQ 23 48.390625 18.546875 47.265625 \nQ 14.109375 46.140625 10.015625 43.890625 \nL 10.015625 52.203125 \nQ 14.9375 54.109375 19.578125 55.046875 \nQ 24.21875 56 28.609375 56 \nQ 40.484375 56 46.34375 49.84375 \nQ 52.203125 43.703125 52.203125 31.203125 \nz\n\" id=\"DejaVuSans-97\"/>\n      <path d=\"M 9.421875 75.984375 \nL 18.40625 75.984375 \nL 18.40625 0 \nL 9.421875 0 \nz\n\" id=\"DejaVuSans-108\"/>\n      <path id=\"DejaVuSans-32\"/>\n      <path d=\"M 48.78125 52.59375 \nL 48.78125 44.1875 \nQ 44.96875 46.296875 41.140625 47.34375 \nQ 37.3125 48.390625 33.40625 48.390625 \nQ 24.65625 48.390625 19.8125 42.84375 \nQ 14.984375 37.3125 14.984375 27.296875 \nQ 14.984375 17.28125 19.8125 11.734375 \nQ 24.65625 6.203125 33.40625 6.203125 \nQ 37.3125 6.203125 41.140625 7.25 \nQ 44.96875 8.296875 48.78125 10.40625 \nL 48.78125 2.09375 \nQ 45.015625 0.34375 40.984375 -0.53125 \nQ 36.96875 -1.421875 32.421875 -1.421875 \nQ 20.0625 -1.421875 12.78125 6.34375 \nQ 5.515625 14.109375 5.515625 27.296875 \nQ 5.515625 40.671875 12.859375 48.328125 \nQ 20.21875 56 33.015625 56 \nQ 37.15625 56 41.109375 55.140625 \nQ 45.0625 54.296875 48.78125 52.59375 \nz\n\" id=\"DejaVuSans-99\"/>\n      <path d=\"M 30.609375 48.390625 \nQ 23.390625 48.390625 19.1875 42.75 \nQ 14.984375 37.109375 14.984375 27.296875 \nQ 14.984375 17.484375 19.15625 11.84375 \nQ 23.34375 6.203125 30.609375 6.203125 \nQ 37.796875 6.203125 41.984375 11.859375 \nQ 46.1875 17.53125 46.1875 27.296875 \nQ 46.1875 37.015625 41.984375 42.703125 \nQ 37.796875 48.390625 30.609375 48.390625 \nz\nM 30.609375 56 \nQ 42.328125 56 49.015625 48.375 \nQ 55.71875 40.765625 55.71875 27.296875 \nQ 55.71875 13.875 49.015625 6.21875 \nQ 42.328125 -1.421875 30.609375 -1.421875 \nQ 18.84375 -1.421875 12.171875 6.21875 \nQ 5.515625 13.875 5.515625 27.296875 \nQ 5.515625 40.765625 12.171875 48.375 \nQ 18.84375 56 30.609375 56 \nz\n\" id=\"DejaVuSans-111\"/>\n      <path d=\"M 41.109375 46.296875 \nQ 39.59375 47.171875 37.8125 47.578125 \nQ 36.03125 48 33.890625 48 \nQ 26.265625 48 22.1875 43.046875 \nQ 18.109375 38.09375 18.109375 28.8125 \nL 18.109375 0 \nL 9.078125 0 \nL 9.078125 54.6875 \nL 18.109375 54.6875 \nL 18.109375 46.1875 \nQ 20.953125 51.171875 25.484375 53.578125 \nQ 30.03125 56 36.53125 56 \nQ 37.453125 56 38.578125 55.875 \nQ 39.703125 55.765625 41.0625 55.515625 \nz\n\" id=\"DejaVuSans-114\"/>\n      <path d=\"M 52 44.1875 \nQ 55.375 50.25 60.0625 53.125 \nQ 64.75 56 71.09375 56 \nQ 79.640625 56 84.28125 50.015625 \nQ 88.921875 44.046875 88.921875 33.015625 \nL 88.921875 0 \nL 79.890625 0 \nL 79.890625 32.71875 \nQ 79.890625 40.578125 77.09375 44.375 \nQ 74.3125 48.1875 68.609375 48.1875 \nQ 61.625 48.1875 57.5625 43.546875 \nQ 53.515625 38.921875 53.515625 30.90625 \nL 53.515625 0 \nL 44.484375 0 \nL 44.484375 32.71875 \nQ 44.484375 40.625 41.703125 44.40625 \nQ 38.921875 48.1875 33.109375 48.1875 \nQ 26.21875 48.1875 22.15625 43.53125 \nQ 18.109375 38.875 18.109375 30.90625 \nL 18.109375 0 \nL 9.078125 0 \nL 9.078125 54.6875 \nL 18.109375 54.6875 \nL 18.109375 46.1875 \nQ 21.1875 51.21875 25.484375 53.609375 \nQ 29.78125 56 35.6875 56 \nQ 41.65625 56 45.828125 52.96875 \nQ 50 49.953125 52 44.1875 \nz\n\" id=\"DejaVuSans-109\"/>\n      <path d=\"M 18.109375 8.203125 \nL 18.109375 -20.796875 \nL 9.078125 -20.796875 \nL 9.078125 54.6875 \nL 18.109375 54.6875 \nL 18.109375 46.390625 \nQ 20.953125 51.265625 25.265625 53.625 \nQ 29.59375 56 35.59375 56 \nQ 45.5625 56 51.78125 48.09375 \nQ 58.015625 40.1875 58.015625 27.296875 \nQ 58.015625 14.40625 51.78125 6.484375 \nQ 45.5625 -1.421875 35.59375 -1.421875 \nQ 29.59375 -1.421875 25.265625 0.953125 \nQ 20.953125 3.328125 18.109375 8.203125 \nz\nM 48.6875 27.296875 \nQ 48.6875 37.203125 44.609375 42.84375 \nQ 40.53125 48.484375 33.40625 48.484375 \nQ 26.265625 48.484375 22.1875 42.84375 \nQ 18.109375 37.203125 18.109375 27.296875 \nQ 18.109375 17.390625 22.1875 11.75 \nQ 26.265625 6.109375 33.40625 6.109375 \nQ 40.53125 6.109375 44.609375 11.75 \nQ 48.6875 17.390625 48.6875 27.296875 \nz\n\" id=\"DejaVuSans-112\"/>\n      <path d=\"M 44.28125 53.078125 \nL 44.28125 44.578125 \nQ 40.484375 46.53125 36.375 47.5 \nQ 32.28125 48.484375 27.875 48.484375 \nQ 21.1875 48.484375 17.84375 46.4375 \nQ 14.5 44.390625 14.5 40.28125 \nQ 14.5 37.15625 16.890625 35.375 \nQ 19.28125 33.59375 26.515625 31.984375 \nL 29.59375 31.296875 \nQ 39.15625 29.25 43.1875 25.515625 \nQ 47.21875 21.78125 47.21875 15.09375 \nQ 47.21875 7.46875 41.1875 3.015625 \nQ 35.15625 -1.421875 24.609375 -1.421875 \nQ 20.21875 -1.421875 15.453125 -0.5625 \nQ 10.6875 0.296875 5.421875 2 \nL 5.421875 11.28125 \nQ 10.40625 8.6875 15.234375 7.390625 \nQ 20.0625 6.109375 24.8125 6.109375 \nQ 31.15625 6.109375 34.5625 8.28125 \nQ 37.984375 10.453125 37.984375 14.40625 \nQ 37.984375 18.0625 35.515625 20.015625 \nQ 33.0625 21.96875 24.703125 23.78125 \nL 21.578125 24.515625 \nQ 13.234375 26.265625 9.515625 29.90625 \nQ 5.8125 33.546875 5.8125 39.890625 \nQ 5.8125 47.609375 11.28125 51.796875 \nQ 16.75 56 26.8125 56 \nQ 31.78125 56 36.171875 55.265625 \nQ 40.578125 54.546875 44.28125 53.078125 \nz\n\" id=\"DejaVuSans-115\"/>\n     </defs>\n     <use xlink:href=\"#DejaVuSans-83\"/>\n     <use x=\"63.476562\" xlink:href=\"#DejaVuSans-101\"/>\n     <use x=\"125\" xlink:href=\"#DejaVuSans-113\"/>\n     <use x=\"188.476562\" xlink:href=\"#DejaVuSans-117\"/>\n     <use x=\"251.855469\" xlink:href=\"#DejaVuSans-101\"/>\n     <use x=\"313.378906\" xlink:href=\"#DejaVuSans-110\"/>\n     <use x=\"376.757812\" xlink:href=\"#DejaVuSans-116\"/>\n     <use x=\"415.966797\" xlink:href=\"#DejaVuSans-105\"/>\n     <use x=\"443.75\" xlink:href=\"#DejaVuSans-97\"/>\n     <use x=\"505.029297\" xlink:href=\"#DejaVuSans-108\"/>\n     <use x=\"532.8125\" xlink:href=\"#DejaVuSans-32\"/>\n     <use x=\"564.599609\" xlink:href=\"#DejaVuSans-99\"/>\n     <use x=\"619.580078\" xlink:href=\"#DejaVuSans-111\"/>\n     <use x=\"680.761719\" xlink:href=\"#DejaVuSans-108\"/>\n     <use x=\"708.544922\" xlink:href=\"#DejaVuSans-111\"/>\n     <use x=\"769.726562\" xlink:href=\"#DejaVuSans-114\"/>\n     <use x=\"809.089844\" xlink:href=\"#DejaVuSans-109\"/>\n     <use x=\"906.501953\" xlink:href=\"#DejaVuSans-97\"/>\n     <use x=\"967.78125\" xlink:href=\"#DejaVuSans-112\"/>\n     <use x=\"1031.257812\" xlink:href=\"#DejaVuSans-115\"/>\n    </g>\n   </g>\n  </g>\n  <g id=\"axes_2\">\n   <g clip-path=\"url(#ped41dd7c28)\">\n    <image height=\"13\" id=\"image73418e904a\" transform=\"scale(1 -1)translate(0 -13)\" width=\"342\" x=\"53.679375\" xlink:href=\"data:image/png;base64,\niVBORw0KGgoAAAANSUhEUgAAAVYAAAANCAYAAADykUYDAAABEklEQVR4nO3UwZbDIAiFYabv/8adertoMYgkmTOH5f9tGhpU1Bx+fp8vmZlJMvd5lIW/zGQmyzlHoJmzJhzxd7yWYTPjdPySv66vlLfE/qg8f5g3x/H3W8wWx1pyvMzzOT/l9WO90nm+v7eb9zOhmM/+sV6KvQANFeNv4hHnz+vJyvMY1/Xs9df7Lc8j56f7+Uu+5Xrm/RTjx35+c7yfTYp9/+brX8Uj3r+ONXz/IdbwOTxO57/FOb+ud9/fdbzWG+/rLrZ9f3G+sd5nOf4s/2xPnj+/yfQNFPn+/DAAQCsaKwA0o7ECQDMaKwA0o7ECQDMaKwA0o7ECQDMaKwA0o7ECQDMaKwA0o7ECQDMaKwA0ewMnUhnzKl4p1QAAAABJRU5ErkJggg==\" y=\"-38.668841\"/>\n   </g>\n  </g>\n  <g id=\"axes_3\">\n   <g clip-path=\"url(#p5f92341028)\">\n    <image height=\"13\" id=\"image66fe9b0d82\" transform=\"scale(1 -1)translate(0 -13)\" width=\"342\" x=\"53.679375\" xlink:href=\"data:image/png;base64,\niVBORw0KGgoAAAANSUhEUgAAAVYAAAANCAYAAADykUYDAAABEklEQVR4nO3Uy27DMAxE0Wn//3+7KMDJQi9allMEINDNPYsgMimakWN+/fzakmRb7Zvkvh7s6zX3D8+4H6+lMisv1VSq6bRf2/6/etK2f/b6j/tz/yH3+Ko7rrX67Xts65EfXtdGPA73i8t5rvMO7+dvReq/xVtPsz+nel41Rv5x/8N61J6/r8fm+ezr0WOK+5J/OJ/8H+57vd0/x/f+8v3W8zvXn/dP5x2+1/dW/xo/9BPv8j+v9z4/x9t+3eqtuAry5/tifZwvR3ohoz+UWGvnte/5T/GKGjku6VsAgFIMVgAoxmAFgGIMVgAoxmAFgGIMVgAoxmAFgGIMVgAoxmAFgGIMVgAoxmAFgGIMVgAo9gIFFhfaPWgiIQAAAABJRU5ErkJggg==\" y=\"-53.849401\"/>\n   </g>\n  </g>\n  <g id=\"axes_4\">\n   <g clip-path=\"url(#pe8ed69517b)\">\n    <image height=\"13\" id=\"image7f26d740cd\" transform=\"scale(1 -1)translate(0 -13)\" width=\"342\" x=\"53.679375\" xlink:href=\"data:image/png;base64,\niVBORw0KGgoAAAANSUhEUgAAAVYAAAANCAYAAADykUYDAAABFklEQVR4nO3Uy27DMAxE0Un//3eLbApOF5ZkypDsBODynk3MkNTDCfh6//1akmzLsjrLkt2e+zcp3tQ7x7mioH4+4xxf8/35MXa+Xb7zIn+3327/1B+2rFjmY/R/l4/d+RyjZ5UPx/p8Y7846i/7n/vFVP99v48zbvuP/L5fihy7v1+1+13Wa7nIsfvbPPun9drntN54f5rOc12/372FKe55XWJL1hQ/1XtZv95PH/TH7Xl3+/Xf59PznfeJp3rN9cdLHz9YWyTHrab/QZzqe2+/YKT8+O6mZhw65ZdnOh5/BAAoxWAFgGIMVgAoxmAFgGIMVgAoxmAFgGIMVgAoxmAFgGIMVgAoxmAFgGIMVgAoxmAFgGL/fHZOll3YstYAAAAASUVORK5CYII=\" y=\"-69.029962\"/>\n   </g>\n  </g>\n  <g id=\"axes_5\">\n   <g clip-path=\"url(#p78e932608d)\">\n    <image height=\"13\" id=\"image161994de6f\" transform=\"scale(1 -1)translate(0 -13)\" width=\"342\" x=\"53.679375\" xlink:href=\"data:image/png;base64,\niVBORw0KGgoAAAANSUhEUgAAAVYAAAANCAYAAADykUYDAAABFElEQVR4nO3Uy27DMAxE0XH//0+77paThfW25ToAl/cAAcRIImkj4eG/X0uSbUmWzuBcu8Rtvdvf3Pk3h76o4WuPjiGO5f4mdsz1pjiWfh7iWvspXs/Xz9j/Lo6l322+l/lv893Fm/flm+d/sx+7/e/zeenPthQux+f+vdx36cVTfZ/3xnjo97beGMdzvfPnN8e9/nCm9df3X51f4rle/e7pfnt9ss513Y8aq8TuZ+7ium7/Jh+X+6E5v4fztXa/33vo+Y+Wr7R/yefl/vD40368zLE+o319J1MNHZKkHwEAUjFYASAZgxUAkjFYASAZgxUAkjFYASAZgxUAkjFYASAZgxUAkjFYASAZgxUAkjFYASDZBzAp3NI+2P64AAAAAElFTkSuQmCC\" y=\"-84.210523\"/>\n   </g>\n  </g>\n  <g id=\"axes_6\">\n   <g clip-path=\"url(#pb52afbd38e)\">\n    <image height=\"13\" id=\"image11782fd6d2\" transform=\"scale(1 -1)translate(0 -13)\" width=\"342\" x=\"53.679375\" xlink:href=\"data:image/png;base64,\niVBORw0KGgoAAAANSUhEUgAAAVYAAAANCAYAAADykUYDAAABJElEQVR4nO3UsXbDIAyFYbXv/7Bduup2kAAZE5+kR+P/TQYJBHaiL/3+yMxMkplkIZ//Nc45KR/reI9/Nr6cUZ45vvLdt/g29i1fHns+xJ/3P+T7i/jYe6z3N85/O0/mNNZb9z/tr8P6F+Pb+T/c7431ksp9ZfK1fj5nXBrvYIwjNu+bMXmtf42f69kxPn+bZRxTKp9D5XrX+Fpexyqf67CfHvbzeK7Xe8p3i6vNuMmU83N9zs3XlXlW1s64Re01zvXj9ZY5K2tXPVn590dMmnHP+l7OP+as5Hqp51rnX/nacmLuWmPEtdW4rx8Vvg0A0IrGCgDNaKwA0IzGCgDNaKwA0IzGCgDNaKwA0IzGCgDNaKwA0IzGCgDNaKwA0IzGCgDN/gB+rfqbwJEWDwAAAABJRU5ErkJggg==\" y=\"-99.391084\"/>\n   </g>\n  </g>\n  <g id=\"axes_7\">\n   <g clip-path=\"url(#pa4f4a8c688)\">\n    <image height=\"13\" id=\"image5aa79e1f7a\" transform=\"scale(1 -1)translate(0 -13)\" width=\"342\" x=\"53.679375\" xlink:href=\"data:image/png;base64,\niVBORw0KGgoAAAANSUhEUgAAAVYAAAANCAYAAADykUYDAAABE0lEQVR4nO3USY7DMAxE0XLf/5p9jFb1wpoHJwa4/A8IEEqkxNgBL/vXkiQnSfdXyWusJLmP85qU10vszVo5c4rrmrraUj/Fsuz5/K6nT3H5/inu738b97/HqX2O8V+L9U3+i/Ne11tK3sT+br/sDXG/Pz3vup8O+et5trvHfef6EMvOayVc4zuny9/Ep/tKP4/3Od+T64fYGuprfvK+fs6f7j/mp+f70vx6288bX2+XU1+P1vr2+K6lfvm7aDpvqG89SCX3GvvTpj/tz7em/mrO1XrQpofNGY895L0fAQBCMVgBIBiDFQCCMVgBIBiDFQCCMVgBIBiDFQCCMVgBIBiDFQCCMVgBIBiDFQCCMVgBINg/hnvcuH5ZIXAAAAAASUVORK5CYII=\" y=\"-114.571644\"/>\n   </g>\n  </g>\n  <g id=\"axes_8\">\n   <g clip-path=\"url(#p47c2398a74)\">\n    <image height=\"13\" id=\"image9796ed3ba9\" transform=\"scale(1 -1)translate(0 -13)\" width=\"342\" x=\"53.679375\" xlink:href=\"data:image/png;base64,\niVBORw0KGgoAAAANSUhEUgAAAVYAAAANCAYAAADykUYDAAABHElEQVR4nO3UW27DMAxE0VH3v7SuidMPmTalxnm0/LwHCOARJcWKHQ7725Ikh+R5KeX1kR3z2nFkr1k+xsoe55r/7BllvuUtr9/3Iue97Pf86Ay5/tO8n8fl/A4ptmzPsZr/PN9SbOfPPWrOeszsc37OUamr7Ndct+dP90HdOZb7h67z/cpl7Kw/W1/m3K5/f77Dx09e7j+8vu5L9vF4rv1qdhx7uey/zy/fd9Zu7mf/e+SrZo/lcUTmrOvKUeef9TzPWF9fj+V1CI/t9Z31qLnWJYXG9TjK51H2i3o8GfMba+5yrv0SAKAVjRUAmtFYAaAZjRUAmtFYAaAZjRUAmtFYAaAZjRUAmtFYAaAZjRUAmtFYAaAZjRUAmv0Af0Wszn0Ej4IAAAAASUVORK5CYII=\" y=\"-129.752205\"/>\n   </g>\n  </g>\n  <g id=\"axes_9\">\n   <g clip-path=\"url(#pd8e91047fa)\">\n    <image height=\"13\" id=\"image4041d78a3c\" transform=\"scale(1 -1)translate(0 -13)\" width=\"342\" x=\"53.679375\" xlink:href=\"data:image/png;base64,\niVBORw0KGgoAAAANSUhEUgAAAVYAAAANCAYAAADykUYDAAABKElEQVR4nO3Uu3aFMAxE0Un+/1PTp9OkwI8xhLDIcnl2hbAt27pcffj7y5JklyRLR3A8u8XjuR7G813dz1ly1MP4zOfLeM3xp7jnOu932T/u+DbO+4xY6/zlPFrPu9xPv8yP2NKlXj7tl/Vbcs3YOV5Rr2p3qZvxy/z2POa3tb6J/zHfcT/XWr/jp3CUq92vZuysd2nNZ7dPNvKd1o8cir36/L42zueo3xFbror1M3b18/b961gT9cnYrf4Zu2K/lmvsd4rdap/rq+b3MM+75quH8VxfD+O5vsa4bvOXxr9N/Z83u8P72PFef8Rvc0rSpwAAW9FYAWAzGisAbEZjBYDNaKwAsBmNFQA2o7ECwGY0VgDYjMYKAJvRWAFgMxorAGxGYwWAzX4AFXDupzUF8bEAAAAASUVORK5CYII=\" y=\"-144.932766\"/>\n   </g>\n  </g>\n  <g id=\"axes_10\">\n   <g clip-path=\"url(#pbc977e4cfa)\">\n    <image height=\"13\" id=\"imageb33b039bf0\" transform=\"scale(1 -1)translate(0 -13)\" width=\"342\" x=\"53.679375\" xlink:href=\"data:image/png;base64,\niVBORw0KGgoAAAANSUhEUgAAAVYAAAANCAYAAADykUYDAAABXklEQVR4nO2UwW4DIQxEh/7/51aqevH0gAHDJooqcXzvsMpgj8Gbxe3n+9eSZFu2Ji7C7o+5Ysn9seJ64V8p//Jk+nPPGrd7PA49DOG9p5GbCzMWLv7Sd/T4qTf/UU+WfNRb8XzEoY9+tPXzrP/077r2r6P/s79aXyE1Wy11y3jL/VqevWV6y/otz7viw6+MD//yjPxW3l8b3lJvnGGPl/NHzPpdr3hzbFqR9SK2/Ol3xqL0v/ljrc384o9jP0f/RtYfKjvk/GD7Xdi10zP9WtqpVbVD84aM/Wa99B56xvvHrxj15Dy+x+cg24qsH145XXvXeZdr/siZutz3kDO+6kXx971Vzpf+fJ/9dznfoa2Ya6/jnvXe1/BRIz7E1+8vAQDAVRisAACXYbACAFyGwQoAcBkGKwDAZRisAACXYbACAFyGwQoAcBkGKwDAZRisAACXYbACAFyGwQoAcJk/RpT/rubRsk4AAAAASUVORK5CYII=\" y=\"-160.113327\"/>\n   </g>\n  </g>\n  <g id=\"axes_11\">\n   <g clip-path=\"url(#pc74d49ed38)\">\n    <image height=\"13\" id=\"image8f1e20167c\" transform=\"scale(1 -1)translate(0 -13)\" width=\"342\" x=\"53.679375\" xlink:href=\"data:image/png;base64,\niVBORw0KGgoAAAANSUhEUgAAAVYAAAANCAYAAADykUYDAAABP0lEQVR4nO2UO5bEMAgE2b3/bTeYjN7AAiFZ9iSEVYlfG9GAP/zo8yczM0lmktkl7tfr1LuW8p5ez4z7VR+vynSTLs/0C8/qr83/FLcv8b3+Q//H+NQ5f+nffNM17ofzW1ynuO/ny/PxTde4R/tFu9Z49BT9uZZ6qjpyFz2umV/radbIfvWsR66Gvzx6KOP71KbrjFwlPnXG43359Ky6xiPn0krP0EtcMndlPR/9efYj8+LvrsyJeq6ar2W+0F76C4/0c83HOc6m3+jf43+NV56PT5uOT0bxOpbP2cf5qSNHm65xbfqtnzFzqbf66ZCvrR/d5rv3qG3m55rTY53RzOzXAACgFRYrAEAzLFYAgGZYrAAAzbBYAQCaYbECADTDYgUAaIbFCgDQDIsVAKAZFisAQDMsVgCAZlisAADN/ANsgb/bl2N1LAAAAABJRU5ErkJggg==\" y=\"-175.293887\"/>\n   </g>\n  </g>\n  <g id=\"axes_12\">\n   <g clip-path=\"url(#pf7bc2913a2)\">\n    <image height=\"13\" id=\"imagec004452c38\" transform=\"scale(1 -1)translate(0 -13)\" width=\"342\" x=\"53.679375\" xlink:href=\"data:image/png;base64,\niVBORw0KGgoAAAANSUhEUgAAAVYAAAANCAYAAADykUYDAAABLklEQVR4nO3Uy3LEIAxE0U7+/3+zSdRZ8LBgsFNTpezuWRkLCwQz+vj6/rEk2ZYtSVJ/oT6Ufb0b8fboJX56t38zco7815otmNeU1j1531Pe88znNf7W/L6Ph/mxz1/qO+VP46U+H9bb8237y+dxGMdS7816N/k1nmOtX2n/suVI97fFHfv8lD+8rdf3ntabOcc4vOyvFblc6P+OUz3vjn2Mj8KucT4PpfO46j3fz1/n4WN9OX+/nzwOX//XWMeK6Pe/zZ/3t8/34/wZu5s/Yml+OBTz/9Ke3X+Qoei//z62FYp5vi/x/m2o5W1HGvO7UdNjjkN8/AM/BQAoRWMFgGI0VgAoRmMFgGI0VgAoRmMFgGI0VgAoRmMFgGI0VgAoRmMFgGI0VgAoRmMFgGK/GlwEz2fiKUYAAAAASUVORK5CYII=\" y=\"-190.474448\"/>\n   </g>\n  </g>\n  <g id=\"axes_13\">\n   <g clip-path=\"url(#pce8cff4a0b)\">\n    <image height=\"13\" id=\"imagee1ca9d287e\" transform=\"scale(1 -1)translate(0 -13)\" width=\"342\" x=\"53.679375\" xlink:href=\"data:image/png;base64,\niVBORw0KGgoAAAANSUhEUgAAAVYAAAANCAYAAADykUYDAAABSElEQVR4nO2UuW7AIBBEh/z/x6ZLE+2k4FowThSJ8r3GHpg9jNGWr+9PS5JtWZYktYVFW5b8u65ramtn3eTI7yFH1uGvnhTvEd2c7i1M/ZJPLX5bOeZs7a065Zzfo3QG29NrRz1fLxft/bGf+rek8Fp/38/xofU8lvwtJvb44ZfCZeTv73Zp/fYaZdZLfrs0T/Y/80Xbd4o55TvXL4rRbxkxr/3MK/qs771+96d8rcaId61btZ71k7/mtxzzvMPp/0S7j577u7/md/L3OzhzLzrtxz/9do9J9/HRX+3jWO/kj0N8rvfneax+RaQLa8mheSGanj9s1d2bdW1C6dD7Qay678em3+IlfQgAAK7CYAUAuAyDFQDgMgxWAIDLMFgBAC7DYAUAuAyDFQDgMgxWAIDLMFgBAC7DYAUAuAyDFQDgMgxWAIDL/ADJ0fbxh9OwMwAAAABJRU5ErkJggg==\" y=\"-205.655009\"/>\n   </g>\n  </g>\n  <g id=\"axes_14\">\n   <g clip-path=\"url(#paf88129cf4)\">\n    <image height=\"13\" id=\"imageee9f0f9035\" transform=\"scale(1 -1)translate(0 -13)\" width=\"342\" x=\"53.679375\" xlink:href=\"data:image/png;base64,\niVBORw0KGgoAAAANSUhEUgAAAVYAAAANCAYAAADykUYDAAABJUlEQVR4nO3Uy1LEMAxE0Yb//18WVKln4bEjOSEpQMt7NqTjWH5MoQ9/fVuSbMvW4hRsyfNB81myrPT6/dcPc2r9Yxkfc3J9r3jek53q7fl8nvHNWm3NKftLeR8vNX3UOM6bs1cNSYo9q+7nx6w0/ybbVmz3epslRTpfzG/KuNN65zzXXOu/16j7qeef9cMq+Wo/84zH/sYa837CtV6k/ayc1g/dfe9y/nGWbb51v376ft1Hvv98nm29p/F131t9/2L8qv76n7LHLZfsmue7yxwP407v3r+4Y8v7eM12jDnrwCn7b9mO40ed4/5PHs+fAgC0orECQDMaKwA0o7ECQDMaKwA0o7ECQDMaKwA0o7ECQDMaKwA0o7ECQDMaKwA0o7ECQLMXXrX7urv21y8AAAAASUVORK5CYII=\" y=\"-220.83557\"/>\n   </g>\n  </g>\n  <g id=\"axes_15\">\n   <g clip-path=\"url(#pce17e0f074)\">\n    <image height=\"13\" id=\"image95bf6c846e\" transform=\"scale(1 -1)translate(0 -13)\" width=\"342\" x=\"53.679375\" xlink:href=\"data:image/png;base64,\niVBORw0KGgoAAAANSUhEUgAAAVYAAAANCAYAAADykUYDAAABRUlEQVR4nO2US27DMAxER73/BXsYc7KQKVNS0haFlu8BWQw1/Mh22OxvS5IdsqyOZYVkDzViqe3ijy3WvcVjj9hcI5Ye6Y8Ry3O7TtjHGxP4idXzSL/bdh4lP2tVHXfef/uFpav4+6/Xu/zE+nnrscV/3f5Y/JebQjU/a7ZF5xt6erybJ7TPM9fv95nna5POO8/11vrlPj/W3/vZ5Xlbcjz53s4tx+yPNd+S7wKpt3pRtfd68b7/MMSib0PLy2dCflDlhbZpoOUF2b1Gza8f9Jqf3nrBUPfU/l78H/ToPf0hftdt/4P9UavvhPuB9321ak9at2ec1/zb6zceDU/meNGfZ8gLfwkAAI7CYgUAOAyLFQDgMCxWAIDDsFgBAA7DYgUAOAyLFQDgMCxWAIDDsFgBAA7DYgUAOAyLFQDgMCxWAIDDvAABDN6lYapCBgAAAABJRU5ErkJggg==\" y=\"-236.01613\"/>\n   </g>\n  </g>\n  <g id=\"axes_16\">\n   <g clip-path=\"url(#pcc37aad83e)\">\n    <image height=\"13\" id=\"imagec2cfc68fcb\" transform=\"scale(1 -1)translate(0 -13)\" width=\"342\" x=\"53.679375\" xlink:href=\"data:image/png;base64,\niVBORw0KGgoAAAANSUhEUgAAAVYAAAANCAYAAADykUYDAAABL0lEQVR4nO3Uy3LDIBBE0U7+/3+zSNW0Fwx4QIRUUizv2Vit4SVk8eGvb0uSbdlKee2RHlnWaD/ndtOb3Jrtc+8/57GgHG/Jet+z5v69rlN9XU/9zWfuM9oeY9Q9muqH9rHm3v+3rNL/kG0r6n5Y5ywpyp5G5phyG1Ol9nN2u1dztpuz3/21zreZf+xHPmN5P9P6/d6DKY/3Ou/P2r639bQ+z+/POs+vsl5H5sj2kXuQ2aFY67KcORRjjD5eKMr7etad91rdOcc+O9fS52sPGuUDCLWP8FT/a/tS79ePPP7h+YGWeizjTx/Mkh/12Nfjn3127cv1pwAAV3GwAsBlHKwAcBkHKwBcxsEKAJdxsALAZRysAHAZBysAXMbBCgCXcbACwGUcrABwGQcrAFz2AuEl96VqitL9AAAAAElFTkSuQmCC\" y=\"-251.196691\"/>\n   </g>\n  </g>\n  <g id=\"axes_17\">\n   <g clip-path=\"url(#p06fb9f1297)\">\n    <image height=\"13\" id=\"image084684caaa\" transform=\"scale(1 -1)translate(0 -13)\" width=\"342\" x=\"53.679375\" xlink:href=\"data:image/png;base64,\niVBORw0KGgoAAAANSUhEUgAAAVYAAAANCAYAAADykUYDAAABR0lEQVR4nO2UQXLDMAhFae9/325afhYGCWwlM51h+d4iMeILELL5+vn9k5mZJJNttH7Wn6UifSf9UftR33Wf9JKKrba24mjHC0Ws7z1Lr26rHFprrdaXmoxVeiaVnNlPmccGj/xe6nU97cznaUf49LnpaOfziieZl354+Gt8lfx3W/JDvLI//DV+P6/380bsVm9oVn1Ss7OGet7rVM/9Cv22s76tl/m+z7B3/33F2O+Dt/u5x7964m/yh13ze81/yyeZ6eB3f6vXSZ9+736LWp76fj9Lnv2u/ZLd7Po+2b/0krX3/ai3ro+PyNaCZNH+/MAvzXVhe83K3jygF/9a+6BZRRf/sabr8dsAAGAUBisAwDAMVgCAYRisAADDMFgBAIZhsAIADMNgBQAYhsEKADAMgxUAYBgGKwDAMAxWAIBhGKwAAMO8AHICNJYN797MAAAAAElFTkSuQmCC\" y=\"-266.377252\"/>\n   </g>\n  </g>\n  <g id=\"axes_18\">\n   <g clip-path=\"url(#p4866973fcc)\">\n    <image height=\"13\" id=\"image9e5ab1ea0e\" transform=\"scale(1 -1)translate(0 -13)\" width=\"342\" x=\"53.679375\" xlink:href=\"data:image/png;base64,\niVBORw0KGgoAAAANSUhEUgAAAVYAAAANCAYAAADykUYDAAABLUlEQVR4nO2US3bEMAgEO7n/NXMNOgt9DBrrzYZl1WbcAjVY8vBj/1mS7JBkDUKWi5YsK6aeMcdUK/fx8H6+ePriqeyZe7Ls2Gpo52jV9lj70LM/P3ue6h6BpEvcab+8PV717CVc41nHkf+h56+mj7Ne9bZee9L7nVp+6nt5HPt3vZofh99V3/y6/WdsyqHtcl5R3n+cb95f/f3p73re4Xx+h0419/3bctT72N9TuOpxuSl/xXXJ91zTkZ/9n/618y/9eJ2BalyHLvX23yV9n2c810s63em7/6F3k7mhXDCtvel4yz/3HDnxxfO1h/H4KwAAaIXBCgDQDIMVAKAZBisAQDMMVgCAZhisAADNMFgBAJphsAIANMNgBQBohsEKANAMgxUAoBkGKwBAM/9whiSlQlLhBwAAAABJRU5ErkJggg==\" y=\"-281.557812\"/>\n   </g>\n  </g>\n  <g id=\"text_2\">\n   <!-- Greys -->\n   <g transform=\"translate(20.44375 32.922421)scale(0.1 -0.1)\">\n    <defs>\n     <path d=\"M 59.515625 10.40625 \nL 59.515625 29.984375 \nL 43.40625 29.984375 \nL 43.40625 38.09375 \nL 69.28125 38.09375 \nL 69.28125 6.78125 \nQ 63.578125 2.734375 56.6875 0.65625 \nQ 49.8125 -1.421875 42 -1.421875 \nQ 24.90625 -1.421875 15.25 8.5625 \nQ 5.609375 18.5625 5.609375 36.375 \nQ 5.609375 54.25 15.25 64.234375 \nQ 24.90625 74.21875 42 74.21875 \nQ 49.125 74.21875 55.546875 72.453125 \nQ 61.96875 70.703125 67.390625 67.28125 \nL 67.390625 56.78125 \nQ 61.921875 61.421875 55.765625 63.765625 \nQ 49.609375 66.109375 42.828125 66.109375 \nQ 29.4375 66.109375 22.71875 58.640625 \nQ 16.015625 51.171875 16.015625 36.375 \nQ 16.015625 21.625 22.71875 14.15625 \nQ 29.4375 6.6875 42.828125 6.6875 \nQ 48.046875 6.6875 52.140625 7.59375 \nQ 56.25 8.5 59.515625 10.40625 \nz\n\" id=\"DejaVuSans-71\"/>\n     <path d=\"M 32.171875 -5.078125 \nQ 28.375 -14.84375 24.75 -17.8125 \nQ 21.140625 -20.796875 15.09375 -20.796875 \nL 7.90625 -20.796875 \nL 7.90625 -13.28125 \nL 13.1875 -13.28125 \nQ 16.890625 -13.28125 18.9375 -11.515625 \nQ 21 -9.765625 23.484375 -3.21875 \nL 25.09375 0.875 \nL 2.984375 54.6875 \nL 12.5 54.6875 \nL 29.59375 11.921875 \nL 46.6875 54.6875 \nL 56.203125 54.6875 \nz\n\" id=\"DejaVuSans-121\"/>\n    </defs>\n    <use xlink:href=\"#DejaVuSans-71\"/>\n    <use x=\"77.490234\" xlink:href=\"#DejaVuSans-114\"/>\n    <use x=\"116.353516\" xlink:href=\"#DejaVuSans-101\"/>\n    <use x=\"177.876953\" xlink:href=\"#DejaVuSans-121\"/>\n    <use x=\"237.056641\" xlink:href=\"#DejaVuSans-115\"/>\n   </g>\n  </g>\n  <g id=\"text_3\">\n   <!-- Purples -->\n   <g transform=\"translate(12.567188 48.102982)scale(0.1 -0.1)\">\n    <defs>\n     <path d=\"M 19.671875 64.796875 \nL 19.671875 37.40625 \nL 32.078125 37.40625 \nQ 38.96875 37.40625 42.71875 40.96875 \nQ 46.484375 44.53125 46.484375 51.125 \nQ 46.484375 57.671875 42.71875 61.234375 \nQ 38.96875 64.796875 32.078125 64.796875 \nz\nM 9.8125 72.90625 \nL 32.078125 72.90625 \nQ 44.34375 72.90625 50.609375 67.359375 \nQ 56.890625 61.8125 56.890625 51.125 \nQ 56.890625 40.328125 50.609375 34.8125 \nQ 44.34375 29.296875 32.078125 29.296875 \nL 19.671875 29.296875 \nL 19.671875 0 \nL 9.8125 0 \nz\n\" id=\"DejaVuSans-80\"/>\n    </defs>\n    <use xlink:href=\"#DejaVuSans-80\"/>\n    <use x=\"58.552734\" xlink:href=\"#DejaVuSans-117\"/>\n    <use x=\"121.931641\" xlink:href=\"#DejaVuSans-114\"/>\n    <use x=\"163.044922\" xlink:href=\"#DejaVuSans-112\"/>\n    <use x=\"226.521484\" xlink:href=\"#DejaVuSans-108\"/>\n    <use x=\"254.304688\" xlink:href=\"#DejaVuSans-101\"/>\n    <use x=\"315.828125\" xlink:href=\"#DejaVuSans-115\"/>\n   </g>\n  </g>\n  <g id=\"text_4\">\n   <!-- Blues -->\n   <g transform=\"translate(22.020313 63.283543)scale(0.1 -0.1)\">\n    <defs>\n     <path d=\"M 19.671875 34.8125 \nL 19.671875 8.109375 \nL 35.5 8.109375 \nQ 43.453125 8.109375 47.28125 11.40625 \nQ 51.125 14.703125 51.125 21.484375 \nQ 51.125 28.328125 47.28125 31.5625 \nQ 43.453125 34.8125 35.5 34.8125 \nz\nM 19.671875 64.796875 \nL 19.671875 42.828125 \nL 34.28125 42.828125 \nQ 41.5 42.828125 45.03125 45.53125 \nQ 48.578125 48.25 48.578125 53.8125 \nQ 48.578125 59.328125 45.03125 62.0625 \nQ 41.5 64.796875 34.28125 64.796875 \nz\nM 9.8125 72.90625 \nL 35.015625 72.90625 \nQ 46.296875 72.90625 52.390625 68.21875 \nQ 58.5 63.53125 58.5 54.890625 \nQ 58.5 48.1875 55.375 44.234375 \nQ 52.25 40.28125 46.1875 39.3125 \nQ 53.46875 37.75 57.5 32.78125 \nQ 61.53125 27.828125 61.53125 20.40625 \nQ 61.53125 10.640625 54.890625 5.3125 \nQ 48.25 0 35.984375 0 \nL 9.8125 0 \nz\n\" id=\"DejaVuSans-66\"/>\n    </defs>\n    <use xlink:href=\"#DejaVuSans-66\"/>\n    <use x=\"68.603516\" xlink:href=\"#DejaVuSans-108\"/>\n    <use x=\"96.386719\" xlink:href=\"#DejaVuSans-117\"/>\n    <use x=\"159.765625\" xlink:href=\"#DejaVuSans-101\"/>\n    <use x=\"221.289062\" xlink:href=\"#DejaVuSans-115\"/>\n   </g>\n  </g>\n  <g id=\"text_5\">\n   <!-- Greens -->\n   <g transform=\"translate(13.871875 78.464103)scale(0.1 -0.1)\">\n    <use xlink:href=\"#DejaVuSans-71\"/>\n    <use x=\"77.490234\" xlink:href=\"#DejaVuSans-114\"/>\n    <use x=\"116.353516\" xlink:href=\"#DejaVuSans-101\"/>\n    <use x=\"177.876953\" xlink:href=\"#DejaVuSans-101\"/>\n    <use x=\"239.400391\" xlink:href=\"#DejaVuSans-110\"/>\n    <use x=\"302.779297\" xlink:href=\"#DejaVuSans-115\"/>\n   </g>\n  </g>\n  <g id=\"text_6\">\n   <!-- Oranges -->\n   <g transform=\"translate(7.2 93.644664)scale(0.1 -0.1)\">\n    <defs>\n     <path d=\"M 39.40625 66.21875 \nQ 28.65625 66.21875 22.328125 58.203125 \nQ 16.015625 50.203125 16.015625 36.375 \nQ 16.015625 22.609375 22.328125 14.59375 \nQ 28.65625 6.59375 39.40625 6.59375 \nQ 50.140625 6.59375 56.421875 14.59375 \nQ 62.703125 22.609375 62.703125 36.375 \nQ 62.703125 50.203125 56.421875 58.203125 \nQ 50.140625 66.21875 39.40625 66.21875 \nz\nM 39.40625 74.21875 \nQ 54.734375 74.21875 63.90625 63.9375 \nQ 73.09375 53.65625 73.09375 36.375 \nQ 73.09375 19.140625 63.90625 8.859375 \nQ 54.734375 -1.421875 39.40625 -1.421875 \nQ 24.03125 -1.421875 14.8125 8.828125 \nQ 5.609375 19.09375 5.609375 36.375 \nQ 5.609375 53.65625 14.8125 63.9375 \nQ 24.03125 74.21875 39.40625 74.21875 \nz\n\" id=\"DejaVuSans-79\"/>\n     <path d=\"M 45.40625 27.984375 \nQ 45.40625 37.75 41.375 43.109375 \nQ 37.359375 48.484375 30.078125 48.484375 \nQ 22.859375 48.484375 18.828125 43.109375 \nQ 14.796875 37.75 14.796875 27.984375 \nQ 14.796875 18.265625 18.828125 12.890625 \nQ 22.859375 7.515625 30.078125 7.515625 \nQ 37.359375 7.515625 41.375 12.890625 \nQ 45.40625 18.265625 45.40625 27.984375 \nz\nM 54.390625 6.78125 \nQ 54.390625 -7.171875 48.1875 -13.984375 \nQ 42 -20.796875 29.203125 -20.796875 \nQ 24.46875 -20.796875 20.265625 -20.09375 \nQ 16.0625 -19.390625 12.109375 -17.921875 \nL 12.109375 -9.1875 \nQ 16.0625 -11.328125 19.921875 -12.34375 \nQ 23.78125 -13.375 27.78125 -13.375 \nQ 36.625 -13.375 41.015625 -8.765625 \nQ 45.40625 -4.15625 45.40625 5.171875 \nL 45.40625 9.625 \nQ 42.625 4.78125 38.28125 2.390625 \nQ 33.9375 0 27.875 0 \nQ 17.828125 0 11.671875 7.65625 \nQ 5.515625 15.328125 5.515625 27.984375 \nQ 5.515625 40.671875 11.671875 48.328125 \nQ 17.828125 56 27.875 56 \nQ 33.9375 56 38.28125 53.609375 \nQ 42.625 51.21875 45.40625 46.390625 \nL 45.40625 54.6875 \nL 54.390625 54.6875 \nz\n\" id=\"DejaVuSans-103\"/>\n    </defs>\n    <use xlink:href=\"#DejaVuSans-79\"/>\n    <use x=\"78.710938\" xlink:href=\"#DejaVuSans-114\"/>\n    <use x=\"119.824219\" xlink:href=\"#DejaVuSans-97\"/>\n    <use x=\"181.103516\" xlink:href=\"#DejaVuSans-110\"/>\n    <use x=\"244.482422\" xlink:href=\"#DejaVuSans-103\"/>\n    <use x=\"307.958984\" xlink:href=\"#DejaVuSans-101\"/>\n    <use x=\"369.482422\" xlink:href=\"#DejaVuSans-115\"/>\n   </g>\n  </g>\n  <g id=\"text_7\">\n   <!-- Reds -->\n   <g transform=\"translate(25.15 108.825225)scale(0.1 -0.1)\">\n    <defs>\n     <path d=\"M 44.390625 34.1875 \nQ 47.5625 33.109375 50.5625 29.59375 \nQ 53.5625 26.078125 56.59375 19.921875 \nL 66.609375 0 \nL 56 0 \nL 46.6875 18.703125 \nQ 43.0625 26.03125 39.671875 28.421875 \nQ 36.28125 30.8125 30.421875 30.8125 \nL 19.671875 30.8125 \nL 19.671875 0 \nL 9.8125 0 \nL 9.8125 72.90625 \nL 32.078125 72.90625 \nQ 44.578125 72.90625 50.734375 67.671875 \nQ 56.890625 62.453125 56.890625 51.90625 \nQ 56.890625 45.015625 53.6875 40.46875 \nQ 50.484375 35.9375 44.390625 34.1875 \nz\nM 19.671875 64.796875 \nL 19.671875 38.921875 \nL 32.078125 38.921875 \nQ 39.203125 38.921875 42.84375 42.21875 \nQ 46.484375 45.515625 46.484375 51.90625 \nQ 46.484375 58.296875 42.84375 61.546875 \nQ 39.203125 64.796875 32.078125 64.796875 \nz\n\" id=\"DejaVuSans-82\"/>\n     <path d=\"M 45.40625 46.390625 \nL 45.40625 75.984375 \nL 54.390625 75.984375 \nL 54.390625 0 \nL 45.40625 0 \nL 45.40625 8.203125 \nQ 42.578125 3.328125 38.25 0.953125 \nQ 33.9375 -1.421875 27.875 -1.421875 \nQ 17.96875 -1.421875 11.734375 6.484375 \nQ 5.515625 14.40625 5.515625 27.296875 \nQ 5.515625 40.1875 11.734375 48.09375 \nQ 17.96875 56 27.875 56 \nQ 33.9375 56 38.25 53.625 \nQ 42.578125 51.265625 45.40625 46.390625 \nz\nM 14.796875 27.296875 \nQ 14.796875 17.390625 18.875 11.75 \nQ 22.953125 6.109375 30.078125 6.109375 \nQ 37.203125 6.109375 41.296875 11.75 \nQ 45.40625 17.390625 45.40625 27.296875 \nQ 45.40625 37.203125 41.296875 42.84375 \nQ 37.203125 48.484375 30.078125 48.484375 \nQ 22.953125 48.484375 18.875 42.84375 \nQ 14.796875 37.203125 14.796875 27.296875 \nz\n\" id=\"DejaVuSans-100\"/>\n    </defs>\n    <use xlink:href=\"#DejaVuSans-82\"/>\n    <use x=\"64.982422\" xlink:href=\"#DejaVuSans-101\"/>\n    <use x=\"126.505859\" xlink:href=\"#DejaVuSans-100\"/>\n    <use x=\"189.982422\" xlink:href=\"#DejaVuSans-115\"/>\n   </g>\n  </g>\n  <g id=\"text_8\">\n   <!-- YlOrBr -->\n   <g transform=\"translate(17.51875 124.005786)scale(0.1 -0.1)\">\n    <defs>\n     <path d=\"M -0.203125 72.90625 \nL 10.40625 72.90625 \nL 30.609375 42.921875 \nL 50.6875 72.90625 \nL 61.28125 72.90625 \nL 35.5 34.71875 \nL 35.5 0 \nL 25.59375 0 \nL 25.59375 34.71875 \nz\n\" id=\"DejaVuSans-89\"/>\n    </defs>\n    <use xlink:href=\"#DejaVuSans-89\"/>\n    <use x=\"61.083984\" xlink:href=\"#DejaVuSans-108\"/>\n    <use x=\"88.867188\" xlink:href=\"#DejaVuSans-79\"/>\n    <use x=\"167.578125\" xlink:href=\"#DejaVuSans-114\"/>\n    <use x=\"208.691406\" xlink:href=\"#DejaVuSans-66\"/>\n    <use x=\"277.294922\" xlink:href=\"#DejaVuSans-114\"/>\n   </g>\n  </g>\n  <g id=\"text_9\">\n   <!-- YlOrRd -->\n   <g transform=\"translate(15.19375 139.186346)scale(0.1 -0.1)\">\n    <use xlink:href=\"#DejaVuSans-89\"/>\n    <use x=\"61.083984\" xlink:href=\"#DejaVuSans-108\"/>\n    <use x=\"88.867188\" xlink:href=\"#DejaVuSans-79\"/>\n    <use x=\"167.578125\" xlink:href=\"#DejaVuSans-114\"/>\n    <use x=\"208.691406\" xlink:href=\"#DejaVuSans-82\"/>\n    <use x=\"278.173828\" xlink:href=\"#DejaVuSans-100\"/>\n   </g>\n  </g>\n  <g id=\"text_10\">\n   <!-- OrRd -->\n   <g transform=\"translate(24.079688 154.366907)scale(0.1 -0.1)\">\n    <use xlink:href=\"#DejaVuSans-79\"/>\n    <use x=\"78.710938\" xlink:href=\"#DejaVuSans-114\"/>\n    <use x=\"119.824219\" xlink:href=\"#DejaVuSans-82\"/>\n    <use x=\"189.306641\" xlink:href=\"#DejaVuSans-100\"/>\n   </g>\n  </g>\n  <g id=\"text_11\">\n   <!-- PuRd -->\n   <g transform=\"translate(23.870313 169.547468)scale(0.1 -0.1)\">\n    <use xlink:href=\"#DejaVuSans-80\"/>\n    <use x=\"58.552734\" xlink:href=\"#DejaVuSans-117\"/>\n    <use x=\"121.931641\" xlink:href=\"#DejaVuSans-82\"/>\n    <use x=\"191.414062\" xlink:href=\"#DejaVuSans-100\"/>\n   </g>\n  </g>\n  <g id=\"text_12\">\n   <!-- RdPu -->\n   <g transform=\"translate(23.870313 184.728029)scale(0.1 -0.1)\">\n    <use xlink:href=\"#DejaVuSans-82\"/>\n    <use x=\"69.482422\" xlink:href=\"#DejaVuSans-100\"/>\n    <use x=\"132.958984\" xlink:href=\"#DejaVuSans-80\"/>\n    <use x=\"191.511719\" xlink:href=\"#DejaVuSans-117\"/>\n   </g>\n  </g>\n  <g id=\"text_13\">\n   <!-- BuPu -->\n   <g transform=\"translate(23.96875 199.908589)scale(0.1 -0.1)\">\n    <use xlink:href=\"#DejaVuSans-66\"/>\n    <use x=\"68.603516\" xlink:href=\"#DejaVuSans-117\"/>\n    <use x=\"131.982422\" xlink:href=\"#DejaVuSans-80\"/>\n    <use x=\"190.535156\" xlink:href=\"#DejaVuSans-117\"/>\n   </g>\n  </g>\n  <g id=\"text_14\">\n   <!-- GnBu -->\n   <g transform=\"translate(22.075 215.08915)scale(0.1 -0.1)\">\n    <use xlink:href=\"#DejaVuSans-71\"/>\n    <use x=\"77.490234\" xlink:href=\"#DejaVuSans-110\"/>\n    <use x=\"140.869141\" xlink:href=\"#DejaVuSans-66\"/>\n    <use x=\"209.472656\" xlink:href=\"#DejaVuSans-117\"/>\n   </g>\n  </g>\n  <g id=\"text_15\">\n   <!-- PuBu -->\n   <g transform=\"translate(23.96875 230.269711)scale(0.1 -0.1)\">\n    <use xlink:href=\"#DejaVuSans-80\"/>\n    <use x=\"58.552734\" xlink:href=\"#DejaVuSans-117\"/>\n    <use x=\"121.931641\" xlink:href=\"#DejaVuSans-66\"/>\n    <use x=\"190.535156\" xlink:href=\"#DejaVuSans-117\"/>\n   </g>\n  </g>\n  <g id=\"text_16\">\n   <!-- YlGnBu -->\n   <g transform=\"translate(13.189063 245.450272)scale(0.1 -0.1)\">\n    <use xlink:href=\"#DejaVuSans-89\"/>\n    <use x=\"61.083984\" xlink:href=\"#DejaVuSans-108\"/>\n    <use x=\"88.867188\" xlink:href=\"#DejaVuSans-71\"/>\n    <use x=\"166.357422\" xlink:href=\"#DejaVuSans-110\"/>\n    <use x=\"229.736328\" xlink:href=\"#DejaVuSans-66\"/>\n    <use x=\"298.339844\" xlink:href=\"#DejaVuSans-117\"/>\n   </g>\n  </g>\n  <g id=\"text_17\">\n   <!-- PuBuGn -->\n   <g transform=\"translate(9.882813 260.630832)scale(0.1 -0.1)\">\n    <use xlink:href=\"#DejaVuSans-80\"/>\n    <use x=\"58.552734\" xlink:href=\"#DejaVuSans-117\"/>\n    <use x=\"121.931641\" xlink:href=\"#DejaVuSans-66\"/>\n    <use x=\"190.535156\" xlink:href=\"#DejaVuSans-117\"/>\n    <use x=\"253.914062\" xlink:href=\"#DejaVuSans-71\"/>\n    <use x=\"331.404297\" xlink:href=\"#DejaVuSans-110\"/>\n   </g>\n  </g>\n  <g id=\"text_18\">\n   <!-- BuGn -->\n   <g transform=\"translate(22.075 275.811393)scale(0.1 -0.1)\">\n    <use xlink:href=\"#DejaVuSans-66\"/>\n    <use x=\"68.603516\" xlink:href=\"#DejaVuSans-117\"/>\n    <use x=\"131.982422\" xlink:href=\"#DejaVuSans-71\"/>\n    <use x=\"209.472656\" xlink:href=\"#DejaVuSans-110\"/>\n   </g>\n  </g>\n  <g id=\"text_19\">\n   <!-- YlGn -->\n   <g transform=\"translate(26.3875 290.991954)scale(0.1 -0.1)\">\n    <use xlink:href=\"#DejaVuSans-89\"/>\n    <use x=\"61.083984\" xlink:href=\"#DejaVuSans-108\"/>\n    <use x=\"88.867188\" xlink:href=\"#DejaVuSans-71\"/>\n    <use x=\"166.357422\" xlink:href=\"#DejaVuSans-110\"/>\n   </g>\n  </g>\n </g>\n <defs>\n  <clipPath id=\"pab3a21a5bb\">\n   <rect height=\"12.650467\" width=\"341.28\" x=\"53.679375\" y=\"23.837812\"/>\n  </clipPath>\n  <clipPath id=\"ped41dd7c28\">\n   <rect height=\"12.650467\" width=\"341.28\" x=\"53.679375\" y=\"39.018373\"/>\n  </clipPath>\n  <clipPath id=\"p5f92341028\">\n   <rect height=\"12.650467\" width=\"341.28\" x=\"53.679375\" y=\"54.198934\"/>\n  </clipPath>\n  <clipPath id=\"pe8ed69517b\">\n   <rect height=\"12.650467\" width=\"341.28\" x=\"53.679375\" y=\"69.379495\"/>\n  </clipPath>\n  <clipPath id=\"p78e932608d\">\n   <rect height=\"12.650467\" width=\"341.28\" x=\"53.679375\" y=\"84.560055\"/>\n  </clipPath>\n  <clipPath id=\"pb52afbd38e\">\n   <rect height=\"12.650467\" width=\"341.28\" x=\"53.679375\" y=\"99.740616\"/>\n  </clipPath>\n  <clipPath id=\"pa4f4a8c688\">\n   <rect height=\"12.650467\" width=\"341.28\" x=\"53.679375\" y=\"114.921177\"/>\n  </clipPath>\n  <clipPath id=\"p47c2398a74\">\n   <rect height=\"12.650467\" width=\"341.28\" x=\"53.679375\" y=\"130.101738\"/>\n  </clipPath>\n  <clipPath id=\"pd8e91047fa\">\n   <rect height=\"12.650467\" width=\"341.28\" x=\"53.679375\" y=\"145.282298\"/>\n  </clipPath>\n  <clipPath id=\"pbc977e4cfa\">\n   <rect height=\"12.650467\" width=\"341.28\" x=\"53.679375\" y=\"160.462859\"/>\n  </clipPath>\n  <clipPath id=\"pc74d49ed38\">\n   <rect height=\"12.650467\" width=\"341.28\" x=\"53.679375\" y=\"175.64342\"/>\n  </clipPath>\n  <clipPath id=\"pf7bc2913a2\">\n   <rect height=\"12.650467\" width=\"341.28\" x=\"53.679375\" y=\"190.823981\"/>\n  </clipPath>\n  <clipPath id=\"pce8cff4a0b\">\n   <rect height=\"12.650467\" width=\"341.28\" x=\"53.679375\" y=\"206.004541\"/>\n  </clipPath>\n  <clipPath id=\"paf88129cf4\">\n   <rect height=\"12.650467\" width=\"341.28\" x=\"53.679375\" y=\"221.185102\"/>\n  </clipPath>\n  <clipPath id=\"pce17e0f074\">\n   <rect height=\"12.650467\" width=\"341.28\" x=\"53.679375\" y=\"236.365663\"/>\n  </clipPath>\n  <clipPath id=\"pcc37aad83e\">\n   <rect height=\"12.650467\" width=\"341.28\" x=\"53.679375\" y=\"251.546224\"/>\n  </clipPath>\n  <clipPath id=\"p06fb9f1297\">\n   <rect height=\"12.650467\" width=\"341.28\" x=\"53.679375\" y=\"266.726784\"/>\n  </clipPath>\n  <clipPath id=\"p4866973fcc\">\n   <rect height=\"12.650467\" width=\"341.28\" x=\"53.679375\" y=\"281.907345\"/>\n  </clipPath>\n </defs>\n</svg>\n",
      "image/png": "[encoded data removed]"
     },
     "metadata": {
      "needs_background": "light"
     }
    },
    {
     "output_type": "display_data",
     "data": {
      "text/plain": "<Figure size 432x288 with 18 Axes>",
      "image/svg+xml": "<?xml version=\"1.0\" encoding=\"utf-8\" standalone=\"no\"?>\n<!DOCTYPE svg PUBLIC \"-//W3C//DTD SVG 1.1//EN\"\n  \"http://www.w3.org/Graphics/SVG/1.1/DTD/svg11.dtd\">\n<!-- Created with matplotlib (https://matplotlib.org/) -->\n<svg height=\"301.757812pt\" version=\"1.1\" viewBox=\"0 0 396.13125 301.757812\" width=\"396.13125pt\" xmlns=\"http://www.w3.org/2000/svg\" xmlns:xlink=\"http://www.w3.org/1999/xlink\">\n <metadata>\n  <rdf:RDF xmlns:cc=\"http://creativecommons.org/ns#\" xmlns:dc=\"http://purl.org/dc/elements/1.1/\" xmlns:rdf=\"http://www.w3.org/1999/02/22-rdf-syntax-ns#\">\n   <cc:Work>\n    <dc:type rdf:resource=\"http://purl.org/dc/dcmitype/StillImage\"/>\n    <dc:date>2020-11-03T14:54:48.695382</dc:date>\n    <dc:format>image/svg+xml</dc:format>\n    <dc:creator>\n     <cc:Agent>\n      <dc:title>Matplotlib v3.3.1, https://matplotlib.org/</dc:title>\n     </cc:Agent>\n    </dc:creator>\n   </cc:Work>\n  </rdf:RDF>\n </metadata>\n <defs>\n  <style type=\"text/css\">*{stroke-linecap:butt;stroke-linejoin:round;}</style>\n </defs>\n <g id=\"figure_1\">\n  <g id=\"patch_1\">\n   <path d=\"M 0 301.757812 \nL 396.13125 301.757812 \nL 396.13125 0 \nL 0 0 \nz\n\" style=\"fill:none;\"/>\n  </g>\n  <g id=\"axes_1\">\n   <g clip-path=\"url(#p312a010c1e)\">\n    <image height=\"13\" id=\"image1aa46756e7\" transform=\"scale(1 -1)translate(0 -13)\" width=\"342\" x=\"47.65125\" xlink:href=\"data:image/png;base64,\niVBORw0KGgoAAAANSUhEUgAAAVYAAAANCAYAAADykUYDAAAAjklEQVR4nO3UoRIBYRiGUSuIgrRbkLZKblsSZHehGUEXJIEL2F97Zz5jzrmCJz3d63h4z37UadhXJ0wM61t1QtPquqlOaNouz9UJTd04Vic03S+P6oSmfr6rTph49ovqhK/m1QEA/8ZYAcKMFSDMWAHCjBUgzFgBwowVIMxYAcKMFSDMWAHCjBUgzFgBwj6mwAvvozqRbQAAAABJRU5ErkJggg==\" y=\"-23.48828\"/>\n   </g>\n   <g id=\"text_1\">\n    <!-- Qualitative colormaps -->\n    <g transform=\"translate(141.454219 17.837812)scale(0.14 -0.14)\">\n     <defs>\n      <path d=\"M 39.40625 66.21875 \nQ 28.65625 66.21875 22.328125 58.203125 \nQ 16.015625 50.203125 16.015625 36.375 \nQ 16.015625 22.609375 22.328125 14.59375 \nQ 28.65625 6.59375 39.40625 6.59375 \nQ 50.140625 6.59375 56.421875 14.59375 \nQ 62.703125 22.609375 62.703125 36.375 \nQ 62.703125 50.203125 56.421875 58.203125 \nQ 50.140625 66.21875 39.40625 66.21875 \nz\nM 53.21875 1.3125 \nL 66.21875 -12.890625 \nL 54.296875 -12.890625 \nL 43.5 -1.21875 \nQ 41.890625 -1.3125 41.03125 -1.359375 \nQ 40.1875 -1.421875 39.40625 -1.421875 \nQ 24.03125 -1.421875 14.8125 8.859375 \nQ 5.609375 19.140625 5.609375 36.375 \nQ 5.609375 53.65625 14.8125 63.9375 \nQ 24.03125 74.21875 39.40625 74.21875 \nQ 54.734375 74.21875 63.90625 63.9375 \nQ 73.09375 53.65625 73.09375 36.375 \nQ 73.09375 23.6875 67.984375 14.640625 \nQ 62.890625 5.609375 53.21875 1.3125 \nz\n\" id=\"DejaVuSans-81\"/>\n      <path d=\"M 8.5 21.578125 \nL 8.5 54.6875 \nL 17.484375 54.6875 \nL 17.484375 21.921875 \nQ 17.484375 14.15625 20.5 10.265625 \nQ 23.53125 6.390625 29.59375 6.390625 \nQ 36.859375 6.390625 41.078125 11.03125 \nQ 45.3125 15.671875 45.3125 23.6875 \nL 45.3125 54.6875 \nL 54.296875 54.6875 \nL 54.296875 0 \nL 45.3125 0 \nL 45.3125 8.40625 \nQ 42.046875 3.421875 37.71875 1 \nQ 33.40625 -1.421875 27.6875 -1.421875 \nQ 18.265625 -1.421875 13.375 4.4375 \nQ 8.5 10.296875 8.5 21.578125 \nz\nM 31.109375 56 \nz\n\" id=\"DejaVuSans-117\"/>\n      <path d=\"M 34.28125 27.484375 \nQ 23.390625 27.484375 19.1875 25 \nQ 14.984375 22.515625 14.984375 16.5 \nQ 14.984375 11.71875 18.140625 8.90625 \nQ 21.296875 6.109375 26.703125 6.109375 \nQ 34.1875 6.109375 38.703125 11.40625 \nQ 43.21875 16.703125 43.21875 25.484375 \nL 43.21875 27.484375 \nz\nM 52.203125 31.203125 \nL 52.203125 0 \nL 43.21875 0 \nL 43.21875 8.296875 \nQ 40.140625 3.328125 35.546875 0.953125 \nQ 30.953125 -1.421875 24.3125 -1.421875 \nQ 15.921875 -1.421875 10.953125 3.296875 \nQ 6 8.015625 6 15.921875 \nQ 6 25.140625 12.171875 29.828125 \nQ 18.359375 34.515625 30.609375 34.515625 \nL 43.21875 34.515625 \nL 43.21875 35.40625 \nQ 43.21875 41.609375 39.140625 45 \nQ 35.0625 48.390625 27.6875 48.390625 \nQ 23 48.390625 18.546875 47.265625 \nQ 14.109375 46.140625 10.015625 43.890625 \nL 10.015625 52.203125 \nQ 14.9375 54.109375 19.578125 55.046875 \nQ 24.21875 56 28.609375 56 \nQ 40.484375 56 46.34375 49.84375 \nQ 52.203125 43.703125 52.203125 31.203125 \nz\n\" id=\"DejaVuSans-97\"/>\n      <path d=\"M 9.421875 75.984375 \nL 18.40625 75.984375 \nL 18.40625 0 \nL 9.421875 0 \nz\n\" id=\"DejaVuSans-108\"/>\n      <path d=\"M 9.421875 54.6875 \nL 18.40625 54.6875 \nL 18.40625 0 \nL 9.421875 0 \nz\nM 9.421875 75.984375 \nL 18.40625 75.984375 \nL 18.40625 64.59375 \nL 9.421875 64.59375 \nz\n\" id=\"DejaVuSans-105\"/>\n      <path d=\"M 18.3125 70.21875 \nL 18.3125 54.6875 \nL 36.8125 54.6875 \nL 36.8125 47.703125 \nL 18.3125 47.703125 \nL 18.3125 18.015625 \nQ 18.3125 11.328125 20.140625 9.421875 \nQ 21.96875 7.515625 27.59375 7.515625 \nL 36.8125 7.515625 \nL 36.8125 0 \nL 27.59375 0 \nQ 17.1875 0 13.234375 3.875 \nQ 9.28125 7.765625 9.28125 18.015625 \nL 9.28125 47.703125 \nL 2.6875 47.703125 \nL 2.6875 54.6875 \nL 9.28125 54.6875 \nL 9.28125 70.21875 \nz\n\" id=\"DejaVuSans-116\"/>\n      <path d=\"M 2.984375 54.6875 \nL 12.5 54.6875 \nL 29.59375 8.796875 \nL 46.6875 54.6875 \nL 56.203125 54.6875 \nL 35.6875 0 \nL 23.484375 0 \nz\n\" id=\"DejaVuSans-118\"/>\n      <path d=\"M 56.203125 29.59375 \nL 56.203125 25.203125 \nL 14.890625 25.203125 \nQ 15.484375 15.921875 20.484375 11.0625 \nQ 25.484375 6.203125 34.421875 6.203125 \nQ 39.59375 6.203125 44.453125 7.46875 \nQ 49.3125 8.734375 54.109375 11.28125 \nL 54.109375 2.78125 \nQ 49.265625 0.734375 44.1875 -0.34375 \nQ 39.109375 -1.421875 33.890625 -1.421875 \nQ 20.796875 -1.421875 13.15625 6.1875 \nQ 5.515625 13.8125 5.515625 26.8125 \nQ 5.515625 40.234375 12.765625 48.109375 \nQ 20.015625 56 32.328125 56 \nQ 43.359375 56 49.78125 48.890625 \nQ 56.203125 41.796875 56.203125 29.59375 \nz\nM 47.21875 32.234375 \nQ 47.125 39.59375 43.09375 43.984375 \nQ 39.0625 48.390625 32.421875 48.390625 \nQ 24.90625 48.390625 20.390625 44.140625 \nQ 15.875 39.890625 15.1875 32.171875 \nz\n\" id=\"DejaVuSans-101\"/>\n      <path id=\"DejaVuSans-32\"/>\n      <path d=\"M 48.78125 52.59375 \nL 48.78125 44.1875 \nQ 44.96875 46.296875 41.140625 47.34375 \nQ 37.3125 48.390625 33.40625 48.390625 \nQ 24.65625 48.390625 19.8125 42.84375 \nQ 14.984375 37.3125 14.984375 27.296875 \nQ 14.984375 17.28125 19.8125 11.734375 \nQ 24.65625 6.203125 33.40625 6.203125 \nQ 37.3125 6.203125 41.140625 7.25 \nQ 44.96875 8.296875 48.78125 10.40625 \nL 48.78125 2.09375 \nQ 45.015625 0.34375 40.984375 -0.53125 \nQ 36.96875 -1.421875 32.421875 -1.421875 \nQ 20.0625 -1.421875 12.78125 6.34375 \nQ 5.515625 14.109375 5.515625 27.296875 \nQ 5.515625 40.671875 12.859375 48.328125 \nQ 20.21875 56 33.015625 56 \nQ 37.15625 56 41.109375 55.140625 \nQ 45.0625 54.296875 48.78125 52.59375 \nz\n\" id=\"DejaVuSans-99\"/>\n      <path d=\"M 30.609375 48.390625 \nQ 23.390625 48.390625 19.1875 42.75 \nQ 14.984375 37.109375 14.984375 27.296875 \nQ 14.984375 17.484375 19.15625 11.84375 \nQ 23.34375 6.203125 30.609375 6.203125 \nQ 37.796875 6.203125 41.984375 11.859375 \nQ 46.1875 17.53125 46.1875 27.296875 \nQ 46.1875 37.015625 41.984375 42.703125 \nQ 37.796875 48.390625 30.609375 48.390625 \nz\nM 30.609375 56 \nQ 42.328125 56 49.015625 48.375 \nQ 55.71875 40.765625 55.71875 27.296875 \nQ 55.71875 13.875 49.015625 6.21875 \nQ 42.328125 -1.421875 30.609375 -1.421875 \nQ 18.84375 -1.421875 12.171875 6.21875 \nQ 5.515625 13.875 5.515625 27.296875 \nQ 5.515625 40.765625 12.171875 48.375 \nQ 18.84375 56 30.609375 56 \nz\n\" id=\"DejaVuSans-111\"/>\n      <path d=\"M 41.109375 46.296875 \nQ 39.59375 47.171875 37.8125 47.578125 \nQ 36.03125 48 33.890625 48 \nQ 26.265625 48 22.1875 43.046875 \nQ 18.109375 38.09375 18.109375 28.8125 \nL 18.109375 0 \nL 9.078125 0 \nL 9.078125 54.6875 \nL 18.109375 54.6875 \nL 18.109375 46.1875 \nQ 20.953125 51.171875 25.484375 53.578125 \nQ 30.03125 56 36.53125 56 \nQ 37.453125 56 38.578125 55.875 \nQ 39.703125 55.765625 41.0625 55.515625 \nz\n\" id=\"DejaVuSans-114\"/>\n      <path d=\"M 52 44.1875 \nQ 55.375 50.25 60.0625 53.125 \nQ 64.75 56 71.09375 56 \nQ 79.640625 56 84.28125 50.015625 \nQ 88.921875 44.046875 88.921875 33.015625 \nL 88.921875 0 \nL 79.890625 0 \nL 79.890625 32.71875 \nQ 79.890625 40.578125 77.09375 44.375 \nQ 74.3125 48.1875 68.609375 48.1875 \nQ 61.625 48.1875 57.5625 43.546875 \nQ 53.515625 38.921875 53.515625 30.90625 \nL 53.515625 0 \nL 44.484375 0 \nL 44.484375 32.71875 \nQ 44.484375 40.625 41.703125 44.40625 \nQ 38.921875 48.1875 33.109375 48.1875 \nQ 26.21875 48.1875 22.15625 43.53125 \nQ 18.109375 38.875 18.109375 30.90625 \nL 18.109375 0 \nL 9.078125 0 \nL 9.078125 54.6875 \nL 18.109375 54.6875 \nL 18.109375 46.1875 \nQ 21.1875 51.21875 25.484375 53.609375 \nQ 29.78125 56 35.6875 56 \nQ 41.65625 56 45.828125 52.96875 \nQ 50 49.953125 52 44.1875 \nz\n\" id=\"DejaVuSans-109\"/>\n      <path d=\"M 18.109375 8.203125 \nL 18.109375 -20.796875 \nL 9.078125 -20.796875 \nL 9.078125 54.6875 \nL 18.109375 54.6875 \nL 18.109375 46.390625 \nQ 20.953125 51.265625 25.265625 53.625 \nQ 29.59375 56 35.59375 56 \nQ 45.5625 56 51.78125 48.09375 \nQ 58.015625 40.1875 58.015625 27.296875 \nQ 58.015625 14.40625 51.78125 6.484375 \nQ 45.5625 -1.421875 35.59375 -1.421875 \nQ 29.59375 -1.421875 25.265625 0.953125 \nQ 20.953125 3.328125 18.109375 8.203125 \nz\nM 48.6875 27.296875 \nQ 48.6875 37.203125 44.609375 42.84375 \nQ 40.53125 48.484375 33.40625 48.484375 \nQ 26.265625 48.484375 22.1875 42.84375 \nQ 18.109375 37.203125 18.109375 27.296875 \nQ 18.109375 17.390625 22.1875 11.75 \nQ 26.265625 6.109375 33.40625 6.109375 \nQ 40.53125 6.109375 44.609375 11.75 \nQ 48.6875 17.390625 48.6875 27.296875 \nz\n\" id=\"DejaVuSans-112\"/>\n      <path d=\"M 44.28125 53.078125 \nL 44.28125 44.578125 \nQ 40.484375 46.53125 36.375 47.5 \nQ 32.28125 48.484375 27.875 48.484375 \nQ 21.1875 48.484375 17.84375 46.4375 \nQ 14.5 44.390625 14.5 40.28125 \nQ 14.5 37.15625 16.890625 35.375 \nQ 19.28125 33.59375 26.515625 31.984375 \nL 29.59375 31.296875 \nQ 39.15625 29.25 43.1875 25.515625 \nQ 47.21875 21.78125 47.21875 15.09375 \nQ 47.21875 7.46875 41.1875 3.015625 \nQ 35.15625 -1.421875 24.609375 -1.421875 \nQ 20.21875 -1.421875 15.453125 -0.5625 \nQ 10.6875 0.296875 5.421875 2 \nL 5.421875 11.28125 \nQ 10.40625 8.6875 15.234375 7.390625 \nQ 20.0625 6.109375 24.8125 6.109375 \nQ 31.15625 6.109375 34.5625 8.28125 \nQ 37.984375 10.453125 37.984375 14.40625 \nQ 37.984375 18.0625 35.515625 20.015625 \nQ 33.0625 21.96875 24.703125 23.78125 \nL 21.578125 24.515625 \nQ 13.234375 26.265625 9.515625 29.90625 \nQ 5.8125 33.546875 5.8125 39.890625 \nQ 5.8125 47.609375 11.28125 51.796875 \nQ 16.75 56 26.8125 56 \nQ 31.78125 56 36.171875 55.265625 \nQ 40.578125 54.546875 44.28125 53.078125 \nz\n\" id=\"DejaVuSans-115\"/>\n     </defs>\n     <use xlink:href=\"#DejaVuSans-81\"/>\n     <use x=\"78.710938\" xlink:href=\"#DejaVuSans-117\"/>\n     <use x=\"142.089844\" xlink:href=\"#DejaVuSans-97\"/>\n     <use x=\"203.369141\" xlink:href=\"#DejaVuSans-108\"/>\n     <use x=\"231.152344\" xlink:href=\"#DejaVuSans-105\"/>\n     <use x=\"258.935547\" xlink:href=\"#DejaVuSans-116\"/>\n     <use x=\"298.144531\" xlink:href=\"#DejaVuSans-97\"/>\n     <use x=\"359.423828\" xlink:href=\"#DejaVuSans-116\"/>\n     <use x=\"398.632812\" xlink:href=\"#DejaVuSans-105\"/>\n     <use x=\"426.416016\" xlink:href=\"#DejaVuSans-118\"/>\n     <use x=\"485.595703\" xlink:href=\"#DejaVuSans-101\"/>\n     <use x=\"547.119141\" xlink:href=\"#DejaVuSans-32\"/>\n     <use x=\"578.90625\" xlink:href=\"#DejaVuSans-99\"/>\n     <use x=\"633.886719\" xlink:href=\"#DejaVuSans-111\"/>\n     <use x=\"695.068359\" xlink:href=\"#DejaVuSans-108\"/>\n     <use x=\"722.851562\" xlink:href=\"#DejaVuSans-111\"/>\n     <use x=\"784.033203\" xlink:href=\"#DejaVuSans-114\"/>\n     <use x=\"823.396484\" xlink:href=\"#DejaVuSans-109\"/>\n     <use x=\"920.808594\" xlink:href=\"#DejaVuSans-97\"/>\n     <use x=\"982.087891\" xlink:href=\"#DejaVuSans-112\"/>\n     <use x=\"1045.564453\" xlink:href=\"#DejaVuSans-115\"/>\n    </g>\n   </g>\n  </g>\n  <g id=\"axes_2\">\n   <g clip-path=\"url(#pcdc1930745)\">\n    <image height=\"13\" id=\"image9b81cb5783\" transform=\"scale(1 -1)translate(0 -13)\" width=\"342\" x=\"47.65125\" xlink:href=\"data:image/png;base64,\niVBORw0KGgoAAAANSUhEUgAAAVYAAAANCAYAAADykUYDAAAAh0lEQVR4nO3UsQkCARBFwfMiWzAxF1uwAtu1Dm3AQBBMNJEDM0Vb2ODDcjJTwYve4nA9foeZ2D8u3Qllp+WuO6Fk83p3J5RN21t3QtnqM4/W6bnuTig737sL6sbuAIB/Y6wAYcYKEGasAGHGChBmrABhxgoQZqwAYcYKEGasAGHGChBmrABhP9MyEH008AnEAAAAAElFTkSuQmCC\" y=\"-38.668841\"/>\n   </g>\n  </g>\n  <g id=\"axes_3\">\n   <g clip-path=\"url(#pc60856a4a6)\">\n    <image height=\"13\" id=\"image3e1e19c430\" transform=\"scale(1 -1)translate(0 -13)\" width=\"342\" x=\"47.65125\" xlink:href=\"data:image/png;base64,\niVBORw0KGgoAAAANSUhEUgAAAVYAAAANCAYAAADykUYDAAAAqklEQVR4nO3UsWkCABRF0RfHyBoZxc4FrDKAXcTSQkTSh0AsUjqBSoqAINi4gI0z2OgSn1/IOQu85nFf1sfLPc0mv6fWvdX43LqXJNPdd+ve/+29dS9Jrh+z1r3Xn2Hr3mC7bN1LksNb71e/5n+te0nyue9Nzma0aN1LkkH7IsCTE1aAYsIKUExYAYoJK0AxYQUoJqwAxYQVoJiwAhQTVoBiwgpQTFgBij0Ahw0XSxzUU/sAAAAASUVORK5CYII=\" y=\"-53.849401\"/>\n   </g>\n  </g>\n  <g id=\"axes_4\">\n   <g clip-path=\"url(#p0f1366e0f8)\">\n    <image height=\"13\" id=\"image9e27e61e94\" transform=\"scale(1 -1)translate(0 -13)\" width=\"342\" x=\"47.65125\" xlink:href=\"data:image/png;base64,\niVBORw0KGgoAAAANSUhEUgAAAVYAAAANCAYAAADykUYDAAAAiklEQVR4nO3UIRECYRRGUViLA0EW1F8BgyAEGbYFRMCjqIDaFOSACk98M29gzklw1V3Pr/mz+hHjfepOKBvbR3dCyTR23Qllh8u+O6HseV26E0qW8607oey+OXYnlE3dAQD/xlgBwowVIMxYAcKMFSDMWAHCjBUgzFgBwowVIMxYAcKMFSDMWAHCviolC0uR+X/TAAAAAElFTkSuQmCC\" y=\"-69.029962\"/>\n   </g>\n  </g>\n  <g id=\"axes_5\">\n   <g clip-path=\"url(#paff74e10ab)\">\n    <image height=\"13\" id=\"image2358053fac\" transform=\"scale(1 -1)translate(0 -13)\" width=\"342\" x=\"47.65125\" xlink:href=\"data:image/png;base64,\niVBORw0KGgoAAAANSUhEUgAAAVYAAAANCAYAAADykUYDAAAAjElEQVR4nO3UsQ1BARSGUSQGUL+JrKNRCb1WKW8HpUae2gAWMIANWOEWf3JDzpngq775MG4/sx9xux+7E8rOq0t3Qsnm+uxOKNvvTt0JZYflqzuhZHoM3Qll03vdnVC26A4A+DfGChBmrABhxgoQZqwAYcYKEGasAGHGChBmrABhxgoQZqwAYcYKEPYFj1EOS7WeUYEAAAAASUVORK5CYII=\" y=\"-84.210523\"/>\n   </g>\n  </g>\n  <g id=\"axes_6\">\n   <g clip-path=\"url(#pae579c358b)\">\n    <image height=\"13\" id=\"image732d3f7992\" transform=\"scale(1 -1)translate(0 -13)\" width=\"342\" x=\"47.65125\" xlink:href=\"data:image/png;base64,\niVBORw0KGgoAAAANSUhEUgAAAVYAAAANCAYAAADykUYDAAAAlElEQVR4nO3UsQ2BYRhGUQwhIjZQ/TGGShSi0EmsYQaNRiLR2EltBTUD/J/uSV6Rcya41R0+p7P34Eet95fqhJ5xd6pOaFpet9UJTYduV53QdlxUFzTdN6/qhKbV/Fyd0HObPKoTvhpVBwD8G2MFCDNWgDBjBQgzVoAwYwUIM1aAMGMFCDNWgDBjBQgzVoAwYwUI+wApDgvkfPIy3gAAAABJRU5ErkJggg==\" y=\"-99.391084\"/>\n   </g>\n  </g>\n  <g id=\"axes_7\">\n   <g clip-path=\"url(#p79be09c97f)\">\n    <image height=\"13\" id=\"imagee5f1637ec9\" transform=\"scale(1 -1)translate(0 -13)\" width=\"342\" x=\"47.65125\" xlink:href=\"data:image/png;base64,\niVBORw0KGgoAAAANSUhEUgAAAVYAAAANCAYAAADykUYDAAAAi0lEQVR4nO3UsQ1BARSGUc8KBrCRnp7EOK+xgTHkJVqJBfQKCq2OFW7xJzfknAm+6ht25+Nn9iMOl1N3Qtm42HcnlGwe7+6Esmk1dieUrYdbd0LJ/bntTii7vpbdCWXz7gCAf2OsAGHGChBmrABhxgoQZqwAYcYKEGasAGHGChBmrABhxgoQZqwAYV8HhA8yej59yQAAAABJRU5ErkJggg==\" y=\"-114.571644\"/>\n   </g>\n  </g>\n  <g id=\"axes_8\">\n   <g clip-path=\"url(#p99db2ad02e)\">\n    <image height=\"13\" id=\"imagecf64116ca1\" transform=\"scale(1 -1)translate(0 -13)\" width=\"342\" x=\"47.65125\" xlink:href=\"data:image/png;base64,\niVBORw0KGgoAAAANSUhEUgAAAVYAAAANCAYAAADykUYDAAAAqklEQVR4nO3UIU4CABiG4U8IEAzegs1RHNkDeAyyjQyR6KjcgI0DUAw2PQDZBNGNQodL/PuDe54LvO19+Dj+3NJsMf1r7X19Tlp7SfL6vW3trV/mrb0kWQ03rb3D86i193ZZtvaS5Pfx2to77c6tvSR5eh+39maDfWsvSQbtRYB/zlgBihkrQDFjBShmrADFjBWgmLECFDNWgGLGClDMWAGKGStAMWMFKHYHgrISdE5P8koAAAAASUVORK5CYII=\" y=\"-129.752205\"/>\n   </g>\n  </g>\n  <g id=\"axes_9\">\n   <g clip-path=\"url(#p9dc61b3632)\">\n    <image height=\"13\" id=\"imagee773b31290\" transform=\"scale(1 -1)translate(0 -13)\" width=\"342\" x=\"47.65125\" xlink:href=\"data:image/png;base64,\niVBORw0KGgoAAAANSUhEUgAAAVYAAAANCAYAAADykUYDAAAAo0lEQVR4nO3UoU0DYBgA0SuqU0A6ACNA2IIEBukIdbi6OhwJDguzsAEWQQKOCb7kJ+S9CU7d5mL/8t0f8b69W51Q1eXufHVCVU+Hr9UJVb3dHFcnVPX58bA6oarb3X51QlWn7evqhKqurh9XJ1R1v3lenfDrbHUAwH9jrADDjBVgmLECDDNWgGHGCjDMWAGGGSvAMGMFGGasAMOMFWCYsQIM+wH9tQ69WuIowQAAAABJRU5ErkJggg==\" y=\"-144.932766\"/>\n   </g>\n  </g>\n  <g id=\"axes_10\">\n   <g clip-path=\"url(#p7e626994c8)\">\n    <image height=\"13\" id=\"image3a703dda9b\" transform=\"scale(1 -1)translate(0 -13)\" width=\"342\" x=\"47.65125\" xlink:href=\"data:image/png;base64,\niVBORw0KGgoAAAANSUhEUgAAAVYAAAANCAYAAADykUYDAAAAzElEQVR4nO3UoQ5BcQCF8T9PIJgJ5jYmsNkE4c7dBLsa2eYBMJvCI9AkVdS0G7yBSR5ANI9ApXmBc+L3e4BvJ51ctMm+wWA/6siN8aWmD4lncqL5yuTGIpnKjV56lBuN1VJuHO51udEeluXG9bSWG93BUG5Ej5bcKCYFubG7neVGmqZy4/2ZyI2oOpcb8bMvN7aVktwIIYS8pQIA+ONYAcCMYwUAM44VAMw4VgAw41gBwIxjBQAzjhUAzDhWADDjWAHAjGMFADOOFQDMfhPvGHaapRVOAAAAAElFTkSuQmCC\" y=\"-160.113327\"/>\n   </g>\n  </g>\n  <g id=\"axes_11\">\n   <g clip-path=\"url(#pf7767b6c2d)\">\n    <image height=\"13\" id=\"imageac565a0d03\" transform=\"scale(1 -1)translate(0 -13)\" width=\"342\" x=\"47.65125\" xlink:href=\"data:image/png;base64,\niVBORw0KGgoAAAANSUhEUgAAAVYAAAANCAYAAADykUYDAAAAvklEQVR4nO3UIU5DQRSF4QFVAaHP9ZEa5Ly0CSMQDa7bYBVItkFAIlHsAcsSKlgMuG7gXPl9C/iTmdyci8Pjy18rMM9L3rjdxY1xfxM3fn6f4kbvc97Y5435asSN79f3uDHGKm4s2/w/2nSMEx/Pn3GjX095Y3MXN6aH/D7evk5xY1nnb+nbHjfWo+DGWmuXJRUAzgwrQDHDClDMsAIUM6wAxQwrQDHDClDMsAIUM6wAxQwrQDHDClDMsAIU+wf3+w9rXSG+FgAAAABJRU5ErkJggg==\" y=\"-175.293887\"/>\n   </g>\n  </g>\n  <g id=\"axes_12\">\n   <g clip-path=\"url(#pcda51005c3)\">\n    <image height=\"13\" id=\"image648f2d8b00\" transform=\"scale(1 -1)translate(0 -13)\" width=\"342\" x=\"47.65125\" xlink:href=\"data:image/png;base64,\niVBORw0KGgoAAAANSUhEUgAAAVYAAAANCAYAAADykUYDAAAAu0lEQVR4nO3UvQnCUABF4aet4A8oQXgGE9EoKEGeYLB1KbFMl2Us7J3CSZxAOxe4tzzfAKc8vWP7+gaDy34uN1IcyI3tZCg3lvdcbmRNLTdCYWiUZzlxej/lxrUo5cZhtpYbm7HeeLQfubGrM7mRr6Z6YzGSG113kxspJblRVZXciDHKjRBC6FsqAIA/xgoAZowVAMwYKwCYMVYAMGOsAGDGWAHAjLECgBljBQAzxgoAZowVAMwYKwCY/QCW1g6k2yjnpAAAAABJRU5ErkJggg==\" y=\"-190.474448\"/>\n   </g>\n  </g>\n  <g id=\"axes_13\"/>\n  <g id=\"axes_14\"/>\n  <g id=\"axes_15\"/>\n  <g id=\"axes_16\"/>\n  <g id=\"axes_17\"/>\n  <g id=\"axes_18\"/>\n  <g id=\"text_2\">\n   <!-- Pastel1 -->\n   <g transform=\"translate(7.2 32.922421)scale(0.1 -0.1)\">\n    <defs>\n     <path d=\"M 19.671875 64.796875 \nL 19.671875 37.40625 \nL 32.078125 37.40625 \nQ 38.96875 37.40625 42.71875 40.96875 \nQ 46.484375 44.53125 46.484375 51.125 \nQ 46.484375 57.671875 42.71875 61.234375 \nQ 38.96875 64.796875 32.078125 64.796875 \nz\nM 9.8125 72.90625 \nL 32.078125 72.90625 \nQ 44.34375 72.90625 50.609375 67.359375 \nQ 56.890625 61.8125 56.890625 51.125 \nQ 56.890625 40.328125 50.609375 34.8125 \nQ 44.34375 29.296875 32.078125 29.296875 \nL 19.671875 29.296875 \nL 19.671875 0 \nL 9.8125 0 \nz\n\" id=\"DejaVuSans-80\"/>\n     <path d=\"M 12.40625 8.296875 \nL 28.515625 8.296875 \nL 28.515625 63.921875 \nL 10.984375 60.40625 \nL 10.984375 69.390625 \nL 28.421875 72.90625 \nL 38.28125 72.90625 \nL 38.28125 8.296875 \nL 54.390625 8.296875 \nL 54.390625 0 \nL 12.40625 0 \nz\n\" id=\"DejaVuSans-49\"/>\n    </defs>\n    <use xlink:href=\"#DejaVuSans-80\"/>\n    <use x=\"55.802734\" xlink:href=\"#DejaVuSans-97\"/>\n    <use x=\"117.082031\" xlink:href=\"#DejaVuSans-115\"/>\n    <use x=\"169.181641\" xlink:href=\"#DejaVuSans-116\"/>\n    <use x=\"208.390625\" xlink:href=\"#DejaVuSans-101\"/>\n    <use x=\"269.914062\" xlink:href=\"#DejaVuSans-108\"/>\n    <use x=\"297.697266\" xlink:href=\"#DejaVuSans-49\"/>\n   </g>\n  </g>\n  <g id=\"text_3\">\n   <!-- Pastel2 -->\n   <g transform=\"translate(7.2 48.102982)scale(0.1 -0.1)\">\n    <defs>\n     <path d=\"M 19.1875 8.296875 \nL 53.609375 8.296875 \nL 53.609375 0 \nL 7.328125 0 \nL 7.328125 8.296875 \nQ 12.9375 14.109375 22.625 23.890625 \nQ 32.328125 33.6875 34.8125 36.53125 \nQ 39.546875 41.84375 41.421875 45.53125 \nQ 43.3125 49.21875 43.3125 52.78125 \nQ 43.3125 58.59375 39.234375 62.25 \nQ 35.15625 65.921875 28.609375 65.921875 \nQ 23.96875 65.921875 18.8125 64.3125 \nQ 13.671875 62.703125 7.8125 59.421875 \nL 7.8125 69.390625 \nQ 13.765625 71.78125 18.9375 73 \nQ 24.125 74.21875 28.421875 74.21875 \nQ 39.75 74.21875 46.484375 68.546875 \nQ 53.21875 62.890625 53.21875 53.421875 \nQ 53.21875 48.921875 51.53125 44.890625 \nQ 49.859375 40.875 45.40625 35.40625 \nQ 44.1875 33.984375 37.640625 27.21875 \nQ 31.109375 20.453125 19.1875 8.296875 \nz\n\" id=\"DejaVuSans-50\"/>\n    </defs>\n    <use xlink:href=\"#DejaVuSans-80\"/>\n    <use x=\"55.802734\" xlink:href=\"#DejaVuSans-97\"/>\n    <use x=\"117.082031\" xlink:href=\"#DejaVuSans-115\"/>\n    <use x=\"169.181641\" xlink:href=\"#DejaVuSans-116\"/>\n    <use x=\"208.390625\" xlink:href=\"#DejaVuSans-101\"/>\n    <use x=\"269.914062\" xlink:href=\"#DejaVuSans-108\"/>\n    <use x=\"297.697266\" xlink:href=\"#DejaVuSans-50\"/>\n   </g>\n  </g>\n  <g id=\"text_4\">\n   <!-- Paired -->\n   <g transform=\"translate(12.457813 63.283543)scale(0.1 -0.1)\">\n    <defs>\n     <path d=\"M 45.40625 46.390625 \nL 45.40625 75.984375 \nL 54.390625 75.984375 \nL 54.390625 0 \nL 45.40625 0 \nL 45.40625 8.203125 \nQ 42.578125 3.328125 38.25 0.953125 \nQ 33.9375 -1.421875 27.875 -1.421875 \nQ 17.96875 -1.421875 11.734375 6.484375 \nQ 5.515625 14.40625 5.515625 27.296875 \nQ 5.515625 40.1875 11.734375 48.09375 \nQ 17.96875 56 27.875 56 \nQ 33.9375 56 38.25 53.625 \nQ 42.578125 51.265625 45.40625 46.390625 \nz\nM 14.796875 27.296875 \nQ 14.796875 17.390625 18.875 11.75 \nQ 22.953125 6.109375 30.078125 6.109375 \nQ 37.203125 6.109375 41.296875 11.75 \nQ 45.40625 17.390625 45.40625 27.296875 \nQ 45.40625 37.203125 41.296875 42.84375 \nQ 37.203125 48.484375 30.078125 48.484375 \nQ 22.953125 48.484375 18.875 42.84375 \nQ 14.796875 37.203125 14.796875 27.296875 \nz\n\" id=\"DejaVuSans-100\"/>\n    </defs>\n    <use xlink:href=\"#DejaVuSans-80\"/>\n    <use x=\"55.802734\" xlink:href=\"#DejaVuSans-97\"/>\n    <use x=\"117.082031\" xlink:href=\"#DejaVuSans-105\"/>\n    <use x=\"144.865234\" xlink:href=\"#DejaVuSans-114\"/>\n    <use x=\"183.728516\" xlink:href=\"#DejaVuSans-101\"/>\n    <use x=\"245.251953\" xlink:href=\"#DejaVuSans-100\"/>\n   </g>\n  </g>\n  <g id=\"text_5\">\n   <!-- Accent -->\n   <g transform=\"translate(9.257812 78.464103)scale(0.1 -0.1)\">\n    <defs>\n     <path d=\"M 34.1875 63.1875 \nL 20.796875 26.90625 \nL 47.609375 26.90625 \nz\nM 28.609375 72.90625 \nL 39.796875 72.90625 \nL 67.578125 0 \nL 57.328125 0 \nL 50.6875 18.703125 \nL 17.828125 18.703125 \nL 11.1875 0 \nL 0.78125 0 \nz\n\" id=\"DejaVuSans-65\"/>\n     <path d=\"M 54.890625 33.015625 \nL 54.890625 0 \nL 45.90625 0 \nL 45.90625 32.71875 \nQ 45.90625 40.484375 42.875 44.328125 \nQ 39.84375 48.1875 33.796875 48.1875 \nQ 26.515625 48.1875 22.3125 43.546875 \nQ 18.109375 38.921875 18.109375 30.90625 \nL 18.109375 0 \nL 9.078125 0 \nL 9.078125 54.6875 \nL 18.109375 54.6875 \nL 18.109375 46.1875 \nQ 21.34375 51.125 25.703125 53.5625 \nQ 30.078125 56 35.796875 56 \nQ 45.21875 56 50.046875 50.171875 \nQ 54.890625 44.34375 54.890625 33.015625 \nz\n\" id=\"DejaVuSans-110\"/>\n    </defs>\n    <use xlink:href=\"#DejaVuSans-65\"/>\n    <use x=\"66.658203\" xlink:href=\"#DejaVuSans-99\"/>\n    <use x=\"121.638672\" xlink:href=\"#DejaVuSans-99\"/>\n    <use x=\"176.619141\" xlink:href=\"#DejaVuSans-101\"/>\n    <use x=\"238.142578\" xlink:href=\"#DejaVuSans-110\"/>\n    <use x=\"301.521484\" xlink:href=\"#DejaVuSans-116\"/>\n   </g>\n  </g>\n  <g id=\"text_6\">\n   <!-- Dark2 -->\n   <g transform=\"translate(13.239063 93.644664)scale(0.1 -0.1)\">\n    <defs>\n     <path d=\"M 19.671875 64.796875 \nL 19.671875 8.109375 \nL 31.59375 8.109375 \nQ 46.6875 8.109375 53.6875 14.9375 \nQ 60.6875 21.78125 60.6875 36.53125 \nQ 60.6875 51.171875 53.6875 57.984375 \nQ 46.6875 64.796875 31.59375 64.796875 \nz\nM 9.8125 72.90625 \nL 30.078125 72.90625 \nQ 51.265625 72.90625 61.171875 64.09375 \nQ 71.09375 55.28125 71.09375 36.53125 \nQ 71.09375 17.671875 61.125 8.828125 \nQ 51.171875 0 30.078125 0 \nL 9.8125 0 \nz\n\" id=\"DejaVuSans-68\"/>\n     <path d=\"M 9.078125 75.984375 \nL 18.109375 75.984375 \nL 18.109375 31.109375 \nL 44.921875 54.6875 \nL 56.390625 54.6875 \nL 27.390625 29.109375 \nL 57.625 0 \nL 45.90625 0 \nL 18.109375 26.703125 \nL 18.109375 0 \nL 9.078125 0 \nz\n\" id=\"DejaVuSans-107\"/>\n    </defs>\n    <use xlink:href=\"#DejaVuSans-68\"/>\n    <use x=\"77.001953\" xlink:href=\"#DejaVuSans-97\"/>\n    <use x=\"138.28125\" xlink:href=\"#DejaVuSans-114\"/>\n    <use x=\"179.394531\" xlink:href=\"#DejaVuSans-107\"/>\n    <use x=\"237.304688\" xlink:href=\"#DejaVuSans-50\"/>\n   </g>\n  </g>\n  <g id=\"text_7\">\n   <!-- Set1 -->\n   <g transform=\"translate(20.546875 108.825225)scale(0.1 -0.1)\">\n    <defs>\n     <path d=\"M 53.515625 70.515625 \nL 53.515625 60.890625 \nQ 47.90625 63.578125 42.921875 64.890625 \nQ 37.9375 66.21875 33.296875 66.21875 \nQ 25.25 66.21875 20.875 63.09375 \nQ 16.5 59.96875 16.5 54.203125 \nQ 16.5 49.359375 19.40625 46.890625 \nQ 22.3125 44.4375 30.421875 42.921875 \nL 36.375 41.703125 \nQ 47.40625 39.59375 52.65625 34.296875 \nQ 57.90625 29 57.90625 20.125 \nQ 57.90625 9.515625 50.796875 4.046875 \nQ 43.703125 -1.421875 29.984375 -1.421875 \nQ 24.8125 -1.421875 18.96875 -0.25 \nQ 13.140625 0.921875 6.890625 3.21875 \nL 6.890625 13.375 \nQ 12.890625 10.015625 18.65625 8.296875 \nQ 24.421875 6.59375 29.984375 6.59375 \nQ 38.421875 6.59375 43.015625 9.90625 \nQ 47.609375 13.234375 47.609375 19.390625 \nQ 47.609375 24.75 44.3125 27.78125 \nQ 41.015625 30.8125 33.5 32.328125 \nL 27.484375 33.5 \nQ 16.453125 35.6875 11.515625 40.375 \nQ 6.59375 45.0625 6.59375 53.421875 \nQ 6.59375 63.09375 13.40625 68.65625 \nQ 20.21875 74.21875 32.171875 74.21875 \nQ 37.3125 74.21875 42.625 73.28125 \nQ 47.953125 72.359375 53.515625 70.515625 \nz\n\" id=\"DejaVuSans-83\"/>\n    </defs>\n    <use xlink:href=\"#DejaVuSans-83\"/>\n    <use x=\"63.476562\" xlink:href=\"#DejaVuSans-101\"/>\n    <use x=\"125\" xlink:href=\"#DejaVuSans-116\"/>\n    <use x=\"164.208984\" xlink:href=\"#DejaVuSans-49\"/>\n   </g>\n  </g>\n  <g id=\"text_8\">\n   <!-- Set2 -->\n   <g transform=\"translate(20.546875 124.005786)scale(0.1 -0.1)\">\n    <use xlink:href=\"#DejaVuSans-83\"/>\n    <use x=\"63.476562\" xlink:href=\"#DejaVuSans-101\"/>\n    <use x=\"125\" xlink:href=\"#DejaVuSans-116\"/>\n    <use x=\"164.208984\" xlink:href=\"#DejaVuSans-50\"/>\n   </g>\n  </g>\n  <g id=\"text_9\">\n   <!-- Set3 -->\n   <g transform=\"translate(20.546875 139.186346)scale(0.1 -0.1)\">\n    <defs>\n     <path d=\"M 40.578125 39.3125 \nQ 47.65625 37.796875 51.625 33 \nQ 55.609375 28.21875 55.609375 21.1875 \nQ 55.609375 10.40625 48.1875 4.484375 \nQ 40.765625 -1.421875 27.09375 -1.421875 \nQ 22.515625 -1.421875 17.65625 -0.515625 \nQ 12.796875 0.390625 7.625 2.203125 \nL 7.625 11.71875 \nQ 11.71875 9.328125 16.59375 8.109375 \nQ 21.484375 6.890625 26.8125 6.890625 \nQ 36.078125 6.890625 40.9375 10.546875 \nQ 45.796875 14.203125 45.796875 21.1875 \nQ 45.796875 27.640625 41.28125 31.265625 \nQ 36.765625 34.90625 28.71875 34.90625 \nL 20.21875 34.90625 \nL 20.21875 43.015625 \nL 29.109375 43.015625 \nQ 36.375 43.015625 40.234375 45.921875 \nQ 44.09375 48.828125 44.09375 54.296875 \nQ 44.09375 59.90625 40.109375 62.90625 \nQ 36.140625 65.921875 28.71875 65.921875 \nQ 24.65625 65.921875 20.015625 65.03125 \nQ 15.375 64.15625 9.8125 62.3125 \nL 9.8125 71.09375 \nQ 15.4375 72.65625 20.34375 73.4375 \nQ 25.25 74.21875 29.59375 74.21875 \nQ 40.828125 74.21875 47.359375 69.109375 \nQ 53.90625 64.015625 53.90625 55.328125 \nQ 53.90625 49.265625 50.4375 45.09375 \nQ 46.96875 40.921875 40.578125 39.3125 \nz\n\" id=\"DejaVuSans-51\"/>\n    </defs>\n    <use xlink:href=\"#DejaVuSans-83\"/>\n    <use x=\"63.476562\" xlink:href=\"#DejaVuSans-101\"/>\n    <use x=\"125\" xlink:href=\"#DejaVuSans-116\"/>\n    <use x=\"164.208984\" xlink:href=\"#DejaVuSans-51\"/>\n   </g>\n  </g>\n  <g id=\"text_10\">\n   <!-- tab10 -->\n   <g transform=\"translate(14.209375 154.366907)scale(0.1 -0.1)\">\n    <defs>\n     <path d=\"M 48.6875 27.296875 \nQ 48.6875 37.203125 44.609375 42.84375 \nQ 40.53125 48.484375 33.40625 48.484375 \nQ 26.265625 48.484375 22.1875 42.84375 \nQ 18.109375 37.203125 18.109375 27.296875 \nQ 18.109375 17.390625 22.1875 11.75 \nQ 26.265625 6.109375 33.40625 6.109375 \nQ 40.53125 6.109375 44.609375 11.75 \nQ 48.6875 17.390625 48.6875 27.296875 \nz\nM 18.109375 46.390625 \nQ 20.953125 51.265625 25.265625 53.625 \nQ 29.59375 56 35.59375 56 \nQ 45.5625 56 51.78125 48.09375 \nQ 58.015625 40.1875 58.015625 27.296875 \nQ 58.015625 14.40625 51.78125 6.484375 \nQ 45.5625 -1.421875 35.59375 -1.421875 \nQ 29.59375 -1.421875 25.265625 0.953125 \nQ 20.953125 3.328125 18.109375 8.203125 \nL 18.109375 0 \nL 9.078125 0 \nL 9.078125 75.984375 \nL 18.109375 75.984375 \nz\n\" id=\"DejaVuSans-98\"/>\n     <path d=\"M 31.78125 66.40625 \nQ 24.171875 66.40625 20.328125 58.90625 \nQ 16.5 51.421875 16.5 36.375 \nQ 16.5 21.390625 20.328125 13.890625 \nQ 24.171875 6.390625 31.78125 6.390625 \nQ 39.453125 6.390625 43.28125 13.890625 \nQ 47.125 21.390625 47.125 36.375 \nQ 47.125 51.421875 43.28125 58.90625 \nQ 39.453125 66.40625 31.78125 66.40625 \nz\nM 31.78125 74.21875 \nQ 44.046875 74.21875 50.515625 64.515625 \nQ 56.984375 54.828125 56.984375 36.375 \nQ 56.984375 17.96875 50.515625 8.265625 \nQ 44.046875 -1.421875 31.78125 -1.421875 \nQ 19.53125 -1.421875 13.0625 8.265625 \nQ 6.59375 17.96875 6.59375 36.375 \nQ 6.59375 54.828125 13.0625 64.515625 \nQ 19.53125 74.21875 31.78125 74.21875 \nz\n\" id=\"DejaVuSans-48\"/>\n    </defs>\n    <use xlink:href=\"#DejaVuSans-116\"/>\n    <use x=\"39.208984\" xlink:href=\"#DejaVuSans-97\"/>\n    <use x=\"100.488281\" xlink:href=\"#DejaVuSans-98\"/>\n    <use x=\"163.964844\" xlink:href=\"#DejaVuSans-49\"/>\n    <use x=\"227.587891\" xlink:href=\"#DejaVuSans-48\"/>\n   </g>\n  </g>\n  <g id=\"text_11\">\n   <!-- tab20 -->\n   <g transform=\"translate(14.209375 169.547468)scale(0.1 -0.1)\">\n    <use xlink:href=\"#DejaVuSans-116\"/>\n    <use x=\"39.208984\" xlink:href=\"#DejaVuSans-97\"/>\n    <use x=\"100.488281\" xlink:href=\"#DejaVuSans-98\"/>\n    <use x=\"163.964844\" xlink:href=\"#DejaVuSans-50\"/>\n    <use x=\"227.587891\" xlink:href=\"#DejaVuSans-48\"/>\n   </g>\n  </g>\n  <g id=\"text_12\">\n   <!-- tab20b -->\n   <g transform=\"translate(7.860938 184.728029)scale(0.1 -0.1)\">\n    <use xlink:href=\"#DejaVuSans-116\"/>\n    <use x=\"39.208984\" xlink:href=\"#DejaVuSans-97\"/>\n    <use x=\"100.488281\" xlink:href=\"#DejaVuSans-98\"/>\n    <use x=\"163.964844\" xlink:href=\"#DejaVuSans-50\"/>\n    <use x=\"227.587891\" xlink:href=\"#DejaVuSans-48\"/>\n    <use x=\"291.210938\" xlink:href=\"#DejaVuSans-98\"/>\n   </g>\n  </g>\n  <g id=\"text_13\">\n   <!-- tab20c -->\n   <g transform=\"translate(8.710938 199.908589)scale(0.1 -0.1)\">\n    <use xlink:href=\"#DejaVuSans-116\"/>\n    <use x=\"39.208984\" xlink:href=\"#DejaVuSans-97\"/>\n    <use x=\"100.488281\" xlink:href=\"#DejaVuSans-98\"/>\n    <use x=\"163.964844\" xlink:href=\"#DejaVuSans-50\"/>\n    <use x=\"227.587891\" xlink:href=\"#DejaVuSans-48\"/>\n    <use x=\"291.210938\" xlink:href=\"#DejaVuSans-99\"/>\n   </g>\n  </g>\n </g>\n <defs>\n  <clipPath id=\"p312a010c1e\">\n   <rect height=\"12.650467\" width=\"341.28\" x=\"47.65125\" y=\"23.837812\"/>\n  </clipPath>\n  <clipPath id=\"pcdc1930745\">\n   <rect height=\"12.650467\" width=\"341.28\" x=\"47.65125\" y=\"39.018373\"/>\n  </clipPath>\n  <clipPath id=\"pc60856a4a6\">\n   <rect height=\"12.650467\" width=\"341.28\" x=\"47.65125\" y=\"54.198934\"/>\n  </clipPath>\n  <clipPath id=\"p0f1366e0f8\">\n   <rect height=\"12.650467\" width=\"341.28\" x=\"47.65125\" y=\"69.379495\"/>\n  </clipPath>\n  <clipPath id=\"paff74e10ab\">\n   <rect height=\"12.650467\" width=\"341.28\" x=\"47.65125\" y=\"84.560055\"/>\n  </clipPath>\n  <clipPath id=\"pae579c358b\">\n   <rect height=\"12.650467\" width=\"341.28\" x=\"47.65125\" y=\"99.740616\"/>\n  </clipPath>\n  <clipPath id=\"p79be09c97f\">\n   <rect height=\"12.650467\" width=\"341.28\" x=\"47.65125\" y=\"114.921177\"/>\n  </clipPath>\n  <clipPath id=\"p99db2ad02e\">\n   <rect height=\"12.650467\" width=\"341.28\" x=\"47.65125\" y=\"130.101738\"/>\n  </clipPath>\n  <clipPath id=\"p9dc61b3632\">\n   <rect height=\"12.650467\" width=\"341.28\" x=\"47.65125\" y=\"145.282298\"/>\n  </clipPath>\n  <clipPath id=\"p7e626994c8\">\n   <rect height=\"12.650467\" width=\"341.28\" x=\"47.65125\" y=\"160.462859\"/>\n  </clipPath>\n  <clipPath id=\"pf7767b6c2d\">\n   <rect height=\"12.650467\" width=\"341.28\" x=\"47.65125\" y=\"175.64342\"/>\n  </clipPath>\n  <clipPath id=\"pcda51005c3\">\n   <rect height=\"12.650467\" width=\"341.28\" x=\"47.65125\" y=\"190.823981\"/>\n  </clipPath>\n </defs>\n</svg>\n",
      "image/png": "[encoded data removed]"
     },
     "metadata": {
      "needs_background": "light"
     }
    }
   ],
   "source": [
    "\"\"\" Begin plotting everything \"\"\"\n",
    "###Show color palettes and prompt user to select one\n",
    "color_displayer.show_colors()\n",
    "plt.show()\n",
    "color = input(\"\\nPlease enter the name of your desired color palette: \").strip()\n",
    "cmap = matplotlib.cm.get_cmap(color, len(norm_df.columns))\n",
    "colors = []\n",
    "for i in range(len(norm_df.columns)):\n",
    "    rgb = cmap(i)[:3]\n",
    "    colors.append(str(\"rgb(\"+str(rgb[0])+\", \" + str(rgb[1])+\", \" + str(rgb[2]) +\")\"))    \n",
    " "
   ]
  },
  {
   "cell_type": "code",
   "execution_count": 117,
   "metadata": {
    "tags": []
   },
   "outputs": [
    {
     "output_type": "display_data",
     "data": {
      "application/vnd.plotly.v1+json": {
       "config": {
        "plotlyServerURL": "https://plot.ly"
       },
       "data": [
        {
         "marker": {
          "color": "rgb(0.050383, 0.029803, 0.527975)",
          "line": {
           "width": 0
          }
         },
         "name": "Staphylococcus_epidermidis_ATCC_12228",
         "type": "bar",
         "x": [
          "barcode05",
          "barcode06",
          "barcode07",
          "barcode08",
          "barcode09",
          "barcode10",
          "barcode11",
          "barcode12"
         ],
         "y": [
          99.7433236086176,
          84,
          99.38103180648085,
          58.839141472420955,
          99.72801590694847,
          99.61247242592262,
          78.31956733271481,
          59.8739629865986
         ]
        },
        {
         "marker": {
          "color": "rgb(0.494877, 0.01199, 0.657865)",
          "line": {
           "width": 0
          }
         },
         "name": "Staphylococcus_aureus_Sa113",
         "type": "bar",
         "x": [
          "barcode05",
          "barcode06",
          "barcode07",
          "barcode08",
          "barcode09",
          "barcode10",
          "barcode11",
          "barcode12"
         ],
         "y": [
          0.19776705565529623,
          13.333333333333334,
          0.07520174313784093,
          40.90495648986574,
          0.1329013181956328,
          0.28063810034834896,
          0.12264940825054875,
          33.48064241650712
         ]
        },
        {
         "marker": {
          "color": "rgb(0.798216, 0.280197, 0.469538)",
          "line": {
           "width": 0
          }
         },
         "name": "Corynebacterium_striatum_ATCC_6940",
         "type": "bar",
         "x": [
          "barcode05",
          "barcode06",
          "barcode07",
          "barcode08",
          "barcode09",
          "barcode10",
          "barcode11",
          "barcode12"
         ],
         "y": [
          0.056104129263913824,
          2.6666666666666665,
          0.5389458258211934,
          0.24775661476222152,
          0.13805253207918447,
          0.10476020134399673,
          21.550089384716344,
          6.643267389917039
         ]
        },
        {
         "marker": {
          "color": "rgb(0.973416, 0.585761, 0.25154)",
          "line": {
           "width": 0
          }
         },
         "name": "Cutibacterium_acnes_ATCC_11828",
         "type": "bar",
         "x": [
          "barcode05",
          "barcode06",
          "barcode07",
          "barcode08",
          "barcode09",
          "barcode10",
          "barcode11",
          "barcode12"
         ],
         "y": [
          0.0014026032315978456,
          0,
          0.0028923747360708055,
          0.0006787852459238946,
          0,
          0,
          0.0009051616845058948,
          0
         ]
        },
        {
         "marker": {
          "color": "rgb(0.940015, 0.975158, 0.131326)",
          "line": {
           "width": 0
          }
         },
         "name": "Streptococcus_mitis_ATCC_49456",
         "type": "bar",
         "x": [
          "barcode05",
          "barcode06",
          "barcode07",
          "barcode08",
          "barcode09",
          "barcode10",
          "barcode11",
          "barcode12"
         ],
         "y": [
          0.0014026032315978456,
          0,
          0.0019282498240472035,
          0.00746663770516284,
          0.0010302427767103317,
          0.002129272385040584,
          0.006788712633794211,
          0.0021272069772388853
         ]
        }
       ],
       "layout": {
        "autosize": true,
        "bargroupgap": 0.15,
        "barmode": "stack",
        "legend": {
         "font": {
          "size": 10
         },
         "valign": "middle",
         "y": 0.5
        },
        "margin": {
         "b": 15,
         "t": 15
        },
        "paper_bgcolor": "rgba(0,0,0,0)",
        "plot_bgcolor": "rgba(0,0,0,0)",
        "template": {
         "data": {
          "bar": [
           {
            "error_x": {
             "color": "#2a3f5f"
            },
            "error_y": {
             "color": "#2a3f5f"
            },
            "marker": {
             "line": {
              "color": "#E5ECF6",
              "width": 0.5
             }
            },
            "type": "bar"
           }
          ],
          "barpolar": [
           {
            "marker": {
             "line": {
              "color": "#E5ECF6",
              "width": 0.5
             }
            },
            "type": "barpolar"
           }
          ],
          "carpet": [
           {
            "aaxis": {
             "endlinecolor": "#2a3f5f",
             "gridcolor": "white",
             "linecolor": "white",
             "minorgridcolor": "white",
             "startlinecolor": "#2a3f5f"
            },
            "baxis": {
             "endlinecolor": "#2a3f5f",
             "gridcolor": "white",
             "linecolor": "white",
             "minorgridcolor": "white",
             "startlinecolor": "#2a3f5f"
            },
            "type": "carpet"
           }
          ],
          "choropleth": [
           {
            "colorbar": {
             "outlinewidth": 0,
             "ticks": ""
            },
            "type": "choropleth"
           }
          ],
          "contour": [
           {
            "colorbar": {
             "outlinewidth": 0,
             "ticks": ""
            },
            "colorscale": [
             [
              0,
              "#0d0887"
             ],
             [
              0.1111111111111111,
              "#46039f"
             ],
             [
              0.2222222222222222,
              "#7201a8"
             ],
             [
              0.3333333333333333,
              "#9c179e"
             ],
             [
              0.4444444444444444,
              "#bd3786"
             ],
             [
              0.5555555555555556,
              "#d8576b"
             ],
             [
              0.6666666666666666,
              "#ed7953"
             ],
             [
              0.7777777777777778,
              "#fb9f3a"
             ],
             [
              0.8888888888888888,
              "#fdca26"
             ],
             [
              1,
              "#f0f921"
             ]
            ],
            "type": "contour"
           }
          ],
          "contourcarpet": [
           {
            "colorbar": {
             "outlinewidth": 0,
             "ticks": ""
            },
            "type": "contourcarpet"
           }
          ],
          "heatmap": [
           {
            "colorbar": {
             "outlinewidth": 0,
             "ticks": ""
            },
            "colorscale": [
             [
              0,
              "#0d0887"
             ],
             [
              0.1111111111111111,
              "#46039f"
             ],
             [
              0.2222222222222222,
              "#7201a8"
             ],
             [
              0.3333333333333333,
              "#9c179e"
             ],
             [
              0.4444444444444444,
              "#bd3786"
             ],
             [
              0.5555555555555556,
              "#d8576b"
             ],
             [
              0.6666666666666666,
              "#ed7953"
             ],
             [
              0.7777777777777778,
              "#fb9f3a"
             ],
             [
              0.8888888888888888,
              "#fdca26"
             ],
             [
              1,
              "#f0f921"
             ]
            ],
            "type": "heatmap"
           }
          ],
          "heatmapgl": [
           {
            "colorbar": {
             "outlinewidth": 0,
             "ticks": ""
            },
            "colorscale": [
             [
              0,
              "#0d0887"
             ],
             [
              0.1111111111111111,
              "#46039f"
             ],
             [
              0.2222222222222222,
              "#7201a8"
             ],
             [
              0.3333333333333333,
              "#9c179e"
             ],
             [
              0.4444444444444444,
              "#bd3786"
             ],
             [
              0.5555555555555556,
              "#d8576b"
             ],
             [
              0.6666666666666666,
              "#ed7953"
             ],
             [
              0.7777777777777778,
              "#fb9f3a"
             ],
             [
              0.8888888888888888,
              "#fdca26"
             ],
             [
              1,
              "#f0f921"
             ]
            ],
            "type": "heatmapgl"
           }
          ],
          "histogram": [
           {
            "marker": {
             "colorbar": {
              "outlinewidth": 0,
              "ticks": ""
             }
            },
            "type": "histogram"
           }
          ],
          "histogram2d": [
           {
            "colorbar": {
             "outlinewidth": 0,
             "ticks": ""
            },
            "colorscale": [
             [
              0,
              "#0d0887"
             ],
             [
              0.1111111111111111,
              "#46039f"
             ],
             [
              0.2222222222222222,
              "#7201a8"
             ],
             [
              0.3333333333333333,
              "#9c179e"
             ],
             [
              0.4444444444444444,
              "#bd3786"
             ],
             [
              0.5555555555555556,
              "#d8576b"
             ],
             [
              0.6666666666666666,
              "#ed7953"
             ],
             [
              0.7777777777777778,
              "#fb9f3a"
             ],
             [
              0.8888888888888888,
              "#fdca26"
             ],
             [
              1,
              "#f0f921"
             ]
            ],
            "type": "histogram2d"
           }
          ],
          "histogram2dcontour": [
           {
            "colorbar": {
             "outlinewidth": 0,
             "ticks": ""
            },
            "colorscale": [
             [
              0,
              "#0d0887"
             ],
             [
              0.1111111111111111,
              "#46039f"
             ],
             [
              0.2222222222222222,
              "#7201a8"
             ],
             [
              0.3333333333333333,
              "#9c179e"
             ],
             [
              0.4444444444444444,
              "#bd3786"
             ],
             [
              0.5555555555555556,
              "#d8576b"
             ],
             [
              0.6666666666666666,
              "#ed7953"
             ],
             [
              0.7777777777777778,
              "#fb9f3a"
             ],
             [
              0.8888888888888888,
              "#fdca26"
             ],
             [
              1,
              "#f0f921"
             ]
            ],
            "type": "histogram2dcontour"
           }
          ],
          "mesh3d": [
           {
            "colorbar": {
             "outlinewidth": 0,
             "ticks": ""
            },
            "type": "mesh3d"
           }
          ],
          "parcoords": [
           {
            "line": {
             "colorbar": {
              "outlinewidth": 0,
              "ticks": ""
             }
            },
            "type": "parcoords"
           }
          ],
          "pie": [
           {
            "automargin": true,
            "type": "pie"
           }
          ],
          "scatter": [
           {
            "marker": {
             "colorbar": {
              "outlinewidth": 0,
              "ticks": ""
             }
            },
            "type": "scatter"
           }
          ],
          "scatter3d": [
           {
            "line": {
             "colorbar": {
              "outlinewidth": 0,
              "ticks": ""
             }
            },
            "marker": {
             "colorbar": {
              "outlinewidth": 0,
              "ticks": ""
             }
            },
            "type": "scatter3d"
           }
          ],
          "scattercarpet": [
           {
            "marker": {
             "colorbar": {
              "outlinewidth": 0,
              "ticks": ""
             }
            },
            "type": "scattercarpet"
           }
          ],
          "scattergeo": [
           {
            "marker": {
             "colorbar": {
              "outlinewidth": 0,
              "ticks": ""
             }
            },
            "type": "scattergeo"
           }
          ],
          "scattergl": [
           {
            "marker": {
             "colorbar": {
              "outlinewidth": 0,
              "ticks": ""
             }
            },
            "type": "scattergl"
           }
          ],
          "scattermapbox": [
           {
            "marker": {
             "colorbar": {
              "outlinewidth": 0,
              "ticks": ""
             }
            },
            "type": "scattermapbox"
           }
          ],
          "scatterpolar": [
           {
            "marker": {
             "colorbar": {
              "outlinewidth": 0,
              "ticks": ""
             }
            },
            "type": "scatterpolar"
           }
          ],
          "scatterpolargl": [
           {
            "marker": {
             "colorbar": {
              "outlinewidth": 0,
              "ticks": ""
             }
            },
            "type": "scatterpolargl"
           }
          ],
          "scatterternary": [
           {
            "marker": {
             "colorbar": {
              "outlinewidth": 0,
              "ticks": ""
             }
            },
            "type": "scatterternary"
           }
          ],
          "surface": [
           {
            "colorbar": {
             "outlinewidth": 0,
             "ticks": ""
            },
            "colorscale": [
             [
              0,
              "#0d0887"
             ],
             [
              0.1111111111111111,
              "#46039f"
             ],
             [
              0.2222222222222222,
              "#7201a8"
             ],
             [
              0.3333333333333333,
              "#9c179e"
             ],
             [
              0.4444444444444444,
              "#bd3786"
             ],
             [
              0.5555555555555556,
              "#d8576b"
             ],
             [
              0.6666666666666666,
              "#ed7953"
             ],
             [
              0.7777777777777778,
              "#fb9f3a"
             ],
             [
              0.8888888888888888,
              "#fdca26"
             ],
             [
              1,
              "#f0f921"
             ]
            ],
            "type": "surface"
           }
          ],
          "table": [
           {
            "cells": {
             "fill": {
              "color": "#EBF0F8"
             },
             "line": {
              "color": "white"
             }
            },
            "header": {
             "fill": {
              "color": "#C8D4E3"
             },
             "line": {
              "color": "white"
             }
            },
            "type": "table"
           }
          ]
         },
         "layout": {
          "annotationdefaults": {
           "arrowcolor": "#2a3f5f",
           "arrowhead": 0,
           "arrowwidth": 1
          },
          "coloraxis": {
           "colorbar": {
            "outlinewidth": 0,
            "ticks": ""
           }
          },
          "colorscale": {
           "diverging": [
            [
             0,
             "#8e0152"
            ],
            [
             0.1,
             "#c51b7d"
            ],
            [
             0.2,
             "#de77ae"
            ],
            [
             0.3,
             "#f1b6da"
            ],
            [
             0.4,
             "#fde0ef"
            ],
            [
             0.5,
             "#f7f7f7"
            ],
            [
             0.6,
             "#e6f5d0"
            ],
            [
             0.7,
             "#b8e186"
            ],
            [
             0.8,
             "#7fbc41"
            ],
            [
             0.9,
             "#4d9221"
            ],
            [
             1,
             "#276419"
            ]
           ],
           "sequential": [
            [
             0,
             "#0d0887"
            ],
            [
             0.1111111111111111,
             "#46039f"
            ],
            [
             0.2222222222222222,
             "#7201a8"
            ],
            [
             0.3333333333333333,
             "#9c179e"
            ],
            [
             0.4444444444444444,
             "#bd3786"
            ],
            [
             0.5555555555555556,
             "#d8576b"
            ],
            [
             0.6666666666666666,
             "#ed7953"
            ],
            [
             0.7777777777777778,
             "#fb9f3a"
            ],
            [
             0.8888888888888888,
             "#fdca26"
            ],
            [
             1,
             "#f0f921"
            ]
           ],
           "sequentialminus": [
            [
             0,
             "#0d0887"
            ],
            [
             0.1111111111111111,
             "#46039f"
            ],
            [
             0.2222222222222222,
             "#7201a8"
            ],
            [
             0.3333333333333333,
             "#9c179e"
            ],
            [
             0.4444444444444444,
             "#bd3786"
            ],
            [
             0.5555555555555556,
             "#d8576b"
            ],
            [
             0.6666666666666666,
             "#ed7953"
            ],
            [
             0.7777777777777778,
             "#fb9f3a"
            ],
            [
             0.8888888888888888,
             "#fdca26"
            ],
            [
             1,
             "#f0f921"
            ]
           ]
          },
          "colorway": [
           "#636efa",
           "#EF553B",
           "#00cc96",
           "#ab63fa",
           "#FFA15A",
           "#19d3f3",
           "#FF6692",
           "#B6E880",
           "#FF97FF",
           "#FECB52"
          ],
          "font": {
           "color": "#2a3f5f"
          },
          "geo": {
           "bgcolor": "white",
           "lakecolor": "white",
           "landcolor": "#E5ECF6",
           "showlakes": true,
           "showland": true,
           "subunitcolor": "white"
          },
          "hoverlabel": {
           "align": "left"
          },
          "hovermode": "closest",
          "mapbox": {
           "style": "light"
          },
          "paper_bgcolor": "white",
          "plot_bgcolor": "#E5ECF6",
          "polar": {
           "angularaxis": {
            "gridcolor": "white",
            "linecolor": "white",
            "ticks": ""
           },
           "bgcolor": "#E5ECF6",
           "radialaxis": {
            "gridcolor": "white",
            "linecolor": "white",
            "ticks": ""
           }
          },
          "scene": {
           "xaxis": {
            "backgroundcolor": "#E5ECF6",
            "gridcolor": "white",
            "gridwidth": 2,
            "linecolor": "white",
            "showbackground": true,
            "ticks": "",
            "zerolinecolor": "white"
           },
           "yaxis": {
            "backgroundcolor": "#E5ECF6",
            "gridcolor": "white",
            "gridwidth": 2,
            "linecolor": "white",
            "showbackground": true,
            "ticks": "",
            "zerolinecolor": "white"
           },
           "zaxis": {
            "backgroundcolor": "#E5ECF6",
            "gridcolor": "white",
            "gridwidth": 2,
            "linecolor": "white",
            "showbackground": true,
            "ticks": "",
            "zerolinecolor": "white"
           }
          },
          "shapedefaults": {
           "line": {
            "color": "#2a3f5f"
           }
          },
          "ternary": {
           "aaxis": {
            "gridcolor": "white",
            "linecolor": "white",
            "ticks": ""
           },
           "baxis": {
            "gridcolor": "white",
            "linecolor": "white",
            "ticks": ""
           },
           "bgcolor": "#E5ECF6",
           "caxis": {
            "gridcolor": "white",
            "linecolor": "white",
            "ticks": ""
           }
          },
          "title": {
           "x": 0.05
          },
          "xaxis": {
           "automargin": true,
           "gridcolor": "white",
           "linecolor": "white",
           "ticks": "",
           "title": {
            "standoff": 15
           },
           "zerolinecolor": "white",
           "zerolinewidth": 2
          },
          "yaxis": {
           "automargin": true,
           "gridcolor": "white",
           "linecolor": "white",
           "ticks": "",
           "title": {
            "standoff": 15
           },
           "zerolinecolor": "white",
           "zerolinewidth": 2
          }
         }
        },
        "yaxis": {
         "gridcolor": "LightGray",
         "gridwidth": 1,
         "showgrid": true,
         "title": {
          "text": "Relative Abundance"
         },
         "zeroline": true,
         "zerolinecolor": "Gray",
         "zerolinewidth": 1
        }
       }
      },
      "text/html": "<div>                            <div id=\"6e1b738b-0a50-4668-a608-698282df5b60\" class=\"plotly-graph-div\" style=\"height:525px; width:100%;\"></div>            <script type=\"text/javascript\">                require([\"plotly\"], function(Plotly) {                    window.PLOTLYENV=window.PLOTLYENV || {};                                    if (document.getElementById(\"6e1b738b-0a50-4668-a608-698282df5b60\")) {                    Plotly.newPlot(                        \"6e1b738b-0a50-4668-a608-698282df5b60\",                        [{\"marker\": {\"color\": \"rgb(0.050383, 0.029803, 0.527975)\", \"line\": {\"width\": 0}}, \"name\": \"Staphylococcus_epidermidis_ATCC_12228\", \"type\": \"bar\", \"x\": [\"barcode05\", \"barcode06\", \"barcode07\", \"barcode08\", \"barcode09\", \"barcode10\", \"barcode11\", \"barcode12\"], \"y\": [99.7433236086176, 84.0, 99.38103180648085, 58.839141472420955, 99.72801590694847, 99.61247242592262, 78.31956733271481, 59.8739629865986]}, {\"marker\": {\"color\": \"rgb(0.494877, 0.01199, 0.657865)\", \"line\": {\"width\": 0}}, \"name\": \"Staphylococcus_aureus_Sa113\", \"type\": \"bar\", \"x\": [\"barcode05\", \"barcode06\", \"barcode07\", \"barcode08\", \"barcode09\", \"barcode10\", \"barcode11\", \"barcode12\"], \"y\": [0.19776705565529623, 13.333333333333334, 0.07520174313784093, 40.90495648986574, 0.1329013181956328, 0.28063810034834896, 0.12264940825054875, 33.48064241650712]}, {\"marker\": {\"color\": \"rgb(0.798216, 0.280197, 0.469538)\", \"line\": {\"width\": 0}}, \"name\": \"Corynebacterium_striatum_ATCC_6940\", \"type\": \"bar\", \"x\": [\"barcode05\", \"barcode06\", \"barcode07\", \"barcode08\", \"barcode09\", \"barcode10\", \"barcode11\", \"barcode12\"], \"y\": [0.056104129263913824, 2.6666666666666665, 0.5389458258211934, 0.24775661476222152, 0.13805253207918447, 0.10476020134399673, 21.550089384716344, 6.643267389917039]}, {\"marker\": {\"color\": \"rgb(0.973416, 0.585761, 0.25154)\", \"line\": {\"width\": 0}}, \"name\": \"Cutibacterium_acnes_ATCC_11828\", \"type\": \"bar\", \"x\": [\"barcode05\", \"barcode06\", \"barcode07\", \"barcode08\", \"barcode09\", \"barcode10\", \"barcode11\", \"barcode12\"], \"y\": [0.0014026032315978456, 0.0, 0.0028923747360708055, 0.0006787852459238946, 0.0, 0.0, 0.0009051616845058948, 0.0]}, {\"marker\": {\"color\": \"rgb(0.940015, 0.975158, 0.131326)\", \"line\": {\"width\": 0}}, \"name\": \"Streptococcus_mitis_ATCC_49456\", \"type\": \"bar\", \"x\": [\"barcode05\", \"barcode06\", \"barcode07\", \"barcode08\", \"barcode09\", \"barcode10\", \"barcode11\", \"barcode12\"], \"y\": [0.0014026032315978456, 0.0, 0.0019282498240472035, 0.00746663770516284, 0.0010302427767103317, 0.002129272385040584, 0.006788712633794211, 0.0021272069772388853]}],                        {\"autosize\": true, \"bargroupgap\": 0.15, \"barmode\": \"stack\", \"legend\": {\"font\": {\"size\": 10}, \"valign\": \"middle\", \"y\": 0.5}, \"margin\": {\"b\": 15, \"t\": 15}, \"paper_bgcolor\": \"rgba(0,0,0,0)\", \"plot_bgcolor\": \"rgba(0,0,0,0)\", \"template\": {\"data\": {\"bar\": [{\"error_x\": {\"color\": \"#2a3f5f\"}, \"error_y\": {\"color\": \"#2a3f5f\"}, \"marker\": {\"line\": {\"color\": \"#E5ECF6\", \"width\": 0.5}}, \"type\": \"bar\"}], \"barpolar\": [{\"marker\": {\"line\": {\"color\": \"#E5ECF6\", \"width\": 0.5}}, \"type\": \"barpolar\"}], \"carpet\": [{\"aaxis\": {\"endlinecolor\": \"#2a3f5f\", \"gridcolor\": \"white\", \"linecolor\": \"white\", \"minorgridcolor\": \"white\", \"startlinecolor\": \"#2a3f5f\"}, \"baxis\": {\"endlinecolor\": \"#2a3f5f\", \"gridcolor\": \"white\", \"linecolor\": \"white\", \"minorgridcolor\": \"white\", \"startlinecolor\": \"#2a3f5f\"}, \"type\": \"carpet\"}], \"choropleth\": [{\"colorbar\": {\"outlinewidth\": 0, \"ticks\": \"\"}, \"type\": \"choropleth\"}], \"contour\": [{\"colorbar\": {\"outlinewidth\": 0, \"ticks\": \"\"}, \"colorscale\": [[0.0, \"#0d0887\"], [0.1111111111111111, \"#46039f\"], [0.2222222222222222, \"#7201a8\"], [0.3333333333333333, \"#9c179e\"], [0.4444444444444444, \"#bd3786\"], [0.5555555555555556, \"#d8576b\"], [0.6666666666666666, \"#ed7953\"], [0.7777777777777778, \"#fb9f3a\"], [0.8888888888888888, \"#fdca26\"], [1.0, \"#f0f921\"]], \"type\": \"contour\"}], \"contourcarpet\": [{\"colorbar\": {\"outlinewidth\": 0, \"ticks\": \"\"}, \"type\": \"contourcarpet\"}], \"heatmap\": [{\"colorbar\": {\"outlinewidth\": 0, \"ticks\": \"\"}, \"colorscale\": [[0.0, \"#0d0887\"], [0.1111111111111111, \"#46039f\"], [0.2222222222222222, \"#7201a8\"], [0.3333333333333333, \"#9c179e\"], [0.4444444444444444, \"#bd3786\"], [0.5555555555555556, \"#d8576b\"], [0.6666666666666666, \"#ed7953\"], [0.7777777777777778, \"#fb9f3a\"], [0.8888888888888888, \"#fdca26\"], [1.0, \"#f0f921\"]], \"type\": \"heatmap\"}], \"heatmapgl\": [{\"colorbar\": {\"outlinewidth\": 0, \"ticks\": \"\"}, \"colorscale\": [[0.0, \"#0d0887\"], [0.1111111111111111, \"#46039f\"], [0.2222222222222222, \"#7201a8\"], [0.3333333333333333, \"#9c179e\"], [0.4444444444444444, \"#bd3786\"], [0.5555555555555556, \"#d8576b\"], [0.6666666666666666, \"#ed7953\"], [0.7777777777777778, \"#fb9f3a\"], [0.8888888888888888, \"#fdca26\"], [1.0, \"#f0f921\"]], \"type\": \"heatmapgl\"}], \"histogram\": [{\"marker\": {\"colorbar\": {\"outlinewidth\": 0, \"ticks\": \"\"}}, \"type\": \"histogram\"}], \"histogram2d\": [{\"colorbar\": {\"outlinewidth\": 0, \"ticks\": \"\"}, \"colorscale\": [[0.0, \"#0d0887\"], [0.1111111111111111, \"#46039f\"], [0.2222222222222222, \"#7201a8\"], [0.3333333333333333, \"#9c179e\"], [0.4444444444444444, \"#bd3786\"], [0.5555555555555556, \"#d8576b\"], [0.6666666666666666, \"#ed7953\"], [0.7777777777777778, \"#fb9f3a\"], [0.8888888888888888, \"#fdca26\"], [1.0, \"#f0f921\"]], \"type\": \"histogram2d\"}], \"histogram2dcontour\": [{\"colorbar\": {\"outlinewidth\": 0, \"ticks\": \"\"}, \"colorscale\": [[0.0, \"#0d0887\"], [0.1111111111111111, \"#46039f\"], [0.2222222222222222, \"#7201a8\"], [0.3333333333333333, \"#9c179e\"], [0.4444444444444444, \"#bd3786\"], [0.5555555555555556, \"#d8576b\"], [0.6666666666666666, \"#ed7953\"], [0.7777777777777778, \"#fb9f3a\"], [0.8888888888888888, \"#fdca26\"], [1.0, \"#f0f921\"]], \"type\": \"histogram2dcontour\"}], \"mesh3d\": [{\"colorbar\": {\"outlinewidth\": 0, \"ticks\": \"\"}, \"type\": \"mesh3d\"}], \"parcoords\": [{\"line\": {\"colorbar\": {\"outlinewidth\": 0, \"ticks\": \"\"}}, \"type\": \"parcoords\"}], \"pie\": [{\"automargin\": true, \"type\": \"pie\"}], \"scatter\": [{\"marker\": {\"colorbar\": {\"outlinewidth\": 0, \"ticks\": \"\"}}, \"type\": \"scatter\"}], \"scatter3d\": [{\"line\": {\"colorbar\": {\"outlinewidth\": 0, \"ticks\": \"\"}}, \"marker\": {\"colorbar\": {\"outlinewidth\": 0, \"ticks\": \"\"}}, \"type\": \"scatter3d\"}], \"scattercarpet\": [{\"marker\": {\"colorbar\": {\"outlinewidth\": 0, \"ticks\": \"\"}}, \"type\": \"scattercarpet\"}], \"scattergeo\": [{\"marker\": {\"colorbar\": {\"outlinewidth\": 0, \"ticks\": \"\"}}, \"type\": \"scattergeo\"}], \"scattergl\": [{\"marker\": {\"colorbar\": {\"outlinewidth\": 0, \"ticks\": \"\"}}, \"type\": \"scattergl\"}], \"scattermapbox\": [{\"marker\": {\"colorbar\": {\"outlinewidth\": 0, \"ticks\": \"\"}}, \"type\": \"scattermapbox\"}], \"scatterpolar\": [{\"marker\": {\"colorbar\": {\"outlinewidth\": 0, \"ticks\": \"\"}}, \"type\": \"scatterpolar\"}], \"scatterpolargl\": [{\"marker\": {\"colorbar\": {\"outlinewidth\": 0, \"ticks\": \"\"}}, \"type\": \"scatterpolargl\"}], \"scatterternary\": [{\"marker\": {\"colorbar\": {\"outlinewidth\": 0, \"ticks\": \"\"}}, \"type\": \"scatterternary\"}], \"surface\": [{\"colorbar\": {\"outlinewidth\": 0, \"ticks\": \"\"}, \"colorscale\": [[0.0, \"#0d0887\"], [0.1111111111111111, \"#46039f\"], [0.2222222222222222, \"#7201a8\"], [0.3333333333333333, \"#9c179e\"], [0.4444444444444444, \"#bd3786\"], [0.5555555555555556, \"#d8576b\"], [0.6666666666666666, \"#ed7953\"], [0.7777777777777778, \"#fb9f3a\"], [0.8888888888888888, \"#fdca26\"], [1.0, \"#f0f921\"]], \"type\": \"surface\"}], \"table\": [{\"cells\": {\"fill\": {\"color\": \"#EBF0F8\"}, \"line\": {\"color\": \"white\"}}, \"header\": {\"fill\": {\"color\": \"#C8D4E3\"}, \"line\": {\"color\": \"white\"}}, \"type\": \"table\"}]}, \"layout\": {\"annotationdefaults\": {\"arrowcolor\": \"#2a3f5f\", \"arrowhead\": 0, \"arrowwidth\": 1}, \"coloraxis\": {\"colorbar\": {\"outlinewidth\": 0, \"ticks\": \"\"}}, \"colorscale\": {\"diverging\": [[0, \"#8e0152\"], [0.1, \"#c51b7d\"], [0.2, \"#de77ae\"], [0.3, \"#f1b6da\"], [0.4, \"#fde0ef\"], [0.5, \"#f7f7f7\"], [0.6, \"#e6f5d0\"], [0.7, \"#b8e186\"], [0.8, \"#7fbc41\"], [0.9, \"#4d9221\"], [1, \"#276419\"]], \"sequential\": [[0.0, \"#0d0887\"], [0.1111111111111111, \"#46039f\"], [0.2222222222222222, \"#7201a8\"], [0.3333333333333333, \"#9c179e\"], [0.4444444444444444, \"#bd3786\"], [0.5555555555555556, \"#d8576b\"], [0.6666666666666666, \"#ed7953\"], [0.7777777777777778, \"#fb9f3a\"], [0.8888888888888888, \"#fdca26\"], [1.0, \"#f0f921\"]], \"sequentialminus\": [[0.0, \"#0d0887\"], [0.1111111111111111, \"#46039f\"], [0.2222222222222222, \"#7201a8\"], [0.3333333333333333, \"#9c179e\"], [0.4444444444444444, \"#bd3786\"], [0.5555555555555556, \"#d8576b\"], [0.6666666666666666, \"#ed7953\"], [0.7777777777777778, \"#fb9f3a\"], [0.8888888888888888, \"#fdca26\"], [1.0, \"#f0f921\"]]}, \"colorway\": [\"#636efa\", \"#EF553B\", \"#00cc96\", \"#ab63fa\", \"#FFA15A\", \"#19d3f3\", \"#FF6692\", \"#B6E880\", \"#FF97FF\", \"#FECB52\"], \"font\": {\"color\": \"#2a3f5f\"}, \"geo\": {\"bgcolor\": \"white\", \"lakecolor\": \"white\", \"landcolor\": \"#E5ECF6\", \"showlakes\": true, \"showland\": true, \"subunitcolor\": \"white\"}, \"hoverlabel\": {\"align\": \"left\"}, \"hovermode\": \"closest\", \"mapbox\": {\"style\": \"light\"}, \"paper_bgcolor\": \"white\", \"plot_bgcolor\": \"#E5ECF6\", \"polar\": {\"angularaxis\": {\"gridcolor\": \"white\", \"linecolor\": \"white\", \"ticks\": \"\"}, \"bgcolor\": \"#E5ECF6\", \"radialaxis\": {\"gridcolor\": \"white\", \"linecolor\": \"white\", \"ticks\": \"\"}}, \"scene\": {\"xaxis\": {\"backgroundcolor\": \"#E5ECF6\", \"gridcolor\": \"white\", \"gridwidth\": 2, \"linecolor\": \"white\", \"showbackground\": true, \"ticks\": \"\", \"zerolinecolor\": \"white\"}, \"yaxis\": {\"backgroundcolor\": \"#E5ECF6\", \"gridcolor\": \"white\", \"gridwidth\": 2, \"linecolor\": \"white\", \"showbackground\": true, \"ticks\": \"\", \"zerolinecolor\": \"white\"}, \"zaxis\": {\"backgroundcolor\": \"#E5ECF6\", \"gridcolor\": \"white\", \"gridwidth\": 2, \"linecolor\": \"white\", \"showbackground\": true, \"ticks\": \"\", \"zerolinecolor\": \"white\"}}, \"shapedefaults\": {\"line\": {\"color\": \"#2a3f5f\"}}, \"ternary\": {\"aaxis\": {\"gridcolor\": \"white\", \"linecolor\": \"white\", \"ticks\": \"\"}, \"baxis\": {\"gridcolor\": \"white\", \"linecolor\": \"white\", \"ticks\": \"\"}, \"bgcolor\": \"#E5ECF6\", \"caxis\": {\"gridcolor\": \"white\", \"linecolor\": \"white\", \"ticks\": \"\"}}, \"title\": {\"x\": 0.05}, \"xaxis\": {\"automargin\": true, \"gridcolor\": \"white\", \"linecolor\": \"white\", \"ticks\": \"\", \"title\": {\"standoff\": 15}, \"zerolinecolor\": \"white\", \"zerolinewidth\": 2}, \"yaxis\": {\"automargin\": true, \"gridcolor\": \"white\", \"linecolor\": \"white\", \"ticks\": \"\", \"title\": {\"standoff\": 15}, \"zerolinecolor\": \"white\", \"zerolinewidth\": 2}}}, \"yaxis\": {\"gridcolor\": \"LightGray\", \"gridwidth\": 1, \"showgrid\": true, \"title\": {\"text\": \"Relative Abundance\"}, \"zeroline\": true, \"zerolinecolor\": \"Gray\", \"zerolinewidth\": 1}},                        {\"responsive\": true}                    ).then(function(){\n                            \nvar gd = document.getElementById('6e1b738b-0a50-4668-a608-698282df5b60');\nvar x = new MutationObserver(function (mutations, observer) {{\n        var display = window.getComputedStyle(gd).display;\n        if (!display || display === 'none') {{\n            console.log([gd, 'removed!']);\n            Plotly.purge(gd);\n            observer.disconnect();\n        }}\n}});\n\n// Listen for the removal of the full notebook cells\nvar notebookContainer = gd.closest('#notebook-container');\nif (notebookContainer) {{\n    x.observe(notebookContainer, {childList: true});\n}}\n\n// Listen for the clearing of the current output cell\nvar outputEl = gd.closest('.output');\nif (outputEl) {{\n    x.observe(outputEl, {childList: true});\n}}\n\n                        })                };                });            </script>        </div>"
     },
     "metadata": {}
    },
    {
     "output_type": "stream",
     "name": "stdout",
     "text": [
      "None\n"
     ]
    }
   ],
   "source": [
    "###Actually plot figures\n",
    "#fig, ax1 = plt.subplots()\n",
    "layout = go.Layout(\n",
    "    paper_bgcolor='rgba(0,0,0,0)',\n",
    "    plot_bgcolor='rgba(0,0,0,0)'\n",
    ")\n",
    "\n",
    "fig = go.Figure(layout=layout)\n",
    "for i, col in enumerate(norm_df.columns):\n",
    "    fig.add_trace(go.Bar(x=barcode_names,y=norm_df[col],name=legend_names[i],marker_color=colors[i], marker=dict(line=dict(width=0))))\n",
    "fig.update_layout(barmode=\"stack\", autosize=True, bargroupgap=0.15, margin=dict(t=15,b=15), legend=dict(font=dict(size=10),valign=\"middle\",y = 0.5))\n",
    "fig.update_yaxes(title_text=\"Relative Abundance\",zeroline=True, zerolinewidth=1, zerolinecolor=\"Gray\",showgrid=True, gridwidth=1, gridcolor='LightGray')\n",
    "\n",
    "fig.show()\n",
    "print(fig.layout.width)"
   ]
  },
  {
   "cell_type": "code",
   "execution_count": null,
   "metadata": {},
   "outputs": [],
   "source": []
  },
  {
   "cell_type": "code",
   "execution_count": 37,
   "metadata": {},
   "outputs": [
    {
     "output_type": "error",
     "ename": "NameError",
     "evalue": "name 'a' is not defined",
     "traceback": [
      "\u001b[0;31m---------------------------------------------------------------------------\u001b[0m",
      "\u001b[0;31mNameError\u001b[0m                                 Traceback (most recent call last)",
      "\u001b[0;32m<ipython-input-37-cd54af511e6b>\u001b[0m in \u001b[0;36m<module>\u001b[0;34m\u001b[0m\n\u001b[1;32m      4\u001b[0m \u001b[0;34m\u001b[0m\u001b[0m\n\u001b[1;32m      5\u001b[0m \u001b[0;34m\u001b[0m\u001b[0m\n\u001b[0;32m----> 6\u001b[0;31m \u001b[0ma\u001b[0m\u001b[0;34m.\u001b[0m\u001b[0mset_xticklabels\u001b[0m\u001b[0;34m(\u001b[0m\u001b[0mxlabs\u001b[0m\u001b[0;34m,\u001b[0m\u001b[0mrotation\u001b[0m\u001b[0;34m=\u001b[0m\u001b[0;36m0\u001b[0m\u001b[0;34m)\u001b[0m\u001b[0;34m\u001b[0m\u001b[0;34m\u001b[0m\u001b[0m\n\u001b[0m\u001b[1;32m      7\u001b[0m \u001b[0ma\u001b[0m\u001b[0;34m.\u001b[0m\u001b[0mlegend\u001b[0m\u001b[0;34m(\u001b[0m\u001b[0mlabels\u001b[0m\u001b[0;34m=\u001b[0m\u001b[0mlegend_names\u001b[0m \u001b[0;34m,\u001b[0m\u001b[0mloc\u001b[0m\u001b[0;34m=\u001b[0m\u001b[0;34m'center left'\u001b[0m\u001b[0;34m,\u001b[0m \u001b[0mbbox_to_anchor\u001b[0m\u001b[0;34m=\u001b[0m\u001b[0;34m(\u001b[0m\u001b[0;36m1\u001b[0m\u001b[0;34m,\u001b[0m \u001b[0;36m0.5\u001b[0m\u001b[0;34m)\u001b[0m\u001b[0;34m)\u001b[0m \u001b[0;31m###Sets legend outside figure and with organism names\u001b[0m\u001b[0;34m\u001b[0m\u001b[0;34m\u001b[0m\u001b[0m\n\u001b[1;32m      8\u001b[0m \u001b[0ma\u001b[0m\u001b[0;34m.\u001b[0m\u001b[0mset_ylabel\u001b[0m\u001b[0;34m(\u001b[0m\u001b[0;34m'Relative Abundance'\u001b[0m\u001b[0;34m)\u001b[0m\u001b[0;34m\u001b[0m\u001b[0;34m\u001b[0m\u001b[0m\n",
      "\u001b[0;31mNameError\u001b[0m: name 'a' is not defined"
     ]
    }
   ],
   "source": [
    "name = input('\\nSave figure as: ')\n",
    "fig.savefig(name, bbox_inches = 'tight', dpi=500)\n",
    "master_df.to_csv(name.split(\".\")[0] +'_master.csv', index=False, header=True, sep=',')\n",
    "norm_df.to_csv(name.split(\".\")[0] +'_norm.csv', index=False, header=True, sep=',')"
   ]
  },
  {
   "cell_type": "code",
   "execution_count": null,
   "metadata": {},
   "outputs": [],
   "source": []
  }
 ],
 "metadata": {
  "kernelspec": {
   "display_name": "env",
   "language": "python",
   "name": "env"
  },
  "language_info": {
   "codemirror_mode": {
    "name": "ipython",
    "version": 3
   },
   "file_extension": ".py",
   "mimetype": "text/x-python",
   "name": "python",
   "nbconvert_exporter": "python",
   "pygments_lexer": "ipython3",
   "version": "3.8.6-final"
  }
 },
 "nbformat": 4,
 "nbformat_minor": 4
}