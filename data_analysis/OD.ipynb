{
 "cells": [
  {
   "cell_type": "code",
   "execution_count": 1,
   "metadata": {},
   "outputs": [],
   "source": [
    "import pandas as pd\n",
    "import easygui as eg\n",
    "import datetime as dt\n",
    "import time\n",
    "import matplotlib.pyplot as plt\n"
   ]
  },
  {
   "cell_type": "code",
   "execution_count": 2,
   "metadata": {},
   "outputs": [],
   "source": [
    "###Import data and perform initial trims (must be .xlsx file)\n",
    "file_path = eg.fileopenbox(msg=\"Please select an Excel file with raw kinetic OD data\")\n",
    "df = pd.read_excel(file_path,header=26) #Save Excel data in dataframe\n",
    "cut_row = df.index.get_loc(df.index[df['Unnamed: 0'] == \"Results\"][0]) - 2 #Trim Results from dataframe\n",
    "df = df.iloc[:cut_row,1:] #Cut dataframe to region of data\n",
    "df = df.dropna(how='all',axis='columns') #Remove columns with no date"
   ]
  },
  {
   "cell_type": "code",
   "execution_count": 3,
   "metadata": {},
   "outputs": [
    {
     "name": "stderr",
     "output_type": "stream",
     "text": [
      "/home/ddooley/.local/lib/python3.8/site-packages/pandas/core/indexing.py:671: SettingWithCopyWarning: \n",
      "A value is trying to be set on a copy of a slice from a DataFrame\n",
      "\n",
      "See the caveats in the documentation: https://pandas.pydata.org/pandas-docs/stable/user_guide/indexing.html#returning-a-view-versus-a-copy\n",
      "  self._setitem_with_indexer(indexer, value)\n"
     ]
    }
   ],
   "source": [
    "###Convert time to decimal hours format\n",
    "for i,time in enumerate(df['Time']):\n",
    "    df['Time'].iloc[i] = float(time.hour + (time.minute/60))"
   ]
  },
  {
   "cell_type": "code",
   "execution_count": 4,
   "metadata": {},
   "outputs": [
    {
     "name": "stdout",
     "output_type": "stream",
     "text": [
      "\n",
      "Enter any blank columns in a comma-separated list: B4, C4, D4, E4\n"
     ]
    }
   ],
   "source": [
    "###Enter blank columns\n",
    "b = input(\"\\nEnter any blank columns in a comma-separated list: \")\n",
    "blanks = []\n",
    "for ind in b.split(\",\"):\n",
    "    blanks.append(ind.strip())\n",
    "\n",
    "###Remove blank columns\n",
    "for col in blanks:\n",
    "    df = df.drop([col], axis='columns')"
   ]
  },
  {
   "cell_type": "code",
   "execution_count": 5,
   "metadata": {},
   "outputs": [
    {
     "name": "stdout",
     "output_type": "stream",
     "text": [
      "\n",
      "Enter any control columns in a comma-separated list: A1, A2, A3, A4\n"
     ]
    }
   ],
   "source": [
    "###Enter control columns\n",
    "c = input(\"\\nEnter any control columns in a comma-separated list: \")\n",
    "controls = []\n",
    "for ind in c.split(\",\"):\n",
    "    controls.append(ind.strip())"
   ]
  },
  {
   "cell_type": "code",
   "execution_count": 6,
   "metadata": {},
   "outputs": [
    {
     "name": "stdout",
     "output_type": "stream",
     "text": [
      "\n",
      "Would you like to add a data series? y\n",
      "\n",
      "Enter the name for this data series: LB\n",
      "\n",
      "Enter the column(s) containing OD data for this series (separated by commas if in replicates): B1, B2, B3\n",
      "\n",
      "Would you like to add a data series? y\n",
      "\n",
      "Enter the name for this data series: YPD\n",
      "\n",
      "Enter the column(s) containing OD data for this series (separated by commas if in replicates): C1, C2, C3\n",
      "\n",
      "Would you like to add a data series? y\n",
      "\n",
      "Enter the name for this data series: TSB\n",
      "\n",
      "Enter the column(s) containing OD data for this series (separated by commas if in replicates): D1, D2, D3\n",
      "\n",
      "Would you like to add a data series? y\n",
      "\n",
      "Enter the name for this data series: MYD\n",
      "\n",
      "Enter the column(s) containing OD data for this series (separated by commas if in replicates): E1, E2, E3\n",
      "\n",
      "Would you like to add a data series? n\n"
     ]
    }
   ],
   "source": [
    "###Enter data series\n",
    "series_bool = True\n",
    "names=[]\n",
    "while series_bool:\n",
    "    ans = str(input(\"\\nWould you like to add a data series? \"))\n",
    "    if (ans == \"yes\" or ans == \"y\" or ans == \"Y\" or ans == \"Yes\" or ans == \"YES\"):\n",
    "        data = []\n",
    "        name = input(\"\\nEnter the name for this data series: \")\n",
    "        d = input(\"\\nEnter the column(s) containing OD data for this series (separated by commas if in replicates): \")\n",
    "        for ind in d.split(\",\"):\n",
    "            data.append(ind.strip())\n",
    "        if len(d) > 1:\n",
    "            df[name+'_avg']=df.loc[:,data].mean(axis=1) #Average duplicates, triplicates, etc.\n",
    "            names.append(name+'_avg') #Save name of series to list\n",
    "        else:\n",
    "            df[name+'_avg']=df[data]\n",
    "    else:\n",
    "        series_bool = False"
   ]
  },
  {
   "cell_type": "code",
   "execution_count": 7,
   "metadata": {
    "scrolled": true
   },
   "outputs": [
    {
     "data": {
      "image/png": "[encoded data removed]",
      "text/plain": [
       "<Figure size 432x288 with 1 Axes>"
      ]
     },
     "metadata": {
      "needs_background": "light"
     },
     "output_type": "display_data"
    }
   ],
   "source": [
    "ax = plt.gca()\n",
    "\n",
    "df.plot(x='Time', y=names, cmap = 'tab20', ax=ax)\n",
    "df.plot(x='Time',y=controls, cmap = 'tab20b', ax=ax)\n",
    "plt.show()\n"
   ]
  },
  {
   "cell_type": "code",
   "execution_count": null,
   "metadata": {
    "scrolled": true
   },
   "outputs": [],
   "source": []
  },
  {
   "cell_type": "code",
   "execution_count": null,
   "metadata": {},
   "outputs": [],
   "source": []
  },
  {
   "cell_type": "code",
   "execution_count": null,
   "metadata": {},
   "outputs": [],
   "source": []
  }
 ],
 "metadata": {
  "kernelspec": {
   "display_name": "Python 3",
   "language": "python",
   "name": "python3"
  },
  "language_info": {
   "codemirror_mode": {
    "name": "ipython",
    "version": 3
   },
   "file_extension": ".py",
   "mimetype": "text/x-python",
   "name": "python",
   "nbconvert_exporter": "python",
   "pygments_lexer": "ipython3",
   "version": "3.8.2"
  }
 },
 "nbformat": 4,
 "nbformat_minor": 4
}
