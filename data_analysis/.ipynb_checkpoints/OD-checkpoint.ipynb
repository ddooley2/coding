{
 "cells": [
  {
   "cell_type": "code",
   "execution_count": 1,
   "metadata": {},
   "outputs": [],
   "source": [
    "import pandas as pd\n",
    "import easygui as eg\n",
    "import datetime as dt\n",
    "import time\n",
    "import matplotlib.pyplot as plt\n"
   ]
  },
  {
   "cell_type": "code",
   "execution_count": 2,
   "metadata": {},
   "outputs": [],
   "source": [
    "###Import data and perform initial trims (must be .xlsx file)\n",
    "file_path = eg.fileopenbox(msg=\"Please select an Excel file with raw kinetic OD data\")\n",
    "df = pd.read_excel(file_path,header=26) #Save Excel data in dataframe\n",
    "cut_row = df.index.get_loc(df.index[df['Unnamed: 0'] == \"Results\"][0]) - 2 #Trim Results from dataframe\n",
    "df = df.iloc[:cut_row,1:] #Cut dataframe to region of data\n",
    "df = df.dropna(how='all',axis='columns') #Remove columns with no date"
   ]
  },
  {
   "cell_type": "code",
   "execution_count": 3,
   "metadata": {},
   "outputs": [
    {
     "name": "stderr",
     "output_type": "stream",
     "text": [
      "/home/ddooley/.local/lib/python3.8/site-packages/pandas/core/indexing.py:671: SettingWithCopyWarning: \n",
      "A value is trying to be set on a copy of a slice from a DataFrame\n",
      "\n",
      "See the caveats in the documentation: https://pandas.pydata.org/pandas-docs/stable/user_guide/indexing.html#returning-a-view-versus-a-copy\n",
      "  self._setitem_with_indexer(indexer, value)\n"
     ]
    }
   ],
   "source": [
    "###Convert time to decimal hours format\n",
    "for i,time in enumerate(df['Time']):\n",
    "    df['Time'].iloc[i] = float(time.hour + (time.minute/60))"
   ]
  },
  {
   "cell_type": "code",
   "execution_count": 4,
   "metadata": {},
   "outputs": [
    {
     "name": "stdout",
     "output_type": "stream",
     "text": [
      "       Time T° 600     A1    A2     A3     A4     B1     B2     B3    B4  ...  \\\n",
      "0         0     37  0.089  0.09  0.087  0.088  0.218  0.202  0.210  0.09  ...   \n",
      "1  0.116667     37  0.088  0.09  0.088  0.088  0.211  0.203  0.211  0.09  ...   \n",
      "2  0.233333     37  0.088  0.09  0.088  0.088  0.211  0.206  0.215  0.09  ...   \n",
      "3      0.35     37  0.088  0.09  0.088  0.088  0.218  0.213  0.222  0.09  ...   \n",
      "4  0.466667     37  0.089  0.09  0.088  0.088  0.226  0.222  0.233  0.09  ...   \n",
      "5  0.583333     37  0.088  0.09  0.088  0.088  0.236  0.234  0.245  0.09  ...   \n",
      "6       0.7     37  0.088  0.09  0.088  0.088  0.245  0.244  0.256  0.09  ...   \n",
      "7  0.816667     37  0.089  0.09  0.088  0.088  0.258  0.257  0.269  0.09  ...   \n",
      "8  0.933333     37  0.088  0.09  0.088  0.088  0.270  0.269  0.282  0.09  ...   \n",
      "9      1.05     37  0.089  0.09  0.088  0.088  0.283  0.283  0.295  0.09  ...   \n",
      "\n",
      "      C3     C4     D1     D2     D3     D4     E1     E2     E3     E4  \n",
      "0  0.103  0.088  0.089  0.089  0.091  0.090  0.103  0.104  0.103  0.087  \n",
      "1  0.104  0.088  0.089  0.090  0.091  0.090  0.103  0.104  0.103  0.087  \n",
      "2  0.104  0.088  0.089  0.090  0.090  0.090  0.104  0.104  0.104  0.087  \n",
      "3  0.106  0.088  0.089  0.090  0.090  0.089  0.104  0.105  0.104  0.087  \n",
      "4  0.107  0.088  0.090  0.090  0.091  0.090  0.105  0.106  0.105  0.087  \n",
      "5  0.109  0.088  0.090  0.090  0.091  0.090  0.106  0.107  0.106  0.087  \n",
      "6  0.111  0.088  0.090  0.091  0.091  0.090  0.107  0.108  0.107  0.087  \n",
      "7  0.112  0.088  0.090  0.091  0.091  0.090  0.108  0.110  0.108  0.087  \n",
      "8  0.114  0.088  0.090  0.091  0.091  0.090  0.110  0.112  0.110  0.087  \n",
      "9  0.116  0.088  0.090  0.091  0.091  0.090  0.112  0.114  0.112  0.087  \n",
      "\n",
      "[10 rows x 22 columns]\n",
      "\n",
      "Enter any blank columns in a comma-separated list: B4, C4, D4, E4\n"
     ]
    }
   ],
   "source": [
    "###Enter blank columns\n",
    "print(df.head(10)) #Show data to aid in column selection\n",
    "\n",
    "b = input(\"\\nEnter any blank columns in a comma-separated list: \")\n",
    "blanks = []\n",
    "for ind in b.split(\",\"):\n",
    "    blanks.append(ind.strip())\n",
    "\n",
    "###Remove blank columns\n",
    "for col in blanks:\n",
    "    df = df.drop([col], axis='columns')"
   ]
  },
  {
   "cell_type": "code",
   "execution_count": 5,
   "metadata": {},
   "outputs": [
    {
     "name": "stdout",
     "output_type": "stream",
     "text": [
      "\n",
      "Enter any control columns in a comma-separated list: A1, A2, A3, A4\n",
      "\n",
      "Enter names for control column(s) in a comma-separated list: LB control, YPD control, TSB control, MYD control\n",
      "['LB control', 'YPD control', 'TSB control', 'MYD control']\n"
     ]
    }
   ],
   "source": [
    "###Enter control columns\n",
    "c = input(\"\\nEnter any control columns in a comma-separated list: \")\n",
    "c_n = input(\"\\nEnter names for control column(s) in a comma-separated list: \")\n",
    "controls = []\n",
    "control_names = []\n",
    "for i, col in enumerate(c.split(\",\")):\n",
    "    controls.append(col.strip())\n",
    "    control_names.append(c_n.split(\",\")[i].strip())\n",
    "print(control_names)"
   ]
  },
  {
   "cell_type": "code",
   "execution_count": 6,
   "metadata": {},
   "outputs": [
    {
     "name": "stdout",
     "output_type": "stream",
     "text": [
      "\n",
      "Would you like to add a data series? y\n",
      "\n",
      "Enter the name for this data series: LB+ATCC\n",
      "\n",
      "Enter the column(s) containing OD data for this series (separated by commas if in replicates): B1, B2, B3\n",
      "\n",
      "Would you like to add a data series? y\n",
      "\n",
      "Enter the name for this data series: YPD+ATCC\n",
      "\n",
      "Enter the column(s) containing OD data for this series (separated by commas if in replicates): C1, C2, C3\n",
      "\n",
      "Would you like to add a data series? y\n",
      "\n",
      "Enter the name for this data series: TSB+ATCC\n",
      "\n",
      "Enter the column(s) containing OD data for this series (separated by commas if in replicates): D1, D2, D3\n",
      "\n",
      "Would you like to add a data series? y\n",
      "\n",
      "Enter the name for this data series: MYD+ATCC\n",
      "\n",
      "Enter the column(s) containing OD data for this series (separated by commas if in replicates): E1, E2, E3\n",
      "\n",
      "Would you like to add a data series? n\n"
     ]
    }
   ],
   "source": [
    "###Enter data series\n",
    "series_bool = True\n",
    "names=[]\n",
    "while series_bool:\n",
    "    ans = str(input(\"\\nWould you like to add a data series? \"))\n",
    "    if (ans == \"yes\" or ans == \"y\" or ans == \"Y\" or ans == \"Yes\" or ans == \"YES\"):\n",
    "        data = []\n",
    "        name = input(\"\\nEnter the name for this data series: \")\n",
    "        d = input(\"\\nEnter the column(s) containing OD data for this series (separated by commas if in replicates): \")\n",
    "        for ind in d.split(\",\"):\n",
    "            data.append(ind.strip())\n",
    "        if len(d) > 1:\n",
    "            df[name+'_avg']=df.loc[:,data].mean(axis=1) #Average duplicates, triplicates, etc.\n",
    "            names.append(name+'_avg') #Save name of series to list\n",
    "        else:\n",
    "            df[name+'_avg']=df[data]\n",
    "    else:\n",
    "        series_bool = False"
   ]
  },
  {
   "cell_type": "code",
   "execution_count": 10,
   "metadata": {
    "scrolled": true
   },
   "outputs": [
    {
     "data": {
      "image/png": "[encoded data removed]",
      "text/plain": [
       "<Figure size 432x288 with 1 Axes>"
      ]
     },
     "metadata": {
      "needs_background": "light"
     },
     "output_type": "display_data"
    }
   ],
   "source": [
    "ax = plt.gca()\n",
    "\n",
    "df.plot(x='Time', y=names, cmap = 'tab20', ax=ax)\n",
    "df.plot(x='Time',y=controls, cmap = 'tab20b', ax=ax)\n",
    "plt.xlabel(\"Time (hr)\")\n",
    "plt.ylabel(\"OD$^{600}$\")\n",
    "plt.legend(names+control_names, loc='center left', bbox_to_anchor=(1,0.5))\n",
    "\n",
    "plt.show()\n"
   ]
  },
  {
   "cell_type": "code",
   "execution_count": null,
   "metadata": {},
   "outputs": [],
   "source": []
  }
 ],
 "metadata": {
  "kernelspec": {
   "display_name": "Python 3",
   "language": "python",
   "name": "python3"
  },
  "language_info": {
   "codemirror_mode": {
    "name": "ipython",
    "version": 3
   },
   "file_extension": ".py",
   "mimetype": "text/x-python",
   "name": "python",
   "nbconvert_exporter": "python",
   "pygments_lexer": "ipython3",
   "version": "3.8.2"
  }
 },
 "nbformat": 4,
 "nbformat_minor": 4
}
